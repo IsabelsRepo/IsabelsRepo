{
 "cells": [
  {
   "cell_type": "markdown",
   "id": "ea4d27e4-e9cf-4951-a4ae-83988dbf1905",
   "metadata": {},
   "source": [
    "# Unsolved Homicides"
   ]
  },
  {
   "cell_type": "markdown",
   "id": "53eab383-e6dd-4635-8a0c-3501d4d50cef",
   "metadata": {},
   "source": [
    "## The Plan\n",
    "### Scrape data from OH-AG website\n",
    "- [x] Don't break their website\n",
    "- [x] Create dataframe of cases\n",
    "### Basic stats\n",
    "- Bar graph of cases?\n",
    "- oldest case\n",
    "- avg / median age of case\n",
    "    - distribution plot + highlight median value\n",
    "- avg / median age of victim\n",
    "- oldest / youngest victims\n",
    "- pie chart of ethnicity\n",
    "- Age of case vs Agency\n",
    "### GIS\n",
    "- Map cases\n",
    "    - Different symbol for different gender\n",
    "    - Decreasing color value for 0-4, 5-9, 1-14, +15 year old cases\n",
    "- Heat map by neighborhood\n",
    "    - by street / block\n",
    "- Time of day vs location\n",
    "## Other\n",
    " - [x] Manually extract age from ['details']\n",
    "     - [ ] Manually extract homicide method? eg; knife, gun? There's ~500 entries....\n",
    "     - surprising / depressing number of infant homicides & entire families\n",
    " - [ ] Histogram\n",
    "     - [x] by Age\n",
    "     - [ ] Time since incident\n",
    "     - [ ] Time of Day\n",
    "     - [ ] Month\n",
    "     - [x] Sex\n",
    " - [ ] Correlogram ?\n",
    " - [ ] Summary statistics\n",
    " - I'll probably have to clean up the ['Incident location'] data in order to use it in mapping. I *should* be able to automate it\n",
    "     - [ ] clean location data ?"
   ]
  },
  {
   "cell_type": "code",
   "execution_count": 415,
   "id": "007b1ab4-f7d3-4574-8740-63785d922d4d",
   "metadata": {},
   "outputs": [
    {
     "data": {
      "text/html": [
       "<div class=\"bk-root\">\n",
       "        <a href=\"https://bokeh.org\" target=\"_blank\" class=\"bk-logo bk-logo-small bk-logo-notebook\"></a>\n",
       "        <span id=\"8484\">Loading BokehJS ...</span>\n",
       "    </div>\n"
      ]
     },
     "metadata": {},
     "output_type": "display_data"
    },
    {
     "data": {
      "application/javascript": [
       "(function(root) {\n",
       "  function now() {\n",
       "    return new Date();\n",
       "  }\n",
       "\n",
       "  const force = true;\n",
       "\n",
       "  if (typeof root._bokeh_onload_callbacks === \"undefined\" || force === true) {\n",
       "    root._bokeh_onload_callbacks = [];\n",
       "    root._bokeh_is_loading = undefined;\n",
       "  }\n",
       "\n",
       "const JS_MIME_TYPE = 'application/javascript';\n",
       "  const HTML_MIME_TYPE = 'text/html';\n",
       "  const EXEC_MIME_TYPE = 'application/vnd.bokehjs_exec.v0+json';\n",
       "  const CLASS_NAME = 'output_bokeh rendered_html';\n",
       "\n",
       "  /**\n",
       "   * Render data to the DOM node\n",
       "   */\n",
       "  function render(props, node) {\n",
       "    const script = document.createElement(\"script\");\n",
       "    node.appendChild(script);\n",
       "  }\n",
       "\n",
       "  /**\n",
       "   * Handle when an output is cleared or removed\n",
       "   */\n",
       "  function handleClearOutput(event, handle) {\n",
       "    const cell = handle.cell;\n",
       "\n",
       "    const id = cell.output_area._bokeh_element_id;\n",
       "    const server_id = cell.output_area._bokeh_server_id;\n",
       "    // Clean up Bokeh references\n",
       "    if (id != null && id in Bokeh.index) {\n",
       "      Bokeh.index[id].model.document.clear();\n",
       "      delete Bokeh.index[id];\n",
       "    }\n",
       "\n",
       "    if (server_id !== undefined) {\n",
       "      // Clean up Bokeh references\n",
       "      const cmd_clean = \"from bokeh.io.state import curstate; print(curstate().uuid_to_server['\" + server_id + \"'].get_sessions()[0].document.roots[0]._id)\";\n",
       "      cell.notebook.kernel.execute(cmd_clean, {\n",
       "        iopub: {\n",
       "          output: function(msg) {\n",
       "            const id = msg.content.text.trim();\n",
       "            if (id in Bokeh.index) {\n",
       "              Bokeh.index[id].model.document.clear();\n",
       "              delete Bokeh.index[id];\n",
       "            }\n",
       "          }\n",
       "        }\n",
       "      });\n",
       "      // Destroy server and session\n",
       "      const cmd_destroy = \"import bokeh.io.notebook as ion; ion.destroy_server('\" + server_id + \"')\";\n",
       "      cell.notebook.kernel.execute(cmd_destroy);\n",
       "    }\n",
       "  }\n",
       "\n",
       "  /**\n",
       "   * Handle when a new output is added\n",
       "   */\n",
       "  function handleAddOutput(event, handle) {\n",
       "    const output_area = handle.output_area;\n",
       "    const output = handle.output;\n",
       "\n",
       "    // limit handleAddOutput to display_data with EXEC_MIME_TYPE content only\n",
       "    if ((output.output_type != \"display_data\") || (!Object.prototype.hasOwnProperty.call(output.data, EXEC_MIME_TYPE))) {\n",
       "      return\n",
       "    }\n",
       "\n",
       "    const toinsert = output_area.element.find(\".\" + CLASS_NAME.split(' ')[0]);\n",
       "\n",
       "    if (output.metadata[EXEC_MIME_TYPE][\"id\"] !== undefined) {\n",
       "      toinsert[toinsert.length - 1].firstChild.textContent = output.data[JS_MIME_TYPE];\n",
       "      // store reference to embed id on output_area\n",
       "      output_area._bokeh_element_id = output.metadata[EXEC_MIME_TYPE][\"id\"];\n",
       "    }\n",
       "    if (output.metadata[EXEC_MIME_TYPE][\"server_id\"] !== undefined) {\n",
       "      const bk_div = document.createElement(\"div\");\n",
       "      bk_div.innerHTML = output.data[HTML_MIME_TYPE];\n",
       "      const script_attrs = bk_div.children[0].attributes;\n",
       "      for (let i = 0; i < script_attrs.length; i++) {\n",
       "        toinsert[toinsert.length - 1].firstChild.setAttribute(script_attrs[i].name, script_attrs[i].value);\n",
       "        toinsert[toinsert.length - 1].firstChild.textContent = bk_div.children[0].textContent\n",
       "      }\n",
       "      // store reference to server id on output_area\n",
       "      output_area._bokeh_server_id = output.metadata[EXEC_MIME_TYPE][\"server_id\"];\n",
       "    }\n",
       "  }\n",
       "\n",
       "  function register_renderer(events, OutputArea) {\n",
       "\n",
       "    function append_mime(data, metadata, element) {\n",
       "      // create a DOM node to render to\n",
       "      const toinsert = this.create_output_subarea(\n",
       "        metadata,\n",
       "        CLASS_NAME,\n",
       "        EXEC_MIME_TYPE\n",
       "      );\n",
       "      this.keyboard_manager.register_events(toinsert);\n",
       "      // Render to node\n",
       "      const props = {data: data, metadata: metadata[EXEC_MIME_TYPE]};\n",
       "      render(props, toinsert[toinsert.length - 1]);\n",
       "      element.append(toinsert);\n",
       "      return toinsert\n",
       "    }\n",
       "\n",
       "    /* Handle when an output is cleared or removed */\n",
       "    events.on('clear_output.CodeCell', handleClearOutput);\n",
       "    events.on('delete.Cell', handleClearOutput);\n",
       "\n",
       "    /* Handle when a new output is added */\n",
       "    events.on('output_added.OutputArea', handleAddOutput);\n",
       "\n",
       "    /**\n",
       "     * Register the mime type and append_mime function with output_area\n",
       "     */\n",
       "    OutputArea.prototype.register_mime_type(EXEC_MIME_TYPE, append_mime, {\n",
       "      /* Is output safe? */\n",
       "      safe: true,\n",
       "      /* Index of renderer in `output_area.display_order` */\n",
       "      index: 0\n",
       "    });\n",
       "  }\n",
       "\n",
       "  // register the mime type if in Jupyter Notebook environment and previously unregistered\n",
       "  if (root.Jupyter !== undefined) {\n",
       "    const events = require('base/js/events');\n",
       "    const OutputArea = require('notebook/js/outputarea').OutputArea;\n",
       "\n",
       "    if (OutputArea.prototype.mime_types().indexOf(EXEC_MIME_TYPE) == -1) {\n",
       "      register_renderer(events, OutputArea);\n",
       "    }\n",
       "  }\n",
       "  if (typeof (root._bokeh_timeout) === \"undefined\" || force === true) {\n",
       "    root._bokeh_timeout = Date.now() + 5000;\n",
       "    root._bokeh_failed_load = false;\n",
       "  }\n",
       "\n",
       "  const NB_LOAD_WARNING = {'data': {'text/html':\n",
       "     \"<div style='background-color: #fdd'>\\n\"+\n",
       "     \"<p>\\n\"+\n",
       "     \"BokehJS does not appear to have successfully loaded. If loading BokehJS from CDN, this \\n\"+\n",
       "     \"may be due to a slow or bad network connection. Possible fixes:\\n\"+\n",
       "     \"</p>\\n\"+\n",
       "     \"<ul>\\n\"+\n",
       "     \"<li>re-rerun `output_notebook()` to attempt to load from CDN again, or</li>\\n\"+\n",
       "     \"<li>use INLINE resources instead, as so:</li>\\n\"+\n",
       "     \"</ul>\\n\"+\n",
       "     \"<code>\\n\"+\n",
       "     \"from bokeh.resources import INLINE\\n\"+\n",
       "     \"output_notebook(resources=INLINE)\\n\"+\n",
       "     \"</code>\\n\"+\n",
       "     \"</div>\"}};\n",
       "\n",
       "  function display_loaded() {\n",
       "    const el = document.getElementById(\"8484\");\n",
       "    if (el != null) {\n",
       "      el.textContent = \"BokehJS is loading...\";\n",
       "    }\n",
       "    if (root.Bokeh !== undefined) {\n",
       "      if (el != null) {\n",
       "        el.textContent = \"BokehJS \" + root.Bokeh.version + \" successfully loaded.\";\n",
       "      }\n",
       "    } else if (Date.now() < root._bokeh_timeout) {\n",
       "      setTimeout(display_loaded, 100)\n",
       "    }\n",
       "  }\n",
       "\n",
       "  function run_callbacks() {\n",
       "    try {\n",
       "      root._bokeh_onload_callbacks.forEach(function(callback) {\n",
       "        if (callback != null)\n",
       "          callback();\n",
       "      });\n",
       "    } finally {\n",
       "      delete root._bokeh_onload_callbacks\n",
       "    }\n",
       "    console.debug(\"Bokeh: all callbacks have finished\");\n",
       "  }\n",
       "\n",
       "  function load_libs(css_urls, js_urls, callback) {\n",
       "    if (css_urls == null) css_urls = [];\n",
       "    if (js_urls == null) js_urls = [];\n",
       "\n",
       "    root._bokeh_onload_callbacks.push(callback);\n",
       "    if (root._bokeh_is_loading > 0) {\n",
       "      console.debug(\"Bokeh: BokehJS is being loaded, scheduling callback at\", now());\n",
       "      return null;\n",
       "    }\n",
       "    if (js_urls == null || js_urls.length === 0) {\n",
       "      run_callbacks();\n",
       "      return null;\n",
       "    }\n",
       "    console.debug(\"Bokeh: BokehJS not loaded, scheduling load and callback at\", now());\n",
       "    root._bokeh_is_loading = css_urls.length + js_urls.length;\n",
       "\n",
       "    function on_load() {\n",
       "      root._bokeh_is_loading--;\n",
       "      if (root._bokeh_is_loading === 0) {\n",
       "        console.debug(\"Bokeh: all BokehJS libraries/stylesheets loaded\");\n",
       "        run_callbacks()\n",
       "      }\n",
       "    }\n",
       "\n",
       "    function on_error(url) {\n",
       "      console.error(\"failed to load \" + url);\n",
       "    }\n",
       "\n",
       "    for (let i = 0; i < css_urls.length; i++) {\n",
       "      const url = css_urls[i];\n",
       "      const element = document.createElement(\"link\");\n",
       "      element.onload = on_load;\n",
       "      element.onerror = on_error.bind(null, url);\n",
       "      element.rel = \"stylesheet\";\n",
       "      element.type = \"text/css\";\n",
       "      element.href = url;\n",
       "      console.debug(\"Bokeh: injecting link tag for BokehJS stylesheet: \", url);\n",
       "      document.body.appendChild(element);\n",
       "    }\n",
       "\n",
       "    for (let i = 0; i < js_urls.length; i++) {\n",
       "      const url = js_urls[i];\n",
       "      const element = document.createElement('script');\n",
       "      element.onload = on_load;\n",
       "      element.onerror = on_error.bind(null, url);\n",
       "      element.async = false;\n",
       "      element.src = url;\n",
       "      console.debug(\"Bokeh: injecting script tag for BokehJS library: \", url);\n",
       "      document.head.appendChild(element);\n",
       "    }\n",
       "  };\n",
       "\n",
       "  function inject_raw_css(css) {\n",
       "    const element = document.createElement(\"style\");\n",
       "    element.appendChild(document.createTextNode(css));\n",
       "    document.body.appendChild(element);\n",
       "  }\n",
       "\n",
       "  const js_urls = [\"https://cdn.bokeh.org/bokeh/release/bokeh-2.4.3.min.js\", \"https://cdn.bokeh.org/bokeh/release/bokeh-gl-2.4.3.min.js\", \"https://cdn.bokeh.org/bokeh/release/bokeh-widgets-2.4.3.min.js\", \"https://cdn.bokeh.org/bokeh/release/bokeh-tables-2.4.3.min.js\", \"https://cdn.bokeh.org/bokeh/release/bokeh-mathjax-2.4.3.min.js\"];\n",
       "  const css_urls = [];\n",
       "\n",
       "  const inline_js = [    function(Bokeh) {\n",
       "      Bokeh.set_log_level(\"info\");\n",
       "    },\n",
       "function(Bokeh) {\n",
       "    }\n",
       "  ];\n",
       "\n",
       "  function run_inline_js() {\n",
       "    if (root.Bokeh !== undefined || force === true) {\n",
       "          for (let i = 0; i < inline_js.length; i++) {\n",
       "      inline_js[i].call(root, root.Bokeh);\n",
       "    }\n",
       "if (force === true) {\n",
       "        display_loaded();\n",
       "      }} else if (Date.now() < root._bokeh_timeout) {\n",
       "      setTimeout(run_inline_js, 100);\n",
       "    } else if (!root._bokeh_failed_load) {\n",
       "      console.log(\"Bokeh: BokehJS failed to load within specified timeout.\");\n",
       "      root._bokeh_failed_load = true;\n",
       "    } else if (force !== true) {\n",
       "      const cell = $(document.getElementById(\"8484\")).parents('.cell').data().cell;\n",
       "      cell.output_area.append_execute_result(NB_LOAD_WARNING)\n",
       "    }\n",
       "  }\n",
       "\n",
       "  if (root._bokeh_is_loading === 0) {\n",
       "    console.debug(\"Bokeh: BokehJS loaded, going straight to plotting\");\n",
       "    run_inline_js();\n",
       "  } else {\n",
       "    load_libs(css_urls, js_urls, function() {\n",
       "      console.debug(\"Bokeh: BokehJS plotting callback run at\", now());\n",
       "      run_inline_js();\n",
       "    });\n",
       "  }\n",
       "}(window));"
      ],
      "application/vnd.bokehjs_load.v0+json": "(function(root) {\n  function now() {\n    return new Date();\n  }\n\n  const force = true;\n\n  if (typeof root._bokeh_onload_callbacks === \"undefined\" || force === true) {\n    root._bokeh_onload_callbacks = [];\n    root._bokeh_is_loading = undefined;\n  }\n\n\n  if (typeof (root._bokeh_timeout) === \"undefined\" || force === true) {\n    root._bokeh_timeout = Date.now() + 5000;\n    root._bokeh_failed_load = false;\n  }\n\n  const NB_LOAD_WARNING = {'data': {'text/html':\n     \"<div style='background-color: #fdd'>\\n\"+\n     \"<p>\\n\"+\n     \"BokehJS does not appear to have successfully loaded. If loading BokehJS from CDN, this \\n\"+\n     \"may be due to a slow or bad network connection. Possible fixes:\\n\"+\n     \"</p>\\n\"+\n     \"<ul>\\n\"+\n     \"<li>re-rerun `output_notebook()` to attempt to load from CDN again, or</li>\\n\"+\n     \"<li>use INLINE resources instead, as so:</li>\\n\"+\n     \"</ul>\\n\"+\n     \"<code>\\n\"+\n     \"from bokeh.resources import INLINE\\n\"+\n     \"output_notebook(resources=INLINE)\\n\"+\n     \"</code>\\n\"+\n     \"</div>\"}};\n\n  function display_loaded() {\n    const el = document.getElementById(\"8484\");\n    if (el != null) {\n      el.textContent = \"BokehJS is loading...\";\n    }\n    if (root.Bokeh !== undefined) {\n      if (el != null) {\n        el.textContent = \"BokehJS \" + root.Bokeh.version + \" successfully loaded.\";\n      }\n    } else if (Date.now() < root._bokeh_timeout) {\n      setTimeout(display_loaded, 100)\n    }\n  }\n\n  function run_callbacks() {\n    try {\n      root._bokeh_onload_callbacks.forEach(function(callback) {\n        if (callback != null)\n          callback();\n      });\n    } finally {\n      delete root._bokeh_onload_callbacks\n    }\n    console.debug(\"Bokeh: all callbacks have finished\");\n  }\n\n  function load_libs(css_urls, js_urls, callback) {\n    if (css_urls == null) css_urls = [];\n    if (js_urls == null) js_urls = [];\n\n    root._bokeh_onload_callbacks.push(callback);\n    if (root._bokeh_is_loading > 0) {\n      console.debug(\"Bokeh: BokehJS is being loaded, scheduling callback at\", now());\n      return null;\n    }\n    if (js_urls == null || js_urls.length === 0) {\n      run_callbacks();\n      return null;\n    }\n    console.debug(\"Bokeh: BokehJS not loaded, scheduling load and callback at\", now());\n    root._bokeh_is_loading = css_urls.length + js_urls.length;\n\n    function on_load() {\n      root._bokeh_is_loading--;\n      if (root._bokeh_is_loading === 0) {\n        console.debug(\"Bokeh: all BokehJS libraries/stylesheets loaded\");\n        run_callbacks()\n      }\n    }\n\n    function on_error(url) {\n      console.error(\"failed to load \" + url);\n    }\n\n    for (let i = 0; i < css_urls.length; i++) {\n      const url = css_urls[i];\n      const element = document.createElement(\"link\");\n      element.onload = on_load;\n      element.onerror = on_error.bind(null, url);\n      element.rel = \"stylesheet\";\n      element.type = \"text/css\";\n      element.href = url;\n      console.debug(\"Bokeh: injecting link tag for BokehJS stylesheet: \", url);\n      document.body.appendChild(element);\n    }\n\n    for (let i = 0; i < js_urls.length; i++) {\n      const url = js_urls[i];\n      const element = document.createElement('script');\n      element.onload = on_load;\n      element.onerror = on_error.bind(null, url);\n      element.async = false;\n      element.src = url;\n      console.debug(\"Bokeh: injecting script tag for BokehJS library: \", url);\n      document.head.appendChild(element);\n    }\n  };\n\n  function inject_raw_css(css) {\n    const element = document.createElement(\"style\");\n    element.appendChild(document.createTextNode(css));\n    document.body.appendChild(element);\n  }\n\n  const js_urls = [\"https://cdn.bokeh.org/bokeh/release/bokeh-2.4.3.min.js\", \"https://cdn.bokeh.org/bokeh/release/bokeh-gl-2.4.3.min.js\", \"https://cdn.bokeh.org/bokeh/release/bokeh-widgets-2.4.3.min.js\", \"https://cdn.bokeh.org/bokeh/release/bokeh-tables-2.4.3.min.js\", \"https://cdn.bokeh.org/bokeh/release/bokeh-mathjax-2.4.3.min.js\"];\n  const css_urls = [];\n\n  const inline_js = [    function(Bokeh) {\n      Bokeh.set_log_level(\"info\");\n    },\nfunction(Bokeh) {\n    }\n  ];\n\n  function run_inline_js() {\n    if (root.Bokeh !== undefined || force === true) {\n          for (let i = 0; i < inline_js.length; i++) {\n      inline_js[i].call(root, root.Bokeh);\n    }\nif (force === true) {\n        display_loaded();\n      }} else if (Date.now() < root._bokeh_timeout) {\n      setTimeout(run_inline_js, 100);\n    } else if (!root._bokeh_failed_load) {\n      console.log(\"Bokeh: BokehJS failed to load within specified timeout.\");\n      root._bokeh_failed_load = true;\n    } else if (force !== true) {\n      const cell = $(document.getElementById(\"8484\")).parents('.cell').data().cell;\n      cell.output_area.append_execute_result(NB_LOAD_WARNING)\n    }\n  }\n\n  if (root._bokeh_is_loading === 0) {\n    console.debug(\"Bokeh: BokehJS loaded, going straight to plotting\");\n    run_inline_js();\n  } else {\n    load_libs(css_urls, js_urls, function() {\n      console.debug(\"Bokeh: BokehJS plotting callback run at\", now());\n      run_inline_js();\n    });\n  }\n}(window));"
     },
     "metadata": {},
     "output_type": "display_data"
    }
   ],
   "source": [
    "import pandas as pd\n",
    "import numpy as np\n",
    "import geopandas as gpd  # will I use this?\n",
    "from matplotlib import pyplot as plt\n",
    "from bokeh.io import output_notebook, show\n",
    "from bokeh import plotting\n",
    "import folium\n",
    "output_notebook()"
   ]
  },
  {
   "cell_type": "code",
   "execution_count": 4,
   "id": "68702448-b4c9-4b25-a96e-2af1210b606c",
   "metadata": {},
   "outputs": [
    {
     "data": {
      "text/html": [
       "<div>\n",
       "<style scoped>\n",
       "    .dataframe tbody tr th:only-of-type {\n",
       "        vertical-align: middle;\n",
       "    }\n",
       "\n",
       "    .dataframe tbody tr th {\n",
       "        vertical-align: top;\n",
       "    }\n",
       "\n",
       "    .dataframe thead th {\n",
       "        text-align: right;\n",
       "    }\n",
       "</style>\n",
       "<table border=\"1\" class=\"dataframe\">\n",
       "  <thead>\n",
       "    <tr style=\"text-align: right;\">\n",
       "      <th></th>\n",
       "      <th>0</th>\n",
       "      <th>1</th>\n",
       "      <th>2</th>\n",
       "      <th>3</th>\n",
       "      <th>4</th>\n",
       "      <th>5</th>\n",
       "      <th>6</th>\n",
       "      <th>7</th>\n",
       "      <th>8</th>\n",
       "      <th>9</th>\n",
       "      <th>10</th>\n",
       "      <th>11</th>\n",
       "      <th>12</th>\n",
       "      <th>13</th>\n",
       "      <th>14</th>\n",
       "    </tr>\n",
       "  </thead>\n",
       "  <tbody>\n",
       "    <tr>\n",
       "      <th>Unnamed: 0</th>\n",
       "      <td>Case number</td>\n",
       "      <td>Incident location</td>\n",
       "      <td>Incident date</td>\n",
       "      <td>Homicide date</td>\n",
       "      <td>Gender</td>\n",
       "      <td>Race/Ethnicity</td>\n",
       "      <td>Law enforcement agency</td>\n",
       "      <td>details</td>\n",
       "      <td>Age</td>\n",
       "      <td>Hair color</td>\n",
       "      <td>Eye color</td>\n",
       "      <td>Nickname or alias</td>\n",
       "      <td>Date of birth</td>\n",
       "      <td>Height</td>\n",
       "      <td>Weight</td>\n",
       "    </tr>\n",
       "    <tr>\n",
       "      <th>618</th>\n",
       "      <td>618</td>\n",
       "      <td>3540 Reading RoadCincinnati, \\n              ...</td>\n",
       "      <td>1/2/2011</td>\n",
       "      <td>1/2/2011</td>\n",
       "      <td>Male</td>\n",
       "      <td>Black</td>\n",
       "      <td>Cincinnati Police Department</td>\n",
       "      <td>Twenty two year old Rafeal Ross was shot at 3...</td>\n",
       "      <td>22</td>\n",
       "      <td>NaN</td>\n",
       "      <td>NaN</td>\n",
       "      <td>NaN</td>\n",
       "      <td>NaN</td>\n",
       "      <td>NaN</td>\n",
       "      <td>NaN</td>\n",
       "    </tr>\n",
       "    <tr>\n",
       "      <th>632</th>\n",
       "      <td>632</td>\n",
       "      <td>5438 Madison RoadCincinnati, \\n              ...</td>\n",
       "      <td>5/26/2011</td>\n",
       "      <td>5/26/2011</td>\n",
       "      <td>Male</td>\n",
       "      <td>Black</td>\n",
       "      <td>Cincinnati Police Department</td>\n",
       "      <td>Nineteen year old David Gould was shot at 438...</td>\n",
       "      <td>19</td>\n",
       "      <td>NaN</td>\n",
       "      <td>NaN</td>\n",
       "      <td>NaN</td>\n",
       "      <td>NaN</td>\n",
       "      <td>NaN</td>\n",
       "      <td>NaN</td>\n",
       "    </tr>\n",
       "    <tr>\n",
       "      <th>622</th>\n",
       "      <td>622</td>\n",
       "      <td>201 Peete StreetCincinnati, \\n               ...</td>\n",
       "      <td>3/1/2011</td>\n",
       "      <td>3/1/2011</td>\n",
       "      <td>Male</td>\n",
       "      <td>Black</td>\n",
       "      <td>Cincinnati Police Department</td>\n",
       "      <td>Twenty five year old Patrick Massey was shot ...</td>\n",
       "      <td>25</td>\n",
       "      <td>NaN</td>\n",
       "      <td>NaN</td>\n",
       "      <td>NaN</td>\n",
       "      <td>NaN</td>\n",
       "      <td>NaN</td>\n",
       "      <td>NaN</td>\n",
       "    </tr>\n",
       "  </tbody>\n",
       "</table>\n",
       "</div>"
      ],
      "text/plain": [
       "                     0                                                  1   \\\n",
       "Unnamed: 0  Case number                                  Incident location   \n",
       "618                 618   3540 Reading RoadCincinnati, \\n              ...   \n",
       "632                 632   5438 Madison RoadCincinnati, \\n              ...   \n",
       "622                 622   201 Peete StreetCincinnati, \\n               ...   \n",
       "\n",
       "                       2              3       4               5   \\\n",
       "Unnamed: 0  Incident date  Homicide date  Gender  Race/Ethnicity   \n",
       "618              1/2/2011       1/2/2011    Male           Black   \n",
       "632             5/26/2011      5/26/2011    Male           Black   \n",
       "622              3/1/2011       3/1/2011    Male           Black   \n",
       "\n",
       "                                       6   \\\n",
       "Unnamed: 0         Law enforcement agency   \n",
       "618          Cincinnati Police Department   \n",
       "632          Cincinnati Police Department   \n",
       "622          Cincinnati Police Department   \n",
       "\n",
       "                                                           7    8   \\\n",
       "Unnamed: 0                                            details  Age   \n",
       "618          Twenty two year old Rafeal Ross was shot at 3...   22   \n",
       "632          Nineteen year old David Gould was shot at 438...   19   \n",
       "622          Twenty five year old Patrick Massey was shot ...   25   \n",
       "\n",
       "                    9          10                 11             12      13  \\\n",
       "Unnamed: 0  Hair color  Eye color  Nickname or alias  Date of birth  Height   \n",
       "618                NaN        NaN                NaN            NaN     NaN   \n",
       "632                NaN        NaN                NaN            NaN     NaN   \n",
       "622                NaN        NaN                NaN            NaN     NaN   \n",
       "\n",
       "                14  \n",
       "Unnamed: 0  Weight  \n",
       "618            NaN  \n",
       "632            NaN  \n",
       "622            NaN  "
      ]
     },
     "execution_count": 4,
     "metadata": {},
     "output_type": "execute_result"
    }
   ],
   "source": [
    "cases = pd.read_csv('unsolved_OH.csv')\n",
    "case_df = cases.T.copy()\n",
    "case_df.head(4)"
   ]
  },
  {
   "cell_type": "markdown",
   "id": "a1565903-a47c-4808-867b-9cf34e1bdc22",
   "metadata": {},
   "source": [
    "## Exploring the Data\n",
    "- [x] Transpose to more standard format\n",
    "- [x] Check data types\n",
    "    - [x] Clean up ['Incident date'] \n",
    "        - [x] Isolate date ranges\n",
    "        - [x] Date ranges truncated to initial date\n",
    "        - [x] Convert date ranges to datetime object\n",
    "        - [x] Convert ['Incident date'] to datetime object\n",
    "        - [x] Update ['Incident date'] to complete dates for maximum number of cases\n",
    "- [ ] Handle empty values\n"
   ]
  },
  {
   "cell_type": "code",
   "execution_count": 17,
   "id": "748611e0-24b6-49ac-86b4-1ed539a8a05a",
   "metadata": {},
   "outputs": [
    {
     "data": {
      "text/plain": [
       "(478, 14)"
      ]
     },
     "execution_count": 17,
     "metadata": {},
     "output_type": "execute_result"
    }
   ],
   "source": [
    "case_df.shape"
   ]
  },
  {
   "cell_type": "code",
   "execution_count": 304,
   "id": "ca5de42f-995b-4dcd-9e79-1427a12c9da8",
   "metadata": {},
   "outputs": [
    {
     "data": {
      "text/plain": [
       "Unnamed: 0\n",
       "Case number               object\n",
       "Incident location         object\n",
       "Incident date             object\n",
       "Homicide date             object\n",
       "Gender                    object\n",
       "Race/Ethnicity            object\n",
       "Law enforcement agency    object\n",
       "details                   object\n",
       "Age                       object\n",
       "Hair color                object\n",
       "Eye color                 object\n",
       "Nickname or alias         object\n",
       "Date of birth             object\n",
       "Height                    object\n",
       "Weight                    object\n",
       "dtype: object"
      ]
     },
     "execution_count": 304,
     "metadata": {},
     "output_type": "execute_result"
    }
   ],
   "source": [
    "case_df.dtypes"
   ]
  },
  {
   "cell_type": "code",
   "execution_count": 20,
   "id": "7dbe6229-4d5e-453d-9646-4b9b20379b9a",
   "metadata": {
    "collapsed": true,
    "jupyter": {
     "outputs_hidden": true
    },
    "tags": []
   },
   "outputs": [
    {
     "data": {
      "text/html": [
       "<div>\n",
       "<style scoped>\n",
       "    .dataframe tbody tr th:only-of-type {\n",
       "        vertical-align: middle;\n",
       "    }\n",
       "\n",
       "    .dataframe tbody tr th {\n",
       "        vertical-align: top;\n",
       "    }\n",
       "\n",
       "    .dataframe thead th {\n",
       "        text-align: right;\n",
       "    }\n",
       "</style>\n",
       "<table border=\"1\" class=\"dataframe\">\n",
       "  <thead>\n",
       "    <tr style=\"text-align: right;\">\n",
       "      <th>Unnamed: 0</th>\n",
       "      <th>Case number</th>\n",
       "      <th>Incident location</th>\n",
       "      <th>Incident date</th>\n",
       "      <th>Homicide date</th>\n",
       "      <th>Gender</th>\n",
       "      <th>Race/Ethnicity</th>\n",
       "      <th>Law enforcement agency</th>\n",
       "      <th>details</th>\n",
       "      <th>Age</th>\n",
       "      <th>Hair color</th>\n",
       "      <th>Eye color</th>\n",
       "      <th>Nickname or alias</th>\n",
       "      <th>Date of birth</th>\n",
       "      <th>Height</th>\n",
       "      <th>Weight</th>\n",
       "    </tr>\n",
       "  </thead>\n",
       "  <tbody>\n",
       "    <tr>\n",
       "      <th>618</th>\n",
       "      <td>618</td>\n",
       "      <td>3540 Reading RoadCincinnati, \\n              ...</td>\n",
       "      <td>1/2/2011</td>\n",
       "      <td>1/2/2011</td>\n",
       "      <td>Male</td>\n",
       "      <td>Black</td>\n",
       "      <td>Cincinnati Police Department</td>\n",
       "      <td>Twenty two year old Rafeal Ross was shot at 3...</td>\n",
       "      <td>22</td>\n",
       "      <td>NaN</td>\n",
       "      <td>NaN</td>\n",
       "      <td>NaN</td>\n",
       "      <td>NaN</td>\n",
       "      <td>NaN</td>\n",
       "      <td>NaN</td>\n",
       "    </tr>\n",
       "    <tr>\n",
       "      <th>632</th>\n",
       "      <td>632</td>\n",
       "      <td>5438 Madison RoadCincinnati, \\n              ...</td>\n",
       "      <td>5/26/2011</td>\n",
       "      <td>5/26/2011</td>\n",
       "      <td>Male</td>\n",
       "      <td>Black</td>\n",
       "      <td>Cincinnati Police Department</td>\n",
       "      <td>Nineteen year old David Gould was shot at 438...</td>\n",
       "      <td>19</td>\n",
       "      <td>NaN</td>\n",
       "      <td>NaN</td>\n",
       "      <td>NaN</td>\n",
       "      <td>NaN</td>\n",
       "      <td>NaN</td>\n",
       "      <td>NaN</td>\n",
       "    </tr>\n",
       "    <tr>\n",
       "      <th>622</th>\n",
       "      <td>622</td>\n",
       "      <td>201 Peete StreetCincinnati, \\n               ...</td>\n",
       "      <td>3/1/2011</td>\n",
       "      <td>3/1/2011</td>\n",
       "      <td>Male</td>\n",
       "      <td>Black</td>\n",
       "      <td>Cincinnati Police Department</td>\n",
       "      <td>Twenty five year old Patrick Massey was shot ...</td>\n",
       "      <td>25</td>\n",
       "      <td>NaN</td>\n",
       "      <td>NaN</td>\n",
       "      <td>NaN</td>\n",
       "      <td>NaN</td>\n",
       "      <td>NaN</td>\n",
       "      <td>NaN</td>\n",
       "    </tr>\n",
       "    <tr>\n",
       "      <th>635</th>\n",
       "      <td>635</td>\n",
       "      <td>23 Back StreetCincinnati, \\n                O...</td>\n",
       "      <td>6/26/2011</td>\n",
       "      <td>6/26/2011</td>\n",
       "      <td>Male</td>\n",
       "      <td>Black</td>\n",
       "      <td>Cincinnati Police Department</td>\n",
       "      <td>Eighteen year old Dion Thomas was shot at 23 ...</td>\n",
       "      <td>18</td>\n",
       "      <td>NaN</td>\n",
       "      <td>NaN</td>\n",
       "      <td>NaN</td>\n",
       "      <td>NaN</td>\n",
       "      <td>NaN</td>\n",
       "      <td>NaN</td>\n",
       "    </tr>\n",
       "    <tr>\n",
       "      <th>637</th>\n",
       "      <td>637</td>\n",
       "      <td>1891 Biegler StreetCincinnati, \\n            ...</td>\n",
       "      <td>7/22/2011</td>\n",
       "      <td>7/22/2011</td>\n",
       "      <td>Male</td>\n",
       "      <td>Black</td>\n",
       "      <td>Cincinnati Police Department</td>\n",
       "      <td>Forty five year old Roger Holmes was shot at ...</td>\n",
       "      <td>45</td>\n",
       "      <td>NaN</td>\n",
       "      <td>NaN</td>\n",
       "      <td>NaN</td>\n",
       "      <td>NaN</td>\n",
       "      <td>NaN</td>\n",
       "      <td>NaN</td>\n",
       "    </tr>\n",
       "  </tbody>\n",
       "</table>\n",
       "</div>"
      ],
      "text/plain": [
       "Unnamed: 0 Case number                                  Incident location  \\\n",
       "618                618   3540 Reading RoadCincinnati, \\n              ...   \n",
       "632                632   5438 Madison RoadCincinnati, \\n              ...   \n",
       "622                622   201 Peete StreetCincinnati, \\n               ...   \n",
       "635                635   23 Back StreetCincinnati, \\n                O...   \n",
       "637                637   1891 Biegler StreetCincinnati, \\n            ...   \n",
       "\n",
       "Unnamed: 0 Incident date Homicide date Gender Race/Ethnicity  \\\n",
       "618             1/2/2011      1/2/2011   Male          Black   \n",
       "632            5/26/2011     5/26/2011   Male          Black   \n",
       "622             3/1/2011      3/1/2011   Male          Black   \n",
       "635            6/26/2011     6/26/2011   Male          Black   \n",
       "637            7/22/2011     7/22/2011   Male          Black   \n",
       "\n",
       "Unnamed: 0         Law enforcement agency  \\\n",
       "618          Cincinnati Police Department   \n",
       "632          Cincinnati Police Department   \n",
       "622          Cincinnati Police Department   \n",
       "635          Cincinnati Police Department   \n",
       "637          Cincinnati Police Department   \n",
       "\n",
       "Unnamed: 0                                            details Age Hair color  \\\n",
       "618          Twenty two year old Rafeal Ross was shot at 3...  22        NaN   \n",
       "632          Nineteen year old David Gould was shot at 438...  19        NaN   \n",
       "622          Twenty five year old Patrick Massey was shot ...  25        NaN   \n",
       "635          Eighteen year old Dion Thomas was shot at 23 ...  18        NaN   \n",
       "637          Forty five year old Roger Holmes was shot at ...  45        NaN   \n",
       "\n",
       "Unnamed: 0 Eye color Nickname or alias Date of birth Height Weight  \n",
       "618              NaN               NaN           NaN    NaN    NaN  \n",
       "632              NaN               NaN           NaN    NaN    NaN  \n",
       "622              NaN               NaN           NaN    NaN    NaN  \n",
       "635              NaN               NaN           NaN    NaN    NaN  \n",
       "637              NaN               NaN           NaN    NaN    NaN  "
      ]
     },
     "execution_count": 20,
     "metadata": {},
     "output_type": "execute_result"
    }
   ],
   "source": [
    "case_df.columns = case_df.iloc[0]\n",
    "case_df = case_df.drop(case_df.index[0], axis=0)\n",
    "case_df.head()"
   ]
  },
  {
   "cell_type": "code",
   "execution_count": 21,
   "id": "6656fc48-d323-499e-a5d7-630a876ac709",
   "metadata": {},
   "outputs": [],
   "source": [
    "# Age needs to be float because of infants.\n",
    "case_df = case_df.astype({'Case number':int, 'Age': 'float32'}, copy=True)"
   ]
  },
  {
   "cell_type": "code",
   "execution_count": 22,
   "id": "17ebce37-5637-41dc-9c3c-f758cce26159",
   "metadata": {},
   "outputs": [
    {
     "data": {
      "text/plain": [
       "Unnamed: 0\n",
       "Case number                 int32\n",
       "Incident location          object\n",
       "Incident date              object\n",
       "Homicide date              object\n",
       "Gender                     object\n",
       "Race/Ethnicity             object\n",
       "Law enforcement agency     object\n",
       "details                    object\n",
       "Age                       float32\n",
       "Hair color                 object\n",
       "Eye color                  object\n",
       "Nickname or alias          object\n",
       "Date of birth              object\n",
       "Height                     object\n",
       "Weight                     object\n",
       "dtype: object"
      ]
     },
     "execution_count": 22,
     "metadata": {},
     "output_type": "execute_result"
    }
   ],
   "source": [
    "case_df.dtypes"
   ]
  },
  {
   "cell_type": "code",
   "execution_count": 23,
   "id": "96e8ceb0-bee4-43c5-bc5c-b67a5e9eec0e",
   "metadata": {
    "tags": []
   },
   "outputs": [],
   "source": [
    "# Replace ranges of ['Incident date']s with initial date\n",
    "date_error_df =  pd.to_datetime(case_df['Incident date'], errors='coerce')\n",
    "nat_df = date_error_df[date_error_df.isna()==True]"
   ]
  },
  {
   "cell_type": "code",
   "execution_count": 24,
   "id": "d3ba7d60-df9e-420b-8dc2-1e10c5cd8b64",
   "metadata": {
    "collapsed": true,
    "jupyter": {
     "outputs_hidden": true
    },
    "tags": []
   },
   "outputs": [
    {
     "data": {
      "text/plain": [
       "[1008,\n",
       " 842,\n",
       " 676,\n",
       " 650,\n",
       " 688,\n",
       " 689,\n",
       " 829,\n",
       " 690,\n",
       " 751,\n",
       " 3142,\n",
       " 850,\n",
       " 3216,\n",
       " 66,\n",
       " 287,\n",
       " 288,\n",
       " 289]"
      ]
     },
     "execution_count": 24,
     "metadata": {},
     "output_type": "execute_result"
    }
   ],
   "source": [
    "nat_cases = list(nat_df.index.astype(int))\n",
    "nat_cases"
   ]
  },
  {
   "cell_type": "code",
   "execution_count": 55,
   "id": "7bd47d8e-b6d6-4de9-90e5-11b13efb9953",
   "metadata": {
    "tags": []
   },
   "outputs": [],
   "source": [
    "# data frame of cases that have Not a date Time values\n",
    "nat_case_df = case_df[case_df['Case number'].isin(nat_cases)].copy()\n",
    "#6/21/2008 - 8/7/2009 (Approximate) \t\n",
    "nat_column = nat_case_df['Incident date'].str.split(pat='-', expand=True)\n",
    "# drop '- | 8/7/2009' columns\n",
    "nat_column.drop(labels=1, axis=1, inplace=True)\n",
    "nat_column.rename(columns={0:'Incident date'}, inplace=True)"
   ]
  },
  {
   "cell_type": "code",
   "execution_count": 103,
   "id": "7c1589df-502f-4939-a4dc-1d5a88e2fd76",
   "metadata": {},
   "outputs": [
    {
     "data": {
      "text/html": [
       "<div>\n",
       "<style scoped>\n",
       "    .dataframe tbody tr th:only-of-type {\n",
       "        vertical-align: middle;\n",
       "    }\n",
       "\n",
       "    .dataframe tbody tr th {\n",
       "        vertical-align: top;\n",
       "    }\n",
       "\n",
       "    .dataframe thead th {\n",
       "        text-align: right;\n",
       "    }\n",
       "</style>\n",
       "<table border=\"1\" class=\"dataframe\">\n",
       "  <thead>\n",
       "    <tr style=\"text-align: right;\">\n",
       "      <th></th>\n",
       "      <th>Incident date</th>\n",
       "      <th>Case number</th>\n",
       "    </tr>\n",
       "  </thead>\n",
       "  <tbody>\n",
       "    <tr>\n",
       "      <th>1008</th>\n",
       "      <td>6/21/2008</td>\n",
       "      <td>1008</td>\n",
       "    </tr>\n",
       "    <tr>\n",
       "      <th>842</th>\n",
       "      <td>5/26/1998</td>\n",
       "      <td>842</td>\n",
       "    </tr>\n",
       "    <tr>\n",
       "      <th>676</th>\n",
       "      <td>Unknown</td>\n",
       "      <td>676</td>\n",
       "    </tr>\n",
       "    <tr>\n",
       "      <th>650</th>\n",
       "      <td>Unknown</td>\n",
       "      <td>650</td>\n",
       "    </tr>\n",
       "    <tr>\n",
       "      <th>688</th>\n",
       "      <td>10/22/1969</td>\n",
       "      <td>688</td>\n",
       "    </tr>\n",
       "  </tbody>\n",
       "</table>\n",
       "</div>"
      ],
      "text/plain": [
       "     Incident date Case number\n",
       "1008    6/21/2008         1008\n",
       "842     5/26/1998          842\n",
       "676        Unknown         676\n",
       "650        Unknown         650\n",
       "688    10/22/1969          688"
      ]
     },
     "execution_count": 103,
     "metadata": {},
     "output_type": "execute_result"
    }
   ],
   "source": [
    "nat_column['Case number'] = nat_column.index\n",
    "nat_column.head()"
   ]
  },
  {
   "cell_type": "code",
   "execution_count": 153,
   "id": "61fd66c1-918c-497d-acc0-5962d4e6ddc3",
   "metadata": {
    "tags": []
   },
   "outputs": [
    {
     "data": {
      "text/html": [
       "<div>\n",
       "<style scoped>\n",
       "    .dataframe tbody tr th:only-of-type {\n",
       "        vertical-align: middle;\n",
       "    }\n",
       "\n",
       "    .dataframe tbody tr th {\n",
       "        vertical-align: top;\n",
       "    }\n",
       "\n",
       "    .dataframe thead th {\n",
       "        text-align: right;\n",
       "    }\n",
       "</style>\n",
       "<table border=\"1\" class=\"dataframe\">\n",
       "  <thead>\n",
       "    <tr style=\"text-align: right;\">\n",
       "      <th></th>\n",
       "      <th>Incident date</th>\n",
       "    </tr>\n",
       "  </thead>\n",
       "  <tbody>\n",
       "    <tr>\n",
       "      <th>1008</th>\n",
       "      <td>2008-06-21</td>\n",
       "    </tr>\n",
       "    <tr>\n",
       "      <th>842</th>\n",
       "      <td>1998-05-26</td>\n",
       "    </tr>\n",
       "    <tr>\n",
       "      <th>676</th>\n",
       "      <td>NaT</td>\n",
       "    </tr>\n",
       "    <tr>\n",
       "      <th>650</th>\n",
       "      <td>NaT</td>\n",
       "    </tr>\n",
       "    <tr>\n",
       "      <th>688</th>\n",
       "      <td>1969-10-22</td>\n",
       "    </tr>\n",
       "  </tbody>\n",
       "</table>\n",
       "</div>"
      ],
      "text/plain": [
       "     Incident date\n",
       "1008    2008-06-21\n",
       "842     1998-05-26\n",
       "676            NaT\n",
       "650            NaT\n",
       "688     1969-10-22"
      ]
     },
     "execution_count": 153,
     "metadata": {},
     "output_type": "execute_result"
    }
   ],
   "source": [
    "incident_date_dt = pd.DataFrame(pd.to_datetime(nat_column['Incident date'], errors='coerce'))\n",
    "incident_date_dt['Incident date'] = incident_date_dt['Incident date'].astype('<M8[ns]')\n",
    "incident_date_dt.head()"
   ]
  },
  {
   "cell_type": "code",
   "execution_count": 152,
   "id": "2b54b7a7-4c41-4e0f-a476-37f41ce692b3",
   "metadata": {},
   "outputs": [
    {
     "data": {
      "text/plain": [
       "dtype('<M8[ns]')"
      ]
     },
     "execution_count": 152,
     "metadata": {},
     "output_type": "execute_result"
    }
   ],
   "source": [
    "incident_date_dt.loc['688']['Incident date'].dtype"
   ]
  },
  {
   "cell_type": "code",
   "execution_count": 139,
   "id": "4a420c98-103c-47dd-8fdc-06747d5688d6",
   "metadata": {
    "tags": []
   },
   "outputs": [],
   "source": [
    "case_df['Incident date'] = pd.to_datetime(case_df['Incident date'], errors='coerce', format=\"%Y%m%d\")\n",
    "case_df['Incident date'] = case_df['Incident date'].astype('datetime64[ns]')"
   ]
  },
  {
   "cell_type": "code",
   "execution_count": 154,
   "id": "bd99c4e4-a264-4189-aa6b-47bcdce2202e",
   "metadata": {
    "collapsed": true,
    "jupyter": {
     "outputs_hidden": true
    },
    "tags": []
   },
   "outputs": [
    {
     "ename": "TypeError",
     "evalue": "The DTypes <class 'numpy.dtype[datetime64]'> and <class 'numpy.dtype[float32]'> do not have a common DType. For example they cannot be stored in a single array unless the dtype is `object`.",
     "output_type": "error",
     "traceback": [
      "\u001b[1;31m---------------------------------------------------------------------------\u001b[0m",
      "\u001b[1;31mTypeError\u001b[0m                                 Traceback (most recent call last)",
      "\u001b[1;32m<ipython-input-154-2bc41a4115e4>\u001b[0m in \u001b[0;36m<module>\u001b[1;34m\u001b[0m\n\u001b[1;32m----> 1\u001b[1;33m \u001b[0mcase_df\u001b[0m\u001b[1;33m.\u001b[0m\u001b[0mupdate\u001b[0m\u001b[1;33m(\u001b[0m\u001b[0mincident_date_dt\u001b[0m\u001b[1;33m,\u001b[0m \u001b[0moverwrite\u001b[0m\u001b[1;33m=\u001b[0m\u001b[1;32mFalse\u001b[0m\u001b[1;33m)\u001b[0m\u001b[1;33m\u001b[0m\u001b[1;33m\u001b[0m\u001b[0m\n\u001b[0m\u001b[0;32m      2\u001b[0m \u001b[0mcase_df\u001b[0m\u001b[1;33m.\u001b[0m\u001b[0minfo\u001b[0m\u001b[1;33m\u001b[0m\u001b[1;33m\u001b[0m\u001b[0m\n",
      "\u001b[1;32m~\\AppData\\Local\\Programs\\Python\\Python39\\lib\\site-packages\\pandas\\core\\frame.py\u001b[0m in \u001b[0;36mupdate\u001b[1;34m(self, other, join, overwrite, filter_func, errors)\u001b[0m\n\u001b[0;32m   7589\u001b[0m                 \u001b[1;32mcontinue\u001b[0m\u001b[1;33m\u001b[0m\u001b[1;33m\u001b[0m\u001b[0m\n\u001b[0;32m   7590\u001b[0m \u001b[1;33m\u001b[0m\u001b[0m\n\u001b[1;32m-> 7591\u001b[1;33m             \u001b[0mself\u001b[0m\u001b[1;33m[\u001b[0m\u001b[0mcol\u001b[0m\u001b[1;33m]\u001b[0m \u001b[1;33m=\u001b[0m \u001b[0mexpressions\u001b[0m\u001b[1;33m.\u001b[0m\u001b[0mwhere\u001b[0m\u001b[1;33m(\u001b[0m\u001b[0mmask\u001b[0m\u001b[1;33m,\u001b[0m \u001b[0mthis\u001b[0m\u001b[1;33m,\u001b[0m \u001b[0mthat\u001b[0m\u001b[1;33m)\u001b[0m\u001b[1;33m\u001b[0m\u001b[1;33m\u001b[0m\u001b[0m\n\u001b[0m\u001b[0;32m   7592\u001b[0m \u001b[1;33m\u001b[0m\u001b[0m\n\u001b[0;32m   7593\u001b[0m     \u001b[1;31m# ----------------------------------------------------------------------\u001b[0m\u001b[1;33m\u001b[0m\u001b[1;33m\u001b[0m\u001b[1;33m\u001b[0m\u001b[0m\n",
      "\u001b[1;32m~\\AppData\\Local\\Programs\\Python\\Python39\\lib\\site-packages\\pandas\\core\\computation\\expressions.py\u001b[0m in \u001b[0;36mwhere\u001b[1;34m(cond, a, b, use_numexpr)\u001b[0m\n\u001b[0;32m    254\u001b[0m     \"\"\"\n\u001b[0;32m    255\u001b[0m     \u001b[1;32massert\u001b[0m \u001b[0m_where\u001b[0m \u001b[1;32mis\u001b[0m \u001b[1;32mnot\u001b[0m \u001b[1;32mNone\u001b[0m\u001b[1;33m\u001b[0m\u001b[1;33m\u001b[0m\u001b[0m\n\u001b[1;32m--> 256\u001b[1;33m     \u001b[1;32mreturn\u001b[0m \u001b[0m_where\u001b[0m\u001b[1;33m(\u001b[0m\u001b[0mcond\u001b[0m\u001b[1;33m,\u001b[0m \u001b[0ma\u001b[0m\u001b[1;33m,\u001b[0m \u001b[0mb\u001b[0m\u001b[1;33m)\u001b[0m \u001b[1;32mif\u001b[0m \u001b[0muse_numexpr\u001b[0m \u001b[1;32melse\u001b[0m \u001b[0m_where_standard\u001b[0m\u001b[1;33m(\u001b[0m\u001b[0mcond\u001b[0m\u001b[1;33m,\u001b[0m \u001b[0ma\u001b[0m\u001b[1;33m,\u001b[0m \u001b[0mb\u001b[0m\u001b[1;33m)\u001b[0m\u001b[1;33m\u001b[0m\u001b[1;33m\u001b[0m\u001b[0m\n\u001b[0m\u001b[0;32m    257\u001b[0m \u001b[1;33m\u001b[0m\u001b[0m\n\u001b[0;32m    258\u001b[0m \u001b[1;33m\u001b[0m\u001b[0m\n",
      "\u001b[1;32m~\\AppData\\Local\\Programs\\Python\\Python39\\lib\\site-packages\\pandas\\core\\computation\\expressions.py\u001b[0m in \u001b[0;36m_where_standard\u001b[1;34m(cond, a, b)\u001b[0m\n\u001b[0;32m    169\u001b[0m \u001b[1;32mdef\u001b[0m \u001b[0m_where_standard\u001b[0m\u001b[1;33m(\u001b[0m\u001b[0mcond\u001b[0m\u001b[1;33m,\u001b[0m \u001b[0ma\u001b[0m\u001b[1;33m,\u001b[0m \u001b[0mb\u001b[0m\u001b[1;33m)\u001b[0m\u001b[1;33m:\u001b[0m\u001b[1;33m\u001b[0m\u001b[1;33m\u001b[0m\u001b[0m\n\u001b[0;32m    170\u001b[0m     \u001b[1;31m# Caller is responsible for extracting ndarray if necessary\u001b[0m\u001b[1;33m\u001b[0m\u001b[1;33m\u001b[0m\u001b[1;33m\u001b[0m\u001b[0m\n\u001b[1;32m--> 171\u001b[1;33m     \u001b[1;32mreturn\u001b[0m \u001b[0mnp\u001b[0m\u001b[1;33m.\u001b[0m\u001b[0mwhere\u001b[0m\u001b[1;33m(\u001b[0m\u001b[0mcond\u001b[0m\u001b[1;33m,\u001b[0m \u001b[0ma\u001b[0m\u001b[1;33m,\u001b[0m \u001b[0mb\u001b[0m\u001b[1;33m)\u001b[0m\u001b[1;33m\u001b[0m\u001b[1;33m\u001b[0m\u001b[0m\n\u001b[0m\u001b[0;32m    172\u001b[0m \u001b[1;33m\u001b[0m\u001b[0m\n\u001b[0;32m    173\u001b[0m \u001b[1;33m\u001b[0m\u001b[0m\n",
      "\u001b[1;32m<__array_function__ internals>\u001b[0m in \u001b[0;36mwhere\u001b[1;34m(*args, **kwargs)\u001b[0m\n",
      "\u001b[1;31mTypeError\u001b[0m: The DTypes <class 'numpy.dtype[datetime64]'> and <class 'numpy.dtype[float32]'> do not have a common DType. For example they cannot be stored in a single array unless the dtype is `object`."
     ]
    }
   ],
   "source": [
    "# np.float32 / np.datetime64[ns] dtype fighting I don't understand why they're converted differently. \n",
    "# is one of these actually a series in stead of a df? grr.\n",
    "# This worked but it raised errors. Finding a fix is taking too much time.\n",
    "case_df.update(incident_date_dt, overwrite=False)\n",
    "case_df.info"
   ]
  },
  {
   "cell_type": "code",
   "execution_count": 162,
   "id": "05552cdf-70a7-4dc6-ac14-97ffd132d376",
   "metadata": {
    "tags": []
   },
   "outputs": [
    {
     "data": {
      "text/html": [
       "<div>\n",
       "<style scoped>\n",
       "    .dataframe tbody tr th:only-of-type {\n",
       "        vertical-align: middle;\n",
       "    }\n",
       "\n",
       "    .dataframe tbody tr th {\n",
       "        vertical-align: top;\n",
       "    }\n",
       "\n",
       "    .dataframe thead th {\n",
       "        text-align: right;\n",
       "    }\n",
       "</style>\n",
       "<table border=\"1\" class=\"dataframe\">\n",
       "  <thead>\n",
       "    <tr style=\"text-align: right;\">\n",
       "      <th>Unnamed: 0</th>\n",
       "      <th>Case number</th>\n",
       "      <th>Incident location</th>\n",
       "      <th>Incident date</th>\n",
       "      <th>Homicide date</th>\n",
       "      <th>Gender</th>\n",
       "      <th>Race/Ethnicity</th>\n",
       "      <th>Law enforcement agency</th>\n",
       "      <th>details</th>\n",
       "      <th>Age</th>\n",
       "      <th>Hair color</th>\n",
       "      <th>Eye color</th>\n",
       "      <th>Nickname or alias</th>\n",
       "      <th>Date of birth</th>\n",
       "      <th>Height</th>\n",
       "      <th>Weight</th>\n",
       "    </tr>\n",
       "  </thead>\n",
       "  <tbody>\n",
       "    <tr>\n",
       "      <th>676</th>\n",
       "      <td>676</td>\n",
       "      <td>Cincinnati, \\n                Ohio\\n         ...</td>\n",
       "      <td>NaT</td>\n",
       "      <td>Unknown</td>\n",
       "      <td>Female</td>\n",
       "      <td>None</td>\n",
       "      <td>Cincinnati Police Department</td>\n",
       "      <td>Date of of death 1943</td>\n",
       "      <td>NaN</td>\n",
       "      <td>NaN</td>\n",
       "      <td>NaN</td>\n",
       "      <td>NaN</td>\n",
       "      <td>NaN</td>\n",
       "      <td>NaN</td>\n",
       "      <td>NaN</td>\n",
       "    </tr>\n",
       "    <tr>\n",
       "      <th>650</th>\n",
       "      <td>650</td>\n",
       "      <td>2201 Harrison AvenueCincinnati, \\n           ...</td>\n",
       "      <td>NaT</td>\n",
       "      <td>11/15/2011</td>\n",
       "      <td>Male</td>\n",
       "      <td>None</td>\n",
       "      <td>Cincinnati Police Department</td>\n",
       "      <td>Twenty four year old Muhammad Mumin was shot ...</td>\n",
       "      <td>24.0</td>\n",
       "      <td>NaN</td>\n",
       "      <td>NaN</td>\n",
       "      <td>NaN</td>\n",
       "      <td>NaN</td>\n",
       "      <td>NaN</td>\n",
       "      <td>NaN</td>\n",
       "    </tr>\n",
       "  </tbody>\n",
       "</table>\n",
       "</div>"
      ],
      "text/plain": [
       "Unnamed: 0  Case number                                  Incident location  \\\n",
       "676                 676   Cincinnati, \\n                Ohio\\n         ...   \n",
       "650                 650   2201 Harrison AvenueCincinnati, \\n           ...   \n",
       "\n",
       "Unnamed: 0 Incident date Homicide date   Gender Race/Ethnicity  \\\n",
       "676                  NaT       Unknown   Female           None   \n",
       "650                  NaT    11/15/2011     Male           None   \n",
       "\n",
       "Unnamed: 0         Law enforcement agency  \\\n",
       "676          Cincinnati Police Department   \n",
       "650          Cincinnati Police Department   \n",
       "\n",
       "Unnamed: 0                                            details   Age  \\\n",
       "676                                     Date of of death 1943   NaN   \n",
       "650          Twenty four year old Muhammad Mumin was shot ...  24.0   \n",
       "\n",
       "Unnamed: 0 Hair color Eye color Nickname or alias Date of birth Height Weight  \n",
       "676               NaN       NaN               NaN           NaN    NaN    NaN  \n",
       "650               NaN       NaN               NaN           NaN    NaN    NaN  "
      ]
     },
     "execution_count": 162,
     "metadata": {},
     "output_type": "execute_result"
    }
   ],
   "source": [
    "case_df[case_df['Incident date'].isna()==True]"
   ]
  },
  {
   "cell_type": "code",
   "execution_count": 101,
   "id": "d5583b89-0ba3-42d9-91d2-6b234824399a",
   "metadata": {},
   "outputs": [],
   "source": [
    "case_df['Incident date'] = case_df['Incident date'].astype('datetime64[ns]')"
   ]
  },
  {
   "cell_type": "code",
   "execution_count": 102,
   "id": "5ebfc50e-2ea3-4a64-9505-29b9eeb51134",
   "metadata": {},
   "outputs": [
    {
     "data": {
      "text/plain": [
       "dtype('<M8[ns]')"
      ]
     },
     "execution_count": 102,
     "metadata": {},
     "output_type": "execute_result"
    }
   ],
   "source": [
    "case_df['Incident date'].dtypes"
   ]
  },
  {
   "cell_type": "code",
   "execution_count": 98,
   "id": "86ff58b3-484e-4831-95c6-eb26227744a0",
   "metadata": {
    "tags": []
   },
   "outputs": [
    {
     "data": {
      "text/plain": [
       "Unnamed: 0\n",
       "Case number                        int32\n",
       "Incident location                 object\n",
       "Incident date             datetime64[ns]\n",
       "Homicide date                     object\n",
       "Gender                            object\n",
       "Race/Ethnicity                    object\n",
       "Law enforcement agency            object\n",
       "details                           object\n",
       "Age                              float32\n",
       "Hair color                        object\n",
       "Eye color                         object\n",
       "Nickname or alias                 object\n",
       "Date of birth                     object\n",
       "Height                            object\n",
       "Weight                            object\n",
       "dtype: object"
      ]
     },
     "execution_count": 98,
     "metadata": {},
     "output_type": "execute_result"
    }
   ],
   "source": [
    "case_df.dtypes"
   ]
  },
  {
   "cell_type": "code",
   "execution_count": 185,
   "id": "3ab43489-094c-447c-84b3-511b704b3932",
   "metadata": {},
   "outputs": [
    {
     "name": "stdout",
     "output_type": "stream",
     "text": [
      "<class 'pandas.core.frame.DataFrame'>\n",
      "Index: 477 entries, 618 to 3148\n",
      "Data columns (total 15 columns):\n",
      " #   Column                  Non-Null Count  Dtype         \n",
      "---  ------                  --------------  -----         \n",
      " 0   Case number             477 non-null    int32         \n",
      " 1   Incident location       477 non-null    object        \n",
      " 2   Incident date           475 non-null    datetime64[ns]\n",
      " 3   Homicide date           477 non-null    object        \n",
      " 4   Gender                  475 non-null    object        \n",
      " 5   Race/Ethnicity          464 non-null    object        \n",
      " 6   Law enforcement agency  476 non-null    object        \n",
      " 7   details                 477 non-null    object        \n",
      " 8   Age                     455 non-null    float32       \n",
      " 9   Hair color              162 non-null    object        \n",
      " 10  Eye color               161 non-null    object        \n",
      " 11  Nickname or alias       12 non-null     object        \n",
      " 12  Date of birth           57 non-null     object        \n",
      " 13  Height                  57 non-null     object        \n",
      " 14  Weight                  57 non-null     object        \n",
      "dtypes: datetime64[ns](1), float32(1), int32(1), object(12)\n",
      "memory usage: 72.1+ KB\n"
     ]
    }
   ],
   "source": [
    "case_df.info()"
   ]
  },
  {
   "cell_type": "markdown",
   "id": "f02ced8d-44b0-40dc-89f5-e9983c6176d8",
   "metadata": {},
   "source": [
    "## Visualization\n",
    "- [x] Age distribution 10 year bins?\n",
    "- [ ] By street? \n",
    "- [ ] By Agency\n",
    "- [ ] By Incident date, decade?"
   ]
  },
  {
   "cell_type": "code",
   "execution_count": 163,
   "id": "b305ba7d-7403-47bd-9301-8b38fb7d6d22",
   "metadata": {},
   "outputs": [],
   "source": [
    "a = case_df.sort_values(by=['Age']).Age"
   ]
  },
  {
   "cell_type": "code",
   "execution_count": 164,
   "id": "1db6bf5c-7b65-411e-be1e-a03f3ef4f91c",
   "metadata": {},
   "outputs": [],
   "source": [
    "age_count = a.value_counts(ascending=False, dropna=False).to_frame()\n",
    "age_count.rename(columns={'Age':'count'}, inplace=True)\n",
    "age_count['Age'] = age_count.index.astype('str')\n",
    "# ages = pd.unique(a).astype('str')"
   ]
  },
  {
   "cell_type": "code",
   "execution_count": 165,
   "id": "037bb060-4896-4dd0-9067-ec38e6166e06",
   "metadata": {},
   "outputs": [],
   "source": [
    "age_count.sort_values(by='Age', inplace=True)"
   ]
  },
  {
   "cell_type": "code",
   "execution_count": 166,
   "id": "ce59c81c-8362-43dd-b1cd-d3a7fb79c445",
   "metadata": {
    "tags": []
   },
   "outputs": [
    {
     "data": {
      "text/html": [
       "\n",
       "  <div class=\"bk-root\" id=\"889cc301-9623-4195-a5cf-d491d53f9f63\" data-root-id=\"1005\"></div>\n"
      ]
     },
     "metadata": {},
     "output_type": "display_data"
    },
    {
     "data": {
      "application/javascript": [
       "(function(root) {\n",
       "  function embed_document(root) {\n",
       "  const docs_json = {\"1211416c-bf69-408b-8f0c-8595a095401b\":{\"defs\":[],\"roots\":{\"references\":[{\"attributes\":{\"below\":[{\"id\":\"1016\"}],\"center\":[{\"id\":\"1018\"},{\"id\":\"1022\"}],\"left\":[{\"id\":\"1019\"}],\"renderers\":[{\"id\":\"1034\"}],\"title\":{\"id\":\"1006\"},\"toolbar\":{\"id\":\"1026\"},\"x_range\":{\"id\":\"1008\"},\"x_scale\":{\"id\":\"1012\"},\"y_range\":{\"id\":\"1010\"},\"y_scale\":{\"id\":\"1014\"}},\"id\":\"1005\",\"subtype\":\"Figure\",\"type\":\"Plot\"},{\"attributes\":{},\"id\":\"1041\",\"type\":\"CategoricalTickFormatter\"},{\"attributes\":{},\"id\":\"1014\",\"type\":\"LinearScale\"},{\"attributes\":{\"coordinates\":null,\"formatter\":{\"id\":\"1038\"},\"group\":null,\"major_label_policy\":{\"id\":\"1039\"},\"ticker\":{\"id\":\"1020\"}},\"id\":\"1019\",\"type\":\"LinearAxis\"},{\"attributes\":{},\"id\":\"1039\",\"type\":\"AllLabels\"},{\"attributes\":{},\"id\":\"1023\",\"type\":\"WheelZoomTool\"},{\"attributes\":{},\"id\":\"1024\",\"type\":\"ResetTool\"},{\"attributes\":{\"fill_alpha\":{\"value\":0.2},\"fill_color\":{\"value\":\"#1f77b4\"},\"hatch_alpha\":{\"value\":0.2},\"line_alpha\":{\"value\":0.2},\"line_color\":{\"value\":\"#1f77b4\"},\"top\":{\"field\":\"top\"},\"x\":{\"field\":\"x\"}},\"id\":\"1033\",\"type\":\"VBar\"},{\"attributes\":{},\"id\":\"1025\",\"type\":\"PanTool\"},{\"attributes\":{\"fill_color\":{\"value\":\"#1f77b4\"},\"line_color\":{\"value\":\"#1f77b4\"},\"top\":{\"field\":\"top\"},\"x\":{\"field\":\"x\"}},\"id\":\"1031\",\"type\":\"VBar\"},{\"attributes\":{},\"id\":\"1012\",\"type\":\"CategoricalScale\"},{\"attributes\":{\"axis\":{\"id\":\"1016\"},\"coordinates\":null,\"group\":null,\"ticker\":null},\"id\":\"1018\",\"type\":\"Grid\"},{\"attributes\":{\"tools\":[{\"id\":\"1023\"},{\"id\":\"1024\"},{\"id\":\"1025\"}]},\"id\":\"1026\",\"type\":\"Toolbar\"},{\"attributes\":{},\"id\":\"1043\",\"type\":\"UnionRenderers\"},{\"attributes\":{\"coordinates\":null,\"formatter\":{\"id\":\"1041\"},\"group\":null,\"major_label_policy\":{\"id\":\"1042\"},\"ticker\":{\"id\":\"1017\"}},\"id\":\"1016\",\"type\":\"CategoricalAxis\"},{\"attributes\":{\"source\":{\"id\":\"1030\"}},\"id\":\"1035\",\"type\":\"CDSView\"},{\"attributes\":{},\"id\":\"1017\",\"type\":\"CategoricalTicker\"},{\"attributes\":{\"coordinates\":null,\"group\":null,\"text\":\"Victim Age Distribution\"},\"id\":\"1006\",\"type\":\"Title\"},{\"attributes\":{},\"id\":\"1010\",\"type\":\"DataRange1d\"},{\"attributes\":{\"fill_alpha\":{\"value\":0.1},\"fill_color\":{\"value\":\"#1f77b4\"},\"hatch_alpha\":{\"value\":0.1},\"line_alpha\":{\"value\":0.1},\"line_color\":{\"value\":\"#1f77b4\"},\"top\":{\"field\":\"top\"},\"x\":{\"field\":\"x\"}},\"id\":\"1032\",\"type\":\"VBar\"},{\"attributes\":{\"coordinates\":null,\"data_source\":{\"id\":\"1030\"},\"glyph\":{\"id\":\"1031\"},\"group\":null,\"hover_glyph\":null,\"muted_glyph\":{\"id\":\"1033\"},\"nonselection_glyph\":{\"id\":\"1032\"},\"view\":{\"id\":\"1035\"}},\"id\":\"1034\",\"type\":\"GlyphRenderer\"},{\"attributes\":{},\"id\":\"1042\",\"type\":\"AllLabels\"},{\"attributes\":{},\"id\":\"1044\",\"type\":\"Selection\"},{\"attributes\":{\"axis\":{\"id\":\"1019\"},\"coordinates\":null,\"dimension\":1,\"group\":null,\"ticker\":null},\"id\":\"1022\",\"type\":\"Grid\"},{\"attributes\":{},\"id\":\"1038\",\"type\":\"BasicTickFormatter\"},{\"attributes\":{\"data\":{\"top\":[1,1,1,2,2,8,6,17,16,11,13,21,23,21,16,22,22,12,18,19,10,9,13,6,2,6,6,6,7,1,6,9,7,5,3,4,5,4,8,6,2,3,3,3,5,2,2,10,3,4,4,2,4,5,1,2,3,2,1,2,2,4,1,1,1,1,2,1,1,1,1,1,22],\"x\":[\"0.08333329856395721\",\"0.16666600108146667\",\"1.0\",\"14.0\",\"15.0\",\"16.0\",\"17.0\",\"18.0\",\"19.0\",\"20.0\",\"21.0\",\"22.0\",\"23.0\",\"24.0\",\"25.0\",\"26.0\",\"27.0\",\"28.0\",\"29.0\",\"30.0\",\"31.0\",\"32.0\",\"33.0\",\"34.0\",\"35.0\",\"36.0\",\"37.0\",\"38.0\",\"39.0\",\"4.0\",\"40.0\",\"41.0\",\"42.0\",\"43.0\",\"44.0\",\"45.0\",\"46.0\",\"47.0\",\"48.0\",\"49.0\",\"5.0\",\"50.0\",\"51.0\",\"52.0\",\"53.0\",\"54.0\",\"55.0\",\"56.0\",\"57.0\",\"59.0\",\"60.0\",\"61.0\",\"63.0\",\"67.0\",\"68.0\",\"69.0\",\"70.0\",\"71.0\",\"72.0\",\"73.0\",\"74.0\",\"75.0\",\"76.0\",\"77.0\",\"78.0\",\"79.0\",\"80.0\",\"83.0\",\"84.0\",\"86.0\",\"90.0\",\"91.0\",\"nan\"]},\"selected\":{\"id\":\"1044\"},\"selection_policy\":{\"id\":\"1043\"}},\"id\":\"1030\",\"type\":\"ColumnDataSource\"},{\"attributes\":{\"factors\":[\"0.08333329856395721\",\"0.16666600108146667\",\"1.0\",\"14.0\",\"15.0\",\"16.0\",\"17.0\",\"18.0\",\"19.0\",\"20.0\",\"21.0\",\"22.0\",\"23.0\",\"24.0\",\"25.0\",\"26.0\",\"27.0\",\"28.0\",\"29.0\",\"30.0\",\"31.0\",\"32.0\",\"33.0\",\"34.0\",\"35.0\",\"36.0\",\"37.0\",\"38.0\",\"39.0\",\"4.0\",\"40.0\",\"41.0\",\"42.0\",\"43.0\",\"44.0\",\"45.0\",\"46.0\",\"47.0\",\"48.0\",\"49.0\",\"5.0\",\"50.0\",\"51.0\",\"52.0\",\"53.0\",\"54.0\",\"55.0\",\"56.0\",\"57.0\",\"59.0\",\"60.0\",\"61.0\",\"63.0\",\"67.0\",\"68.0\",\"69.0\",\"70.0\",\"71.0\",\"72.0\",\"73.0\",\"74.0\",\"75.0\",\"76.0\",\"77.0\",\"78.0\",\"79.0\",\"80.0\",\"83.0\",\"84.0\",\"86.0\",\"90.0\",\"91.0\",\"nan\"]},\"id\":\"1008\",\"type\":\"FactorRange\"},{\"attributes\":{},\"id\":\"1020\",\"type\":\"BasicTicker\"}],\"root_ids\":[\"1005\"]},\"title\":\"Bokeh Application\",\"version\":\"2.4.3\"}};\n",
       "  const render_items = [{\"docid\":\"1211416c-bf69-408b-8f0c-8595a095401b\",\"root_ids\":[\"1005\"],\"roots\":{\"1005\":\"889cc301-9623-4195-a5cf-d491d53f9f63\"}}];\n",
       "  root.Bokeh.embed.embed_items_notebook(docs_json, render_items);\n",
       "  }\n",
       "  if (root.Bokeh !== undefined) {\n",
       "    embed_document(root);\n",
       "  } else {\n",
       "    let attempts = 0;\n",
       "    const timer = setInterval(function(root) {\n",
       "      if (root.Bokeh !== undefined) {\n",
       "        clearInterval(timer);\n",
       "        embed_document(root);\n",
       "      } else {\n",
       "        attempts++;\n",
       "        if (attempts > 100) {\n",
       "          clearInterval(timer);\n",
       "          console.log(\"Bokeh: ERROR: Unable to run BokehJS code because BokehJS library is missing\");\n",
       "        }\n",
       "      }\n",
       "    }, 10, root)\n",
       "  }\n",
       "})(window);"
      ],
      "application/vnd.bokehjs_exec.v0+json": ""
     },
     "metadata": {
      "application/vnd.bokehjs_exec.v0+json": {
       "id": "1005"
      }
     },
     "output_type": "display_data"
    }
   ],
   "source": [
    "bar = plotting.figure(x_range=age_count['Age'], title='Victim Age Distribution', tools=\"wheel_zoom,reset,pan\")\n",
    "bar.vbar(x=age_count['Age'], top=age_count['count'])\n",
    "show(bar)"
   ]
  },
  {
   "cell_type": "code",
   "execution_count": 262,
   "id": "55db5415-97d6-4fd1-b7fe-12633253185e",
   "metadata": {
    "tags": []
   },
   "outputs": [],
   "source": [
    "ages = [0, 10, 20, 30, 40, 50, 70, 110] \n",
    "# age_bins = pd.cut(ab['Age'], bins=ages, labels=['0-10', '10-20', '20-30', '30-40', '40-50', '+50'])\n",
    "case_bin = case_df.groupby([\"Gender\", pd.cut(case_df['Age'], bins=ages)], dropna=True)\n",
    "binned_cases = case_bin.size().unstack()"
   ]
  },
  {
   "cell_type": "code",
   "execution_count": 296,
   "id": "f0c48454-ab1e-43fb-9444-25be048a78be",
   "metadata": {},
   "outputs": [
    {
     "data": {
      "text/html": [
       "<div>\n",
       "<style scoped>\n",
       "    .dataframe tbody tr th:only-of-type {\n",
       "        vertical-align: middle;\n",
       "    }\n",
       "\n",
       "    .dataframe tbody tr th {\n",
       "        vertical-align: top;\n",
       "    }\n",
       "\n",
       "    .dataframe thead th {\n",
       "        text-align: right;\n",
       "    }\n",
       "</style>\n",
       "<table border=\"1\" class=\"dataframe\">\n",
       "  <thead>\n",
       "    <tr style=\"text-align: right;\">\n",
       "      <th>Age</th>\n",
       "      <th>(0, 10]</th>\n",
       "      <th>(10, 20]</th>\n",
       "      <th>(20, 30]</th>\n",
       "      <th>(30, 40]</th>\n",
       "      <th>(40, 50]</th>\n",
       "      <th>(50, 70]</th>\n",
       "      <th>(70, 110]</th>\n",
       "    </tr>\n",
       "    <tr>\n",
       "      <th>Gender</th>\n",
       "      <th></th>\n",
       "      <th></th>\n",
       "      <th></th>\n",
       "      <th></th>\n",
       "      <th></th>\n",
       "      <th></th>\n",
       "      <th></th>\n",
       "    </tr>\n",
       "  </thead>\n",
       "  <tbody>\n",
       "    <tr>\n",
       "      <th>Female</th>\n",
       "      <td>2</td>\n",
       "      <td>5</td>\n",
       "      <td>18</td>\n",
       "      <td>14</td>\n",
       "      <td>13</td>\n",
       "      <td>11</td>\n",
       "      <td>7</td>\n",
       "    </tr>\n",
       "    <tr>\n",
       "      <th>Male</th>\n",
       "      <td>4</td>\n",
       "      <td>57</td>\n",
       "      <td>169</td>\n",
       "      <td>57</td>\n",
       "      <td>41</td>\n",
       "      <td>42</td>\n",
       "      <td>15</td>\n",
       "    </tr>\n",
       "  </tbody>\n",
       "</table>\n",
       "</div>"
      ],
      "text/plain": [
       "Age      (0, 10]  (10, 20]  (20, 30]  (30, 40]  (40, 50]  (50, 70]  (70, 110]\n",
       "Gender                                                                       \n",
       " Female        2         5        18        14        13        11          7\n",
       " Male          4        57       169        57        41        42         15"
      ]
     },
     "execution_count": 296,
     "metadata": {},
     "output_type": "execute_result"
    }
   ],
   "source": [
    "binned_cases"
   ]
  },
  {
   "cell_type": "code",
   "execution_count": 272,
   "id": "e3d26637-cd43-477b-8c99-b05a39b8fea3",
   "metadata": {
    "collapsed": true,
    "jupyter": {
     "outputs_hidden": true
    },
    "tags": []
   },
   "outputs": [
    {
     "data": {
      "text/plain": [
       "<AxesSubplot:xlabel='Gender'>"
      ]
     },
     "execution_count": 272,
     "metadata": {},
     "output_type": "execute_result"
    },
    {
     "data": {
      "image/png": "[encoded data removed]",
      "text/plain": [
       "<Figure size 432x288 with 1 Axes>"
      ]
     },
     "metadata": {
      "needs_background": "light"
     },
     "output_type": "display_data"
    }
   ],
   "source": [
    "binned_cases.plot(kind=\"bar\", legend=True)"
   ]
  },
  {
   "cell_type": "code",
   "execution_count": 270,
   "id": "adddbf50-a0e2-4c72-b942-3a820a2d4b58",
   "metadata": {
    "collapsed": true,
    "jupyter": {
     "outputs_hidden": true
    },
    "tags": []
   },
   "outputs": [
    {
     "data": {
      "text/plain": [
       "<AxesSubplot:xlabel='Gender'>"
      ]
     },
     "execution_count": 270,
     "metadata": {},
     "output_type": "execute_result"
    },
    {
     "data": {
      "image/png": "[encoded data removed]",
      "text/plain": [
       "<Figure size 432x288 with 1 Axes>"
      ]
     },
     "metadata": {
      "needs_background": "light"
     },
     "output_type": "display_data"
    }
   ],
   "source": [
    "binned_cases.plot.bar(legend=True)"
   ]
  },
  {
   "cell_type": "code",
   "execution_count": 297,
   "id": "a5de9dd1-8a33-4a02-bc66-fc8974fa6dd6",
   "metadata": {},
   "outputs": [],
   "source": [
    "# add column with age bins\n",
    "case_df['age_bin'] = pd.cut(case_df['Age'], bins=ages)"
   ]
  },
  {
   "cell_type": "code",
   "execution_count": 319,
   "id": "2112245a-d073-4727-a0a7-f154d5b2b4f7",
   "metadata": {},
   "outputs": [],
   "source": [
    "age_bin = pd.cut(case_df['Age'], bins=ages)"
   ]
  },
  {
   "cell_type": "code",
   "execution_count": 329,
   "id": "0b7f2e92-dd98-44de-a277-f0711ea5cc29",
   "metadata": {
    "collapsed": true,
    "jupyter": {
     "outputs_hidden": true
    },
    "tags": []
   },
   "outputs": [
    {
     "data": {
      "text/html": [
       "<div>\n",
       "<style scoped>\n",
       "    .dataframe tbody tr th:only-of-type {\n",
       "        vertical-align: middle;\n",
       "    }\n",
       "\n",
       "    .dataframe tbody tr th {\n",
       "        vertical-align: top;\n",
       "    }\n",
       "\n",
       "    .dataframe thead th {\n",
       "        text-align: right;\n",
       "    }\n",
       "</style>\n",
       "<table border=\"1\" class=\"dataframe\">\n",
       "  <thead>\n",
       "    <tr style=\"text-align: right;\">\n",
       "      <th>Gender</th>\n",
       "      <th>Female</th>\n",
       "      <th>Male</th>\n",
       "    </tr>\n",
       "    <tr>\n",
       "      <th>Age</th>\n",
       "      <th></th>\n",
       "      <th></th>\n",
       "    </tr>\n",
       "  </thead>\n",
       "  <tbody>\n",
       "    <tr>\n",
       "      <th>(0, 10]</th>\n",
       "      <td>2</td>\n",
       "      <td>4</td>\n",
       "    </tr>\n",
       "    <tr>\n",
       "      <th>(10, 20]</th>\n",
       "      <td>5</td>\n",
       "      <td>57</td>\n",
       "    </tr>\n",
       "    <tr>\n",
       "      <th>(20, 30]</th>\n",
       "      <td>18</td>\n",
       "      <td>169</td>\n",
       "    </tr>\n",
       "    <tr>\n",
       "      <th>(30, 40]</th>\n",
       "      <td>14</td>\n",
       "      <td>57</td>\n",
       "    </tr>\n",
       "    <tr>\n",
       "      <th>(40, 50]</th>\n",
       "      <td>13</td>\n",
       "      <td>41</td>\n",
       "    </tr>\n",
       "    <tr>\n",
       "      <th>(50, 70]</th>\n",
       "      <td>11</td>\n",
       "      <td>42</td>\n",
       "    </tr>\n",
       "    <tr>\n",
       "      <th>(70, 110]</th>\n",
       "      <td>7</td>\n",
       "      <td>15</td>\n",
       "    </tr>\n",
       "  </tbody>\n",
       "</table>\n",
       "</div>"
      ],
      "text/plain": [
       "Gender      Female   Male\n",
       "Age                      \n",
       "(0, 10]          2      4\n",
       "(10, 20]         5     57\n",
       "(20, 30]        18    169\n",
       "(30, 40]        14     57\n",
       "(40, 50]        13     41\n",
       "(50, 70]        11     42\n",
       "(70, 110]        7     15"
      ]
     },
     "execution_count": 329,
     "metadata": {},
     "output_type": "execute_result"
    }
   ],
   "source": [
    "binned = pd.crosstab(age_bin,case_df['Gender'])\n",
    "binned"
   ]
  },
  {
   "cell_type": "code",
   "execution_count": 364,
   "id": "5b4f86ab-28fc-47b2-8b28-4ab0f6769c29",
   "metadata": {},
   "outputs": [
    {
     "data": {
      "text/html": [
       "<div>\n",
       "<style scoped>\n",
       "    .dataframe tbody tr th:only-of-type {\n",
       "        vertical-align: middle;\n",
       "    }\n",
       "\n",
       "    .dataframe tbody tr th {\n",
       "        vertical-align: top;\n",
       "    }\n",
       "\n",
       "    .dataframe thead th {\n",
       "        text-align: right;\n",
       "    }\n",
       "</style>\n",
       "<table border=\"1\" class=\"dataframe\">\n",
       "  <thead>\n",
       "    <tr style=\"text-align: right;\">\n",
       "      <th>Gender</th>\n",
       "      <th>Female</th>\n",
       "      <th>Male</th>\n",
       "    </tr>\n",
       "    <tr>\n",
       "      <th>Age</th>\n",
       "      <th></th>\n",
       "      <th></th>\n",
       "    </tr>\n",
       "  </thead>\n",
       "  <tbody>\n",
       "    <tr>\n",
       "      <th>0-10</th>\n",
       "      <td>2</td>\n",
       "      <td>4</td>\n",
       "    </tr>\n",
       "    <tr>\n",
       "      <th>11-20</th>\n",
       "      <td>5</td>\n",
       "      <td>57</td>\n",
       "    </tr>\n",
       "    <tr>\n",
       "      <th>21-30</th>\n",
       "      <td>18</td>\n",
       "      <td>169</td>\n",
       "    </tr>\n",
       "    <tr>\n",
       "      <th>31-40</th>\n",
       "      <td>14</td>\n",
       "      <td>57</td>\n",
       "    </tr>\n",
       "    <tr>\n",
       "      <th>41-50</th>\n",
       "      <td>13</td>\n",
       "      <td>41</td>\n",
       "    </tr>\n",
       "    <tr>\n",
       "      <th>51-70</th>\n",
       "      <td>11</td>\n",
       "      <td>42</td>\n",
       "    </tr>\n",
       "    <tr>\n",
       "      <th>+71</th>\n",
       "      <td>7</td>\n",
       "      <td>15</td>\n",
       "    </tr>\n",
       "  </tbody>\n",
       "</table>\n",
       "</div>"
      ],
      "text/plain": [
       "Gender   Female   Male\n",
       "Age                   \n",
       "0-10          2      4\n",
       "11-20         5     57\n",
       "21-30        18    169\n",
       "31-40        14     57\n",
       "41-50        13     41\n",
       "51-70        11     42\n",
       "+71           7     15"
      ]
     },
     "execution_count": 364,
     "metadata": {},
     "output_type": "execute_result"
    }
   ],
   "source": [
    "a = ['0-10', '11-20','21-30', '31-40', '41-50', '51-70', '+71']\n",
    "binned['Age'] =a\n",
    "binned.set_index('Age', inplace=True)\n",
    "binned"
   ]
  },
  {
   "cell_type": "code",
   "execution_count": 366,
   "id": "c464ba64-b084-49e0-b1ad-63218bb189b7",
   "metadata": {},
   "outputs": [
    {
     "data": {
      "text/plain": [
       "Index(['0-10', '11-20', '21-30', '31-40', '41-50', '51-70', '+71'], dtype='object', name='Age')"
      ]
     },
     "execution_count": 366,
     "metadata": {},
     "output_type": "execute_result"
    }
   ],
   "source": [
    "binned.index"
   ]
  },
  {
   "cell_type": "code",
   "execution_count": 382,
   "id": "43601dc0-9b45-4223-8e1b-587cae9af624",
   "metadata": {},
   "outputs": [
    {
     "data": {
      "text/html": [
       "\n",
       "  <div class=\"bk-root\" id=\"2b1c7e5f-a0cc-4dd0-a973-60e24885ee52\" data-root-id=\"8082\"></div>\n"
      ]
     },
     "metadata": {},
     "output_type": "display_data"
    },
    {
     "data": {
      "application/javascript": [
       "(function(root) {\n",
       "  function embed_document(root) {\n",
       "  const docs_json = {\"8bcae1ab-f216-418a-9fc5-3fabbe00fa46\":{\"defs\":[],\"roots\":{\"references\":[{\"attributes\":{\"below\":[{\"id\":\"8093\"}],\"center\":[{\"id\":\"8095\"},{\"id\":\"8099\"}],\"left\":[{\"id\":\"8096\"}],\"renderers\":[{\"id\":\"8116\"},{\"id\":\"8123\"}],\"title\":{\"id\":\"8083\"},\"toolbar\":{\"id\":\"8103\"},\"x_range\":{\"id\":\"8085\"},\"x_scale\":{\"id\":\"8089\"},\"y_range\":{\"id\":\"8087\"},\"y_scale\":{\"id\":\"8091\"}},\"id\":\"8082\",\"subtype\":\"Figure\",\"type\":\"Plot\"},{\"attributes\":{},\"id\":\"8424\",\"type\":\"AllLabels\"},{\"attributes\":{},\"id\":\"8089\",\"type\":\"CategoricalScale\"},{\"attributes\":{},\"id\":\"8421\",\"type\":\"AllLabels\"},{\"attributes\":{\"fields\":[\" Male\",\" Female\"]},\"id\":\"8110\",\"type\":\"Stack\"},{\"attributes\":{\"bottom\":{\"expr\":{\"id\":\"8107\"}},\"fill_color\":{\"value\":\"royalblue\"},\"hatch_color\":{\"value\":\"royalblue\"},\"line_color\":{\"value\":\"royalblue\"},\"top\":{\"expr\":{\"id\":\"8108\"}},\"width\":{\"value\":0.9},\"x\":{\"field\":\"Age\"}},\"id\":\"8113\",\"type\":\"VBar\"},{\"attributes\":{\"bottom\":{\"expr\":{\"id\":\"8107\"}},\"fill_alpha\":{\"value\":0.2},\"fill_color\":{\"value\":\"royalblue\"},\"hatch_alpha\":{\"value\":0.2},\"hatch_color\":{\"value\":\"royalblue\"},\"line_alpha\":{\"value\":0.2},\"line_color\":{\"value\":\"royalblue\"},\"top\":{\"expr\":{\"id\":\"8108\"}},\"width\":{\"value\":0.9},\"x\":{\"field\":\"Age\"}},\"id\":\"8115\",\"type\":\"VBar\"},{\"attributes\":{\"axis\":{\"id\":\"8093\"},\"coordinates\":null,\"group\":null,\"ticker\":null},\"id\":\"8095\",\"type\":\"Grid\"},{\"attributes\":{\"coordinates\":null,\"data_source\":{\"id\":\"8111\"},\"glyph\":{\"id\":\"8113\"},\"group\":null,\"hover_glyph\":null,\"muted_glyph\":{\"id\":\"8115\"},\"name\":\" Male\",\"nonselection_glyph\":{\"id\":\"8114\"},\"view\":{\"id\":\"8117\"}},\"id\":\"8116\",\"type\":\"GlyphRenderer\"},{\"attributes\":{\"bottom\":{\"expr\":{\"id\":\"8109\"}},\"fill_color\":{\"value\":\"lightpink\"},\"hatch_color\":{\"value\":\"lightpink\"},\"line_color\":{\"value\":\"lightpink\"},\"top\":{\"expr\":{\"id\":\"8110\"}},\"width\":{\"value\":0.9},\"x\":{\"field\":\"Age\"}},\"id\":\"8120\",\"type\":\"VBar\"},{\"attributes\":{},\"id\":\"8425\",\"type\":\"UnionRenderers\"},{\"attributes\":{\"coordinates\":null,\"data_source\":{\"id\":\"8118\"},\"glyph\":{\"id\":\"8120\"},\"group\":null,\"hover_glyph\":null,\"muted_glyph\":{\"id\":\"8122\"},\"name\":\" Female\",\"nonselection_glyph\":{\"id\":\"8121\"},\"view\":{\"id\":\"8124\"}},\"id\":\"8123\",\"type\":\"GlyphRenderer\"},{\"attributes\":{\"coordinates\":null,\"formatter\":{\"id\":\"8423\"},\"group\":null,\"major_label_policy\":{\"id\":\"8424\"},\"ticker\":{\"id\":\"8094\"}},\"id\":\"8093\",\"type\":\"CategoricalAxis\"},{\"attributes\":{\"bottom\":{\"expr\":{\"id\":\"8109\"}},\"fill_alpha\":{\"value\":0.2},\"fill_color\":{\"value\":\"lightpink\"},\"hatch_alpha\":{\"value\":0.2},\"hatch_color\":{\"value\":\"lightpink\"},\"line_alpha\":{\"value\":0.2},\"line_color\":{\"value\":\"lightpink\"},\"top\":{\"expr\":{\"id\":\"8110\"}},\"width\":{\"value\":0.9},\"x\":{\"field\":\"Age\"}},\"id\":\"8122\",\"type\":\"VBar\"},{\"attributes\":{},\"id\":\"8426\",\"type\":\"Selection\"},{\"attributes\":{},\"id\":\"8094\",\"type\":\"CategoricalTicker\"},{\"attributes\":{\"data\":{\" Female\":[2,5,18,14,13,11,7],\" Male\":[4,57,169,57,41,42,15],\"Age\":[\"0-10\",\"11-20\",\"21-30\",\"31-40\",\"41-50\",\"51-70\",\"+71\"]},\"selected\":{\"id\":\"8428\"},\"selection_policy\":{\"id\":\"8427\"}},\"id\":\"8118\",\"type\":\"ColumnDataSource\"},{\"attributes\":{\"axis\":{\"id\":\"8096\"},\"coordinates\":null,\"dimension\":1,\"group\":null,\"ticker\":null},\"id\":\"8099\",\"type\":\"Grid\"},{\"attributes\":{},\"id\":\"8097\",\"type\":\"BasicTicker\"},{\"attributes\":{},\"id\":\"8101\",\"type\":\"ResetTool\"},{\"attributes\":{},\"id\":\"8100\",\"type\":\"WheelZoomTool\"},{\"attributes\":{\"data\":{\" Female\":[2,5,18,14,13,11,7],\" Male\":[4,57,169,57,41,42,15],\"Age\":[\"0-10\",\"11-20\",\"21-30\",\"31-40\",\"41-50\",\"51-70\",\"+71\"]},\"selected\":{\"id\":\"8426\"},\"selection_policy\":{\"id\":\"8425\"}},\"id\":\"8111\",\"type\":\"ColumnDataSource\"},{\"attributes\":{},\"id\":\"8102\",\"type\":\"PanTool\"},{\"attributes\":{\"tools\":[{\"id\":\"8100\"},{\"id\":\"8101\"},{\"id\":\"8102\"}]},\"id\":\"8103\",\"type\":\"Toolbar\"},{\"attributes\":{\"coordinates\":null,\"formatter\":{\"id\":\"8420\"},\"group\":null,\"major_label_policy\":{\"id\":\"8421\"},\"ticker\":{\"id\":\"8097\"}},\"id\":\"8096\",\"type\":\"LinearAxis\"},{\"attributes\":{\"source\":{\"id\":\"8111\"}},\"id\":\"8117\",\"type\":\"CDSView\"},{\"attributes\":{},\"id\":\"8087\",\"type\":\"DataRange1d\"},{\"attributes\":{},\"id\":\"8091\",\"type\":\"LinearScale\"},{\"attributes\":{\"bottom\":{\"expr\":{\"id\":\"8107\"}},\"fill_alpha\":{\"value\":0.1},\"fill_color\":{\"value\":\"royalblue\"},\"hatch_alpha\":{\"value\":0.1},\"hatch_color\":{\"value\":\"royalblue\"},\"line_alpha\":{\"value\":0.1},\"line_color\":{\"value\":\"royalblue\"},\"top\":{\"expr\":{\"id\":\"8108\"}},\"width\":{\"value\":0.9},\"x\":{\"field\":\"Age\"}},\"id\":\"8114\",\"type\":\"VBar\"},{\"attributes\":{},\"id\":\"8423\",\"type\":\"CategoricalTickFormatter\"},{\"attributes\":{\"fields\":[\" Male\"]},\"id\":\"8108\",\"type\":\"Stack\"},{\"attributes\":{},\"id\":\"8427\",\"type\":\"UnionRenderers\"},{\"attributes\":{\"fields\":[]},\"id\":\"8107\",\"type\":\"Stack\"},{\"attributes\":{\"fields\":[\" Male\"]},\"id\":\"8109\",\"type\":\"Stack\"},{\"attributes\":{},\"id\":\"8428\",\"type\":\"Selection\"},{\"attributes\":{\"bottom\":{\"expr\":{\"id\":\"8109\"}},\"fill_alpha\":{\"value\":0.1},\"fill_color\":{\"value\":\"lightpink\"},\"hatch_alpha\":{\"value\":0.1},\"hatch_color\":{\"value\":\"lightpink\"},\"line_alpha\":{\"value\":0.1},\"line_color\":{\"value\":\"lightpink\"},\"top\":{\"expr\":{\"id\":\"8110\"}},\"width\":{\"value\":0.9},\"x\":{\"field\":\"Age\"}},\"id\":\"8121\",\"type\":\"VBar\"},{\"attributes\":{\"coordinates\":null,\"group\":null,\"text\":\"Victim Age Distribution\"},\"id\":\"8083\",\"type\":\"Title\"},{\"attributes\":{\"factors\":[\"0-10\",\"11-20\",\"21-30\",\"31-40\",\"41-50\",\"51-70\",\"+71\"]},\"id\":\"8085\",\"type\":\"FactorRange\"},{\"attributes\":{},\"id\":\"8420\",\"type\":\"BasicTickFormatter\"},{\"attributes\":{\"source\":{\"id\":\"8118\"}},\"id\":\"8124\",\"type\":\"CDSView\"}],\"root_ids\":[\"8082\"]},\"title\":\"Bokeh Application\",\"version\":\"2.4.3\"}};\n",
       "  const render_items = [{\"docid\":\"8bcae1ab-f216-418a-9fc5-3fabbe00fa46\",\"root_ids\":[\"8082\"],\"roots\":{\"8082\":\"2b1c7e5f-a0cc-4dd0-a973-60e24885ee52\"}}];\n",
       "  root.Bokeh.embed.embed_items_notebook(docs_json, render_items);\n",
       "  }\n",
       "  if (root.Bokeh !== undefined) {\n",
       "    embed_document(root);\n",
       "  } else {\n",
       "    let attempts = 0;\n",
       "    const timer = setInterval(function(root) {\n",
       "      if (root.Bokeh !== undefined) {\n",
       "        clearInterval(timer);\n",
       "        embed_document(root);\n",
       "      } else {\n",
       "        attempts++;\n",
       "        if (attempts > 100) {\n",
       "          clearInterval(timer);\n",
       "          console.log(\"Bokeh: ERROR: Unable to run BokehJS code because BokehJS library is missing\");\n",
       "        }\n",
       "      }\n",
       "    }, 10, root)\n",
       "  }\n",
       "})(window);"
      ],
      "application/vnd.bokehjs_exec.v0+json": ""
     },
     "metadata": {
      "application/vnd.bokehjs_exec.v0+json": {
       "id": "8082"
      }
     },
     "output_type": "display_data"
    }
   ],
   "source": [
    "age_bar = plotting.figure(x_range=a, title='Victim Age Distribution', tools=\"wheel_zoom,reset,pan\")\n",
    "colors = ['royalblue', 'lightpink']\n",
    "# each category needs an x axis range\n",
    "age_bar.vbar_stack([' Male', ' Female'], x=['Age', 'Age'], width=0.9, source=binned, color=colors)\n",
    "show(age_bar)"
   ]
  },
  {
   "cell_type": "code",
   "execution_count": 399,
   "id": "2acad047-1107-4ff4-90ba-0c9deae3f591",
   "metadata": {},
   "outputs": [
    {
     "data": {
      "text/plain": [
       "0.8461538461538461"
      ]
     },
     "execution_count": 399,
     "metadata": {},
     "output_type": "execute_result"
    }
   ],
   "source": [
    "binned[' Male'].sum() / (binned[' Male'].sum() + binned[' Female'].sum())"
   ]
  },
  {
   "cell_type": "code",
   "execution_count": 414,
   "id": "28389c92-2e41-4c36-9cb4-26d3b438e8f6",
   "metadata": {},
   "outputs": [
    {
     "data": {
      "image/png": "[encoded data removed]",
      "text/plain": [
       "<Figure size 432x288 with 1 Axes>"
      ]
     },
     "metadata": {},
     "output_type": "display_data"
    }
   ],
   "source": [
    "plt.pie([binned[' Female'].sum(), binned[' Male'].sum()], colors=['pink', 'blue'], #labels=['Female', 'Male'],\n",
    "       pctdistance=0.2)\n",
    "donut = plt.Circle((0,0), 0.65, fc='white')\n",
    "plt.annotate('Males account for', (-0.55,0.1))\n",
    "plt.annotate('84.6% of homicides', (-0.6,-0.1))\n",
    "fig = plt.gcf()\n",
    "fig.gca().add_artist(donut)\n",
    "plt.show()"
   ]
  },
  {
   "cell_type": "code",
   "execution_count": null,
   "id": "1cc256b7-29fd-4b2f-97aa-792b9460fb0d",
   "metadata": {},
   "outputs": [],
   "source": []
  }
 ],
 "metadata": {
  "kernelspec": {
   "display_name": "Python 3",
   "language": "python",
   "name": "python3"
  },
  "language_info": {
   "codemirror_mode": {
    "name": "ipython",
    "version": 3
   },
   "file_extension": ".py",
   "mimetype": "text/x-python",
   "name": "python",
   "nbconvert_exporter": "python",
   "pygments_lexer": "ipython3",
   "version": "3.9.1"
  }
 },
 "nbformat": 4,
 "nbformat_minor": 5
}
