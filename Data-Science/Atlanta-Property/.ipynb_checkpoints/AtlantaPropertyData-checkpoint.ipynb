{
 "cells": [
  {
   "cell_type": "code",
   "execution_count": 1,
   "id": "57977db9-338b-48ac-ad8d-89996a214353",
   "metadata": {},
   "outputs": [],
   "source": [
    "import pandas as pd              # v1.4.3\n",
    "import numpy as np               # v1.20.1\n",
    "import matplotlib.pyplot as plt  # v3.5.2\n",
    "import folium                    # v0.12.1.post1"
   ]
  },
  {
   "cell_type": "code",
   "execution_count": 2,
   "id": "36b06116-a36c-4a11-bc53-56f61766c7f6",
   "metadata": {},
   "outputs": [],
   "source": [
    "# Should really use glob to read this all in.\n",
    "#col_types = {'DIGEST': 'int16'} Why did I need this?\n",
    "Parcels_09 = pd.read_csv(r'F:/GISdata/Atlanta/Tax_Parcels_2009.csv', sep=',', index_col='OBJECTID', low_memory=False)\n",
    "Parcels_10 = pd.read_csv(r'F:/GISdata/Atlanta/Tax_Parcels_2010.csv', sep=',', index_col='OBJECTID', low_memory=False)\n",
    "#col_types = {'TaxYear': 'int16'}\n",
    "Parcels_11 = pd.read_csv(r'F:/GISdata/Atlanta/Tax_Parcels_2011.csv', sep=',', index_col='OBJECTID', low_memory=False)\n",
    "Parcels_12 = pd.read_csv(r'F:/GISdata/Atlanta/Tax_Parcels_2012.csv', sep=',', index_col='OBJECTID', low_memory=False)\n",
    "Parcels_13 = pd.read_csv(r'F:/GISdata/Atlanta/Tax_Parcels_2013.csv', sep=',', index_col='OBJECTID', low_memory=False)\n",
    "Parcels_14 = pd.read_csv(r'F:/GISdata/Atlanta/Tax_Parcels_2014.csv', sep=',', index_col='OBJECTID', low_memory=False)\n",
    "Parcels_15 = pd.read_csv(r'F:/GISdata/Atlanta/Tax_Parcels_2015.csv', sep=',', index_col='OBJECTID', low_memory=False)\n",
    "# Parcels_16 = pd.read_csv(r'F:/GISdata/Atlanta/Tax_Parcels_2016.csv', sep=',', index_col='OBJECTID', dtype=col_types, low_memory=False)\n",
    "# Parcels_17 = pd.read_csv(r'F:/GISdata/Atlanta/Tax_Parcels_2017.csv', sep=',', index_col='OBJECTID', dtype=col_types, low_memory=False)\n",
    "# Parcels_18 = pd.read_csv(r'F:/GISdata/Atlanta/Tax_Parcels_2018.csv', sep=',', index_col='OBJECTID', dtype=col_types, low_memory=False)\n",
    "# Parcels_19 = pd.read_csv(r'F:/GISdata/Atlanta/Tax_Parcels_2019.csv', sep=',', index_col='OBJECTID', dtype=col_types, low_memory=False)\n",
    "# Parcels_20 = pd.read_csv(r'F:/GISdata/Atlanta/Tax_Parcels_2020.csv', sep=',', index_col='OBJECTID', dtype=col_types, low_memory=False)\n",
    "# Parcels_21 = pd.read_csv(r'F:/GISdata/Atlanta/Tax_Parcels_2021.csv', sep=',', index_col='OBJECTID', dtype=col_types, low_memory=False)\n",
    "# Parcels_22 = pd.read_csv(r'F:/GISdata/Atlanta/Tax_Parcels_2022.csv', sep=',', index_col='OBJECTID', dtype=col_types, low_memory=False)"
   ]
  },
  {
   "cell_type": "markdown",
   "id": "719ff775-9497-4f2e-bd25-24890921b3a8",
   "metadata": {
    "tags": []
   },
   "source": [
    "# The Plan\n",
    "- [x] Get property records\n",
    "- [ ] Clean data\n",
    "    - [x] Fix headers  \n",
    "## Analysis\n",
    "- [ ] Bar Chart sales v time\n",
    "- [ ] Line graph property value\n",
    "- [ ] Changes in livable units\n",
    "- [ ] Local coverage of gentrification v tax records?  \n",
    "| ParcelID | Owner | TaxDist | Subdiv | TotAssess | TotAppr | LivUnits |  \n",
    "|----------|-------|---------|--------|-----------|---------|----------|  \n",
    "- [ ] Whisker plot of value by tax district  \n",
    "    - [ ] x value, y tax dist  \n",
    "    - [ ] color code data  \n",
    "        - Absolute value?  \n",
    "        - Change per year?  \n",
    "\n",
    "## Parcel data information\n",
    "The CAMA information included with the published dataset is selected based on its value to the typical consumer of the data and includes the parcel identification number, the property address, property owner, owner's mailing address, tax district, assessed and appraised value for land and improvements, the number of livable units, acreage, property class and land use class.\n",
    "\n",
    "Fulton County GIS Collaboration Group [Centerline Address Landmark Data Model](http://share.myfultoncountyga.us/datashare/fultoncounty/Documents/CenterlineAddressLandmarkDataModelDocument.pdf)"
   ]
  },
  {
   "cell_type": "code",
   "execution_count": 3,
   "id": "60184f10-79fb-484f-af1e-7e31e6fecf14",
   "metadata": {},
   "outputs": [],
   "source": [
    "# a list of parcel tax IDs in the City of Atlanta.\n",
    "atlanta_tax_IDs = ['05', '05A', '05B', '05C', '05D', '05E', '05F', '05G', '05H', '05I', '05J',\n",
    "                    '05K', '05L', '05P', '05Q', '05R', '05S', '05T', '05U', '05V', '05W', '05X',\n",
    "                  '05Y', '05Z']  \n",
    "\n",
    "# column names changed in 2011, renaming to make analysis easier\n",
    "new_cols = {'PARID': 'ParcelID', 'TAX_DISTR': 'TaxDist', 'Digest': 'TaxYear','LIV_UNITS': 'LivUnits', 'OWNER1': 'Owner',\n",
    "            'TOT_ASSESS': 'TotAssess','TOT_APPR': 'TotAppr', 'TAXYEAR': 'TaxYear'}\n",
    "Parcels_10.rename(columns=new_cols, inplace=True)\n",
    "Parcels_09.rename(columns=new_cols, inplace=True)  \n",
    "\n",
    "# a subset of columns to analyze.\n",
    "simplified_cols = ['ParcelID', 'TaxDist', 'Owner', 'TotAppr', 'TotAssess', 'LIV_UNITS']"
   ]
  },
  {
   "cell_type": "code",
   "execution_count": 4,
   "id": "f9af69ac-6836-4fdf-9d17-be6bf77f723f",
   "metadata": {
    "tags": []
   },
   "outputs": [
    {
     "data": {
      "text/html": [
       "<div>\n",
       "<style scoped>\n",
       "    .dataframe tbody tr th:only-of-type {\n",
       "        vertical-align: middle;\n",
       "    }\n",
       "\n",
       "    .dataframe tbody tr th {\n",
       "        vertical-align: top;\n",
       "    }\n",
       "\n",
       "    .dataframe thead th {\n",
       "        text-align: right;\n",
       "    }\n",
       "</style>\n",
       "<table border=\"1\" class=\"dataframe\">\n",
       "  <thead>\n",
       "    <tr style=\"text-align: right;\">\n",
       "      <th></th>\n",
       "      <th>DIGEST</th>\n",
       "      <th>SITUS</th>\n",
       "      <th>TAXPIN</th>\n",
       "      <th>ParcelID</th>\n",
       "      <th>ATRPIN</th>\n",
       "      <th>TaxDist</th>\n",
       "      <th>Owner</th>\n",
       "      <th>OWNER2</th>\n",
       "      <th>ADD2</th>\n",
       "      <th>ADD3</th>\n",
       "      <th>...</th>\n",
       "      <th>STRUCT_YR</th>\n",
       "      <th>TIEBACK</th>\n",
       "      <th>TaxYear</th>\n",
       "      <th>STATUS_COD</th>\n",
       "      <th>LivUnits</th>\n",
       "      <th>PCODE</th>\n",
       "      <th>UNIT_NUM</th>\n",
       "      <th>EXTVER</th>\n",
       "      <th>Shape__Area</th>\n",
       "      <th>Shape__Length</th>\n",
       "    </tr>\n",
       "    <tr>\n",
       "      <th>OBJECTID</th>\n",
       "      <th></th>\n",
       "      <th></th>\n",
       "      <th></th>\n",
       "      <th></th>\n",
       "      <th></th>\n",
       "      <th></th>\n",
       "      <th></th>\n",
       "      <th></th>\n",
       "      <th></th>\n",
       "      <th></th>\n",
       "      <th></th>\n",
       "      <th></th>\n",
       "      <th></th>\n",
       "      <th></th>\n",
       "      <th></th>\n",
       "      <th></th>\n",
       "      <th></th>\n",
       "      <th></th>\n",
       "      <th></th>\n",
       "      <th></th>\n",
       "      <th></th>\n",
       "    </tr>\n",
       "  </thead>\n",
       "  <tbody>\n",
       "  </tbody>\n",
       "</table>\n",
       "<p>0 rows × 33 columns</p>\n",
       "</div>"
      ],
      "text/plain": [
       "Empty DataFrame\n",
       "Columns: [DIGEST, SITUS, TAXPIN, ParcelID, ATRPIN, TaxDist, Owner, OWNER2, ADD2, ADD3, ADD4, ADD5, LUC, NBHD, PROP_CLASS, CLASS, TotAppr, TotAssess, IMPR_APPR, LAND_APPR, FUL_EX_COD, VAL_ACRES, STRUCT_FLR, STRUCT_YR, TIEBACK, TaxYear, STATUS_COD, LivUnits, PCODE, UNIT_NUM, EXTVER, Shape__Area, Shape__Length]\n",
       "Index: []\n",
       "\n",
       "[0 rows x 33 columns]"
      ]
     },
     "execution_count": 4,
     "metadata": {},
     "output_type": "execute_result"
    }
   ],
   "source": [
    "# drop rows with no ['TaxYear'] data\n",
    "dfs = [Parcels_09, Parcels_10, Parcels_11, Parcels_12, Parcels_13, Parcels_14, Parcels_15]\n",
    "            # , Parcels_16, Parcels_17, Parcels_18, Parcels_19, Parcels_20, Parcels_21, Parcels_22]\n",
    "for df in dfs:\n",
    "        df.dropna(subset='TaxYear', inplace=True)\n",
    "Parcels_09[pd.isna(Parcels_09['TaxYear'])==True]"
   ]
  },
  {
   "cell_type": "markdown",
   "id": "d9751a11-558f-4bc8-8e78-efd86b87bef6",
   "metadata": {
    "jupyter": {
     "source_hidden": true
    },
    "tags": []
   },
   "source": [
    "## [Fulton County Tax Districts](https://fultonassessor.org/wp-content/uploads/sites/16/2018/05/Fulton-County-Tax-Districts-2018.pdf)\n",
    "05 City of Atlanta  \n",
    "05A City of Atlanta – Downtown CID  \n",
    "05B City of Atlanta – Buckhead CID  \n",
    "05C City of Atlanta – Midtown CID  \n",
    "05D City of Atlanta – Downtown CID/Midtown CID  \n",
    "05E City of Atlanta – Downtown CID/Midtown CID/Eastside TAD  \n",
    "05F City of Atlanta – Downtown CID/Eastside TAD  \n",
    "05G City of Atlanta – Beltline TAD/Midtown CID  \n",
    "05H City of Atlanta – Airport West CID  \n",
    "05I City of Atlanta – Airport West CID/Princeton Lakes TAD  \n",
    "05J City of Atlanta – Little Five Points CID  \n",
    "05K City of Atlanta - Westside CID  \n",
    "05L City of Atlanta – Westside CID/Beltline TAD  \n",
    "05P City of Atlanta – Stadium TAD  \n",
    "05Q City of Atlanta – Campbellton TAD  \n",
    "05R City of Atlanta – Metropolitan TAD  \n",
    "05S City of Atlanta – Hollowell TAD  \n",
    "05T City of Atlanta – Beltline TAD  \n",
    "05U City of Atlanta – Princeton Lakes TAD  \n",
    "05V City of Atlanta – Perry Bolton TAD  \n",
    "05W City of Atlanta – Eastside TAD  \n",
    "05X City of Atlanta – Atlantic Station TAD  \n",
    "05Y City of Atlanta – Downtown CID/Westside TAD  \n",
    "05Z City of Atlanta – Westside TAD  \n",
    "10 City of Alpharetta  \n",
    "10A City of Alpharetta – North Fulton CID    \n",
    "15 City of College Park  \n",
    "15H City of College Park –Airport West CID  \n",
    "15Z City of College Park – College Park TAD  \n",
    "20 City of East Point  \n",
    "20H City of East Point – Airport West CID  \n",
    "20I City of East Point- East Point TAD #2/Airport West CID  \n",
    "20J City of East Point – East Point TAD/Airport West CID  \n",
    "20Y City of East Point – East Point TAD #2  \n",
    "20Z City of East Point – East Point TAD  \n",
    "25 City of Fairburn  \n",
    "25C City of Fairburn – South Fulton CID  \n",
    "30 City of Hapeville  \n",
    "30A City of Hapeville – Airport West CID  \n",
    "30B City of Hapeville – Hapeville TAD/Airport West CID  \n",
    "30Z City of Hapeville – Hapeville TAD  \n",
    "35 City of Mountain Park  \n",
    "40 City of Palmetto  \n",
    "40C City of Palmetto – South Fulton CID  \n",
    "45 City of Roswell  \n",
    "45A City of Roswell – North Fulton CID  \n",
    "50 City of Union City  \n",
    "50C City of Union City – South Fulton CID   \n",
    "50Z City of Union City – Union City TAD  \n",
    "55 City of South Fulton  \n",
    "55C City of South Fulton – South Fulton CID  \n",
    "55D City of South Fulton – Fulton Industrial Boulevard CID  \n",
    "55H City of South Fulton – Airport West CID  \n",
    "56 City of Milton  \n",
    "56A City of Milton – North Fulton CID  \n",
    "57 City of Johns Creek  \n",
    "59 City of Sandy Springs  \n",
    "59B City of Sandy Springs – Fulton Perimeter CID  \n",
    "65 City of Chattahoochee Hills  \n",
    "70 Fulton Industrial District  \n",
    "70D Fulton Industrial District – Fulton Industrial Boulevard CID  \n",
    "Revised June 9, 2016  "
   ]
  },
  {
   "cell_type": "code",
   "execution_count": 31,
   "id": "ebac7273-cd4e-470f-9996-816461ce78f9",
   "metadata": {
    "tags": []
   },
   "outputs": [
    {
     "data": {
      "text/plain": [
       "Index(['ParcelID', 'TaxYear', 'Address', 'AddrNumber', 'AddrPreDir',\n",
       "       'AddrStreet', 'AddrSuffix', 'AddrPosDir', 'AddrUntTyp', 'AddrUnit',\n",
       "       'Owner', 'OwnerAddr1', 'OwnerAddr2', 'TaxDist', 'TotAssess',\n",
       "       'LandAssess', 'ImprAssess', 'TotAppr', 'LandAppr', 'ImprAppr', 'LUCode',\n",
       "       'ClassCode', 'LivUnits', 'LandAcres', 'NbrHood', 'Subdiv', 'SubdivNum',\n",
       "       'SubdivLot', 'SubdivBlck', 'Shape__Area', 'Shape__Length'],\n",
       "      dtype='object')"
      ]
     },
     "execution_count": 31,
     "metadata": {},
     "output_type": "execute_result"
    }
   ],
   "source": [
    "Parcels_11.columns"
   ]
  },
  {
   "cell_type": "code",
   "execution_count": 12,
   "id": "509caf1a-9959-4141-a566-9eb7af75558a",
   "metadata": {},
   "outputs": [
    {
     "data": {
      "text/plain": [
       "TaxYear          342983\n",
       "AddrNumber       342921\n",
       "TotAssess        342978\n",
       "LandAssess       342970\n",
       "ImprAssess       342970\n",
       "TotAppr          342978\n",
       "LandAppr         342978\n",
       "ImprAppr         342970\n",
       "LivUnits         336732\n",
       "LandAcres        339442\n",
       "Shape__Area      342981\n",
       "Shape__Length    342981\n",
       "dtype: int64"
      ]
     },
     "execution_count": 12,
     "metadata": {},
     "output_type": "execute_result"
    }
   ],
   "source": [
    "Parcels_11.count(numeric_only=True)"
   ]
  },
  {
   "cell_type": "code",
   "execution_count": 22,
   "id": "68f1bf9e-8943-4215-bf77-4ad9d5bc8cf5",
   "metadata": {},
   "outputs": [
    {
     "data": {
      "text/plain": [
       "(342983, 31)"
      ]
     },
     "execution_count": 22,
     "metadata": {},
     "output_type": "execute_result"
    }
   ],
   "source": [
    "Parcels_11.shape"
   ]
  },
  {
   "cell_type": "code",
   "execution_count": 25,
   "id": "2bbf185e-25ae-4f33-b61c-5d8c924a03e9",
   "metadata": {},
   "outputs": [
    {
     "data": {
      "text/plain": [
       "12"
      ]
     },
     "execution_count": 25,
     "metadata": {},
     "output_type": "execute_result"
    }
   ],
   "source": [
    "len(Parcels_11.count(numeric_only=True))"
   ]
  },
  {
   "cell_type": "markdown",
   "id": "be91a1fd-d6c2-45a8-9246-cbd4d0286487",
   "metadata": {},
   "source": [
    "### Cleaning the data\n",
    "Our dats has 31 columns in it  and only 12 have numeric data. Since I plan on concatonating 13 years of data together I'd like to remove as much unnecesary data as possible. I have a list of simplified columns already, which pares it down to just the columns I'm immediately interested in but I'd like to leave my options open in case I uncover an interesting connection that may have links to other columns. I think the right move here is to remove columns that are mostly null values. In the code below we can see that 'AddrPreDir', 'AddrUntTyp', 'AddrUnit', 'Subdiv', 'SubdivNum', 'SubdivLot', and 'SubdivBlck' have drastically less data than the rest of the columns. "
   ]
  },
  {
   "cell_type": "code",
   "execution_count": 35,
   "id": "fec695f6-e36d-468c-b91a-5600d227c402",
   "metadata": {},
   "outputs": [
    {
     "data": {
      "text/plain": [
       "ParcelID              0\n",
       "TaxYear               0\n",
       "Address               0\n",
       "AddrNumber           62\n",
       "AddrPreDir       342775\n",
       "AddrStreet            3\n",
       "AddrSuffix        22171\n",
       "AddrPosDir       207883\n",
       "AddrUntTyp       317827\n",
       "AddrUnit         295379\n",
       "Owner                96\n",
       "OwnerAddr1          123\n",
       "OwnerAddr2         1568\n",
       "TaxDist               0\n",
       "TotAssess             5\n",
       "LandAssess           13\n",
       "ImprAssess           13\n",
       "TotAppr               5\n",
       "LandAppr              5\n",
       "ImprAppr             13\n",
       "LUCode                5\n",
       "ClassCode             0\n",
       "LivUnits           6251\n",
       "LandAcres          3541\n",
       "NbrHood               0\n",
       "Subdiv           341068\n",
       "SubdivNum        292703\n",
       "SubdivLot        318682\n",
       "SubdivBlck       338803\n",
       "Shape__Area           2\n",
       "Shape__Length         2\n",
       "dtype: int64"
      ]
     },
     "execution_count": 35,
     "metadata": {},
     "output_type": "execute_result"
    }
   ],
   "source": [
    "Parcels_11.isna().sum()"
   ]
  },
  {
   "cell_type": "code",
   "execution_count": 39,
   "id": "075714e4-12c4-4b3a-8fef-79d6f155ef08",
   "metadata": {},
   "outputs": [
    {
     "data": {
      "text/plain": [
       "AddrPreDir    342775\n",
       "AddrPosDir    207883\n",
       "AddrUntTyp    317827\n",
       "AddrUnit      295379\n",
       "Subdiv        341068\n",
       "SubdivNum     292703\n",
       "SubdivLot     318682\n",
       "SubdivBlck    338803\n",
       "dtype: int64"
      ]
     },
     "execution_count": 39,
     "metadata": {},
     "output_type": "execute_result"
    }
   ],
   "source": [
    "parcel_na = Parcels_11.isna().sum()\n",
    "parcel_na[parcel_na > 50_000]"
   ]
  },
  {
   "cell_type": "code",
   "execution_count": 50,
   "id": "6d58a48e-12ef-44bd-85e1-b4d1c64ac7ca",
   "metadata": {},
   "outputs": [
    {
     "data": {
      "text/plain": [
       "Index(['AddrPreDir', 'AddrPosDir', 'AddrUntTyp', 'AddrUnit', 'Subdiv',\n",
       "       'SubdivNum', 'SubdivLot', 'SubdivBlck'],\n",
       "      dtype='object')"
      ]
     },
     "execution_count": 50,
     "metadata": {},
     "output_type": "execute_result"
    }
   ],
   "source": [
    "parcel_na[parcel_na > 50_000].keys()"
   ]
  },
  {
   "cell_type": "code",
   "execution_count": 47,
   "id": "6cad3f60-8779-4f60-bbee-f2be8f44573f",
   "metadata": {},
   "outputs": [
    {
     "data": {
      "text/plain": [
       "Index(['AddrPreDir', 'AddrPosDir', 'AddrUntTyp', 'AddrUnit', 'Subdiv',\n",
       "       'SubdivNum', 'SubdivLot', 'SubdivBlck'],\n",
       "      dtype='object')"
      ]
     },
     "execution_count": 47,
     "metadata": {},
     "output_type": "execute_result"
    }
   ],
   "source": [
    "Parcels_11.loc[:, Parcels_11.isna().sum() > 50_000].columns"
   ]
  },
  {
   "cell_type": "code",
   "execution_count": 53,
   "id": "f1f699cf-af6d-4465-8638-b6c056ae8f78",
   "metadata": {},
   "outputs": [
    {
     "data": {
      "text/plain": [
       "Index(['AddrPreDir', 'AddrSuffix', 'AddrPosDir', 'AddrUntTyp', 'AddrUnit',\n",
       "       'Subdiv', 'SubdivNum', 'SubdivLot', 'SubdivBlck'],\n",
       "      dtype='object')"
      ]
     },
     "execution_count": 53,
     "metadata": {},
     "output_type": "execute_result"
    }
   ],
   "source": [
    "Parcels_11.loc[:,Parcels_11.isna().sum() > 10_000].keys()"
   ]
  },
  {
   "cell_type": "code",
   "execution_count": null,
   "id": "f9bfa6e6-f8c0-4ab8-80d5-35be343829e4",
   "metadata": {},
   "outputs": [],
   "source": [
    "''' this works-ish but I don't think I actually need it. Why save columns to a dict if I'm going to drop them later?\n",
    "    Why not just drop them then. Or concat years first then drop columns, which is what I think I'm gonna do.\n",
    "'''\n",
    "def check_na(df_list, threshold):\n",
    "    # finds columns with missing data above a threshold value eg; missing more than 100 rows\n",
    "    drop_cols = {}\n",
    "    for df in df_list:\n",
    "        keys = df.loc[:,df.isna()sum() > threshold].keys()\n",
    "        #drop_cols[ = append[keys]"
   ]
  },
  {
   "cell_type": "code",
   "execution_count": 37,
   "id": "0ea620d9-4531-40e7-a09f-ac74b8da8051",
   "metadata": {
    "collapsed": true,
    "jupyter": {
     "outputs_hidden": true
    },
    "tags": []
   },
   "outputs": [
    {
     "data": {
      "text/plain": [
       "Index(['DIGEST', 'SITUS', 'TAXPIN', 'ParcelID', 'ATRPIN', 'TaxDist', 'Owner',\n",
       "       'OWNER2', 'ADD2', 'ADD3', 'ADD4', 'ADD5', 'LUC', 'NBHD', 'PROP_CLASS',\n",
       "       'CLASS', 'TotAppr', 'TotAssess', 'IMPR_APPR', 'LAND_APPR', 'FUL_EX_COD',\n",
       "       'VAL_ACRES', 'STRUCT_FLR', 'STRUCT_YR', 'TIEBACK', 'TaxYear',\n",
       "       'STATUS_COD', 'LivUnits', 'PCODE', 'UNIT_NUM', 'EXTVER', 'Shape__Area',\n",
       "       'Shape__Length'],\n",
       "      dtype='object')"
      ]
     },
     "execution_count": 37,
     "metadata": {},
     "output_type": "execute_result"
    }
   ],
   "source": [
    "Parcels_09.columns"
   ]
  },
  {
   "cell_type": "code",
   "execution_count": 21,
   "id": "a36f2127-9fc7-4f0d-bd82-467efbe136b8",
   "metadata": {
    "tags": []
   },
   "outputs": [],
   "source": [
    "# Parcels_10.columns"
   ]
  },
  {
   "cell_type": "code",
   "execution_count": 22,
   "id": "9957050c-070f-462d-8f08-5f1fa8b123d7",
   "metadata": {
    "tags": []
   },
   "outputs": [],
   "source": [
    "# Parcels_11.columns"
   ]
  },
  {
   "cell_type": "code",
   "execution_count": 23,
   "id": "08cd9fd1-c6e3-4dab-9d90-417aa2476a3f",
   "metadata": {
    "tags": []
   },
   "outputs": [],
   "source": [
    "# Parcels_12.columns"
   ]
  },
  {
   "cell_type": "code",
   "execution_count": 24,
   "id": "179fcf21-c16e-4fa2-89af-d2d8ba15e5a6",
   "metadata": {
    "tags": []
   },
   "outputs": [],
   "source": [
    "# Parcels_13.columns"
   ]
  },
  {
   "cell_type": "code",
   "execution_count": 25,
   "id": "0417728d-1af5-472e-b968-9e0189d4dbab",
   "metadata": {
    "tags": []
   },
   "outputs": [],
   "source": [
    "# Parcels_14.columns"
   ]
  },
  {
   "cell_type": "code",
   "execution_count": 26,
   "id": "681e6fa8-8234-4733-beb1-d1e7a25b1285",
   "metadata": {
    "tags": []
   },
   "outputs": [],
   "source": [
    "# Parcels_15.columns"
   ]
  },
  {
   "cell_type": "code",
   "execution_count": 29,
   "id": "e735ea46-7f99-4f6a-af52-fe0a8721d654",
   "metadata": {},
   "outputs": [],
   "source": [
    "# Parcels_10.columns"
   ]
  },
  {
   "cell_type": "code",
   "execution_count": 78,
   "id": "e189f81f-4dd0-4972-ace3-47f0cdb70cad",
   "metadata": {
    "collapsed": true,
    "jupyter": {
     "outputs_hidden": true
    },
    "tags": []
   },
   "outputs": [
    {
     "data": {
      "text/plain": [
       "array([nan, 'D', 'E', 'L', 'M', 'N', 'O', 'P', 'Q', 'R', 'A', 'B', 'C',\n",
       "       'F', 'G', 'H', '200', 'I', 'J', 'K', '2', '1', '3', '4', '5', '6',\n",
       "       '7', '8', '9', '10', '11', '6200', '6400', '6600', '6500', '6300',\n",
       "       '196', '197', '198', '199', 'S', 'T', '161', '162', '163', '164',\n",
       "       '167', '168', '171', '172', '173', '174', '175', '176', '177',\n",
       "       '194', '195', '800', '900', '1000', '1100', '1200', '1300', '1400',\n",
       "       '1500', '1600', '1700', '1800', '1900', '2000', '2100', '2200',\n",
       "       '2300', '2400', '400', '100', '500', '300', '70', '30', 'OS', 'CA',\n",
       "       'U', '47', '29', '28', '38', '27', '45', '46', '34', '41', '32',\n",
       "       '31', '35', '43', '33', '36', '39', '40', '44', '37', '42', '60',\n",
       "       '80', '20', 'V', 'MA', 'MU', '15', '13', '12', '14', 'BLDG 4',\n",
       "       'BLDG 1', '22', '25', '21', '23', '24', '26', 'BLDG B', '19', '18',\n",
       "       '17', '16', '51', '111', '66', '54', '49', '79', '92', '78', '88',\n",
       "       '87', '76', '83', '73', '81', '94', '74', '86', '89', '93', '72',\n",
       "       '71', '52', '65', '63', '91', '68', '64', '56', '90', '55', '57',\n",
       "       '61', '58', '67', '69', '62', '53', '50', '95', '77', '97', '75',\n",
       "       '85', '82', '84', '96', '3000', '4000', 'G9', 'F13', 'F6', 'A - D',\n",
       "       '600', '2500', '2900', '700', '7300', '4B', 'R5', 'A2', 'B6', 'B7',\n",
       "       'B8', 'A4', 'B2', 'A5', '5000', '3700', 'DD', '101', 'EE',\n",
       "       'PH 5 C', 'PH 5 B', 'PH 5 A', 'VA4', '16-19', '41-42', '39-40',\n",
       "       '`', 'A/B', 'B-2', 'CU', 'LL', 'KK', 'Z', 'Y', 'BLG1', 'BLG2',\n",
       "       'BLG3', 'C 1', 'AA', 'D1', 'BLDG 9', 'E2', 'E1', 'LW', 'BLDG 3',\n",
       "       'A 2', 'A1', 'A-1', 'A 1', 'A-2', '03', '01', '0', 'X', 'PH-B',\n",
       "       'PH-A', '05', '7N', '7S', '9000'], dtype=object)"
      ]
     },
     "execution_count": 78,
     "metadata": {},
     "output_type": "execute_result"
    }
   ],
   "source": [
    "Parcels_15['SubdivBlck'].unique()"
   ]
  },
  {
   "cell_type": "code",
   "execution_count": 29,
   "id": "8bfd26a0-3b73-4bd7-b373-eea915975254",
   "metadata": {
    "collapsed": true,
    "jupyter": {
     "outputs_hidden": true
    },
    "tags": []
   },
   "outputs": [
    {
     "data": {
      "text/html": [
       "<div>\n",
       "<style scoped>\n",
       "    .dataframe tbody tr th:only-of-type {\n",
       "        vertical-align: middle;\n",
       "    }\n",
       "\n",
       "    .dataframe tbody tr th {\n",
       "        vertical-align: top;\n",
       "    }\n",
       "\n",
       "    .dataframe thead th {\n",
       "        text-align: right;\n",
       "    }\n",
       "</style>\n",
       "<table border=\"1\" class=\"dataframe\">\n",
       "  <thead>\n",
       "    <tr style=\"text-align: right;\">\n",
       "      <th></th>\n",
       "      <th>DIGEST</th>\n",
       "      <th>SITUS</th>\n",
       "      <th>TAXPIN</th>\n",
       "      <th>PARID</th>\n",
       "      <th>ATRPIN</th>\n",
       "      <th>TaxDist</th>\n",
       "      <th>OWNER1</th>\n",
       "      <th>OWNER2</th>\n",
       "      <th>ADD2</th>\n",
       "      <th>ADD3</th>\n",
       "      <th>...</th>\n",
       "      <th>TIEBACK</th>\n",
       "      <th>TAXYEAR</th>\n",
       "      <th>STATUS_COD</th>\n",
       "      <th>LIV_UNITS</th>\n",
       "      <th>PCODE</th>\n",
       "      <th>UNIT_NUM</th>\n",
       "      <th>GID</th>\n",
       "      <th>EXTVER</th>\n",
       "      <th>Shape__Area</th>\n",
       "      <th>Shape__Length</th>\n",
       "    </tr>\n",
       "    <tr>\n",
       "      <th>OBJECTID</th>\n",
       "      <th></th>\n",
       "      <th></th>\n",
       "      <th></th>\n",
       "      <th></th>\n",
       "      <th></th>\n",
       "      <th></th>\n",
       "      <th></th>\n",
       "      <th></th>\n",
       "      <th></th>\n",
       "      <th></th>\n",
       "      <th></th>\n",
       "      <th></th>\n",
       "      <th></th>\n",
       "      <th></th>\n",
       "      <th></th>\n",
       "      <th></th>\n",
       "      <th></th>\n",
       "      <th></th>\n",
       "      <th></th>\n",
       "      <th></th>\n",
       "      <th></th>\n",
       "    </tr>\n",
       "  </thead>\n",
       "  <tbody>\n",
       "    <tr>\n",
       "      <th>4</th>\n",
       "      <td>2010</td>\n",
       "      <td>3908 DAHLWINY CT</td>\n",
       "      <td>06 0310  LL047</td>\n",
       "      <td>06 0310  LL0474</td>\n",
       "      <td>06 -0310-  LL-047-4</td>\n",
       "      <td>59</td>\n",
       "      <td>CDG HOMES LLC</td>\n",
       "      <td></td>\n",
       "      <td>1235 HIGHTOWER TRL SUITE 300</td>\n",
       "      <td>ATLANTA GA 30350</td>\n",
       "      <td>...</td>\n",
       "      <td></td>\n",
       "      <td>2010</td>\n",
       "      <td>X</td>\n",
       "      <td>1</td>\n",
       "      <td></td>\n",
       "      <td>47</td>\n",
       "      <td>0</td>\n",
       "      <td>20101028</td>\n",
       "      <td>18713.522217</td>\n",
       "      <td>584.000021</td>\n",
       "    </tr>\n",
       "    <tr>\n",
       "      <th>6</th>\n",
       "      <td>2010</td>\n",
       "      <td>3916 DAHLWINY CT</td>\n",
       "      <td>06 0310  LL049</td>\n",
       "      <td>06 0310  LL0490</td>\n",
       "      <td>06 -0310-  LL-049-0</td>\n",
       "      <td>59</td>\n",
       "      <td>CDG HOMES LLC</td>\n",
       "      <td></td>\n",
       "      <td>1235 HIGHTOWER TRL SUITE 300</td>\n",
       "      <td>ATLANTA GA 30350</td>\n",
       "      <td>...</td>\n",
       "      <td></td>\n",
       "      <td>2010</td>\n",
       "      <td>X</td>\n",
       "      <td>1</td>\n",
       "      <td></td>\n",
       "      <td>49</td>\n",
       "      <td>0</td>\n",
       "      <td>20101028</td>\n",
       "      <td>14968.556396</td>\n",
       "      <td>494.274612</td>\n",
       "    </tr>\n",
       "    <tr>\n",
       "      <th>7</th>\n",
       "      <td>2010</td>\n",
       "      <td>3920 DAHLWINY CT</td>\n",
       "      <td>06 0310  LL050</td>\n",
       "      <td>06 0310  LL0508</td>\n",
       "      <td>06 -0310-  LL-050-8</td>\n",
       "      <td>59</td>\n",
       "      <td>CDG HOMES LLC</td>\n",
       "      <td></td>\n",
       "      <td>1235 HIGHTOWER TRL SUITE 300</td>\n",
       "      <td>ATLANTA GA 30350</td>\n",
       "      <td>...</td>\n",
       "      <td></td>\n",
       "      <td>2010</td>\n",
       "      <td>X</td>\n",
       "      <td>1</td>\n",
       "      <td></td>\n",
       "      <td>50</td>\n",
       "      <td>0</td>\n",
       "      <td>20101028</td>\n",
       "      <td>14431.125244</td>\n",
       "      <td>491.916313</td>\n",
       "    </tr>\n",
       "    <tr>\n",
       "      <th>8</th>\n",
       "      <td>2010</td>\n",
       "      <td>3924 DAHLWINY CT</td>\n",
       "      <td>06 0310  LL051</td>\n",
       "      <td>06 0310  LL0516</td>\n",
       "      <td>06 -0310-  LL-051-6</td>\n",
       "      <td>59</td>\n",
       "      <td>CDG HOMES LLC</td>\n",
       "      <td></td>\n",
       "      <td>1235 HIGHTOWER TRL SUITE 300</td>\n",
       "      <td>ATLANTA GA 30350</td>\n",
       "      <td>...</td>\n",
       "      <td></td>\n",
       "      <td>2010</td>\n",
       "      <td>X</td>\n",
       "      <td>1</td>\n",
       "      <td></td>\n",
       "      <td>51</td>\n",
       "      <td>0</td>\n",
       "      <td>20101028</td>\n",
       "      <td>14919.574219</td>\n",
       "      <td>499.174663</td>\n",
       "    </tr>\n",
       "    <tr>\n",
       "      <th>9</th>\n",
       "      <td>2010</td>\n",
       "      <td>3928 DAHLWINY CT</td>\n",
       "      <td>06 0310  LL052</td>\n",
       "      <td>06 0310  LL0524</td>\n",
       "      <td>06 -0310-  LL-052-4</td>\n",
       "      <td>59</td>\n",
       "      <td>CDG HOMES LLC</td>\n",
       "      <td></td>\n",
       "      <td>1235 HIGHTOWER TRL SUITE 300</td>\n",
       "      <td>ATLANTA GA 30350</td>\n",
       "      <td>...</td>\n",
       "      <td></td>\n",
       "      <td>2010</td>\n",
       "      <td>X</td>\n",
       "      <td>1</td>\n",
       "      <td></td>\n",
       "      <td>52</td>\n",
       "      <td>0</td>\n",
       "      <td>20101028</td>\n",
       "      <td>15514.727051</td>\n",
       "      <td>507.107625</td>\n",
       "    </tr>\n",
       "  </tbody>\n",
       "</table>\n",
       "<p>5 rows × 34 columns</p>\n",
       "</div>"
      ],
      "text/plain": [
       "          DIGEST             SITUS          TAXPIN            PARID  \\\n",
       "OBJECTID                                                              \n",
       "4           2010  3908 DAHLWINY CT  06 0310  LL047  06 0310  LL0474   \n",
       "6           2010  3916 DAHLWINY CT  06 0310  LL049  06 0310  LL0490   \n",
       "7           2010  3920 DAHLWINY CT  06 0310  LL050  06 0310  LL0508   \n",
       "8           2010  3924 DAHLWINY CT  06 0310  LL051  06 0310  LL0516   \n",
       "9           2010  3928 DAHLWINY CT  06 0310  LL052  06 0310  LL0524   \n",
       "\n",
       "                       ATRPIN TaxDist         OWNER1 OWNER2  \\\n",
       "OBJECTID                                                      \n",
       "4         06 -0310-  LL-047-4      59  CDG HOMES LLC          \n",
       "6         06 -0310-  LL-049-0      59  CDG HOMES LLC          \n",
       "7         06 -0310-  LL-050-8      59  CDG HOMES LLC          \n",
       "8         06 -0310-  LL-051-6      59  CDG HOMES LLC          \n",
       "9         06 -0310-  LL-052-4      59  CDG HOMES LLC          \n",
       "\n",
       "                                  ADD2              ADD3  ... TIEBACK TAXYEAR  \\\n",
       "OBJECTID                                                  ...                   \n",
       "4         1235 HIGHTOWER TRL SUITE 300  ATLANTA GA 30350  ...            2010   \n",
       "6         1235 HIGHTOWER TRL SUITE 300  ATLANTA GA 30350  ...            2010   \n",
       "7         1235 HIGHTOWER TRL SUITE 300  ATLANTA GA 30350  ...            2010   \n",
       "8         1235 HIGHTOWER TRL SUITE 300  ATLANTA GA 30350  ...            2010   \n",
       "9         1235 HIGHTOWER TRL SUITE 300  ATLANTA GA 30350  ...            2010   \n",
       "\n",
       "         STATUS_COD LIV_UNITS PCODE UNIT_NUM  GID    EXTVER   Shape__Area  \\\n",
       "OBJECTID                                                                    \n",
       "4                 X         1             47    0  20101028  18713.522217   \n",
       "6                 X         1             49    0  20101028  14968.556396   \n",
       "7                 X         1             50    0  20101028  14431.125244   \n",
       "8                 X         1             51    0  20101028  14919.574219   \n",
       "9                 X         1             52    0  20101028  15514.727051   \n",
       "\n",
       "          Shape__Length  \n",
       "OBJECTID                 \n",
       "4            584.000021  \n",
       "6            494.274612  \n",
       "7            491.916313  \n",
       "8            499.174663  \n",
       "9            507.107625  \n",
       "\n",
       "[5 rows x 34 columns]"
      ]
     },
     "execution_count": 29,
     "metadata": {},
     "output_type": "execute_result"
    }
   ],
   "source": [
    "# subset property owned by an LLC\n",
    "Parcels_10[Parcels_10['Owner'].str.contains('LLC')].head()"
   ]
  },
  {
   "cell_type": "code",
   "execution_count": null,
   "id": "621b11b9-810c-45b1-9e53-f2ade12e3180",
   "metadata": {},
   "outputs": [],
   "source": [
    "for df in dfs:\n",
    "    df[df['TaxDist'].isin(atlanta_tax_IDs) == True]\n",
    "    "
   ]
  },
  {
   "cell_type": "code",
   "execution_count": 53,
   "id": "409c871c-c5eb-4b48-ba64-e89469b24960",
   "metadata": {},
   "outputs": [],
   "source": [
    "# view of parcels that have an Atlanta Tax ID\n",
    "''' Still not sure if I want to keep these separate or concat before I analyze. I think I want to concat but then I have to\n",
    "    do more logic to fine annual data. Here it's already split. I suppose I could just create views onto each year from the \n",
    "    main df... hmm.\n",
    "'''\n",
    "atlanta_09DF = Parcels_09[Parcels_09['TaxDist'].isin(atlanta_tax_IDs) == True]\n",
    "atlanta_10DF = Parcels_10[Parcels_10['TaxDist'].isin(atlanta_tax_IDs) == True]\n",
    "atlanta_11DF = Parcels_11[Parcels_11['TaxDist'].isin(atlanta_tax_IDs) == True]\n",
    "atlanta_12DF = Parcels_12[Parcels_12['TaxDist'].isin(atlanta_tax_IDs) == True]\n",
    "atlanta_13DF = Parcels_13[Parcels_13['TaxDist'].isin(atlanta_tax_IDs) == True]\n",
    "atlanta_14DF = Parcels_14[Parcels_14['TaxDist'].isin(atlanta_tax_IDs) == True]\n",
    "atlanta_15DF = Parcels_15[Parcels_15['TaxDist'].isin(atlanta_tax_IDs) == True]"
   ]
  },
  {
   "cell_type": "code",
   "execution_count": 52,
   "id": "179ab6ba-d1c5-4909-aea3-47e60996db8d",
   "metadata": {
    "tags": []
   },
   "outputs": [
    {
     "data": {
      "text/plain": [
       "4792"
      ]
     },
     "execution_count": 52,
     "metadata": {},
     "output_type": "execute_result"
    }
   ],
   "source": [
    "atlanta_10DF[atlanta_10DF['Owner'].str.contains('LLC')]['Owner'].unique().size"
   ]
  },
  {
   "cell_type": "code",
   "execution_count": 8,
   "id": "f61930dd-b1d5-417d-9a67-36a1423b597f",
   "metadata": {
    "collapsed": true,
    "jupyter": {
     "outputs_hidden": true
    },
    "tags": []
   },
   "outputs": [
    {
     "data": {
      "text/html": [
       "<div>\n",
       "<style scoped>\n",
       "    .dataframe tbody tr th:only-of-type {\n",
       "        vertical-align: middle;\n",
       "    }\n",
       "\n",
       "    .dataframe tbody tr th {\n",
       "        vertical-align: top;\n",
       "    }\n",
       "\n",
       "    .dataframe thead th {\n",
       "        text-align: right;\n",
       "    }\n",
       "</style>\n",
       "<table border=\"1\" class=\"dataframe\">\n",
       "  <thead>\n",
       "    <tr style=\"text-align: right;\">\n",
       "      <th></th>\n",
       "      <th>ParcelID</th>\n",
       "      <th>TaxYear</th>\n",
       "      <th>Address</th>\n",
       "      <th>AddrNumber</th>\n",
       "      <th>AddrPreDir</th>\n",
       "      <th>AddrStreet</th>\n",
       "      <th>AddrSuffix</th>\n",
       "      <th>AddrPosDir</th>\n",
       "      <th>AddrUntTyp</th>\n",
       "      <th>AddrUnit</th>\n",
       "      <th>...</th>\n",
       "      <th>ClassCode</th>\n",
       "      <th>LivUnits</th>\n",
       "      <th>LandAcres</th>\n",
       "      <th>NbrHood</th>\n",
       "      <th>Subdiv</th>\n",
       "      <th>SubdivNum</th>\n",
       "      <th>SubdivLot</th>\n",
       "      <th>SubdivBlck</th>\n",
       "      <th>Shape__Area</th>\n",
       "      <th>Shape__Length</th>\n",
       "    </tr>\n",
       "    <tr>\n",
       "      <th>OBJECTID</th>\n",
       "      <th></th>\n",
       "      <th></th>\n",
       "      <th></th>\n",
       "      <th></th>\n",
       "      <th></th>\n",
       "      <th></th>\n",
       "      <th></th>\n",
       "      <th></th>\n",
       "      <th></th>\n",
       "      <th></th>\n",
       "      <th></th>\n",
       "      <th></th>\n",
       "      <th></th>\n",
       "      <th></th>\n",
       "      <th></th>\n",
       "      <th></th>\n",
       "      <th></th>\n",
       "      <th></th>\n",
       "      <th></th>\n",
       "      <th></th>\n",
       "      <th></th>\n",
       "    </tr>\n",
       "  </thead>\n",
       "  <tbody>\n",
       "    <tr>\n",
       "      <th>1571</th>\n",
       "      <td>22 455004790770</td>\n",
       "      <td>2011.0</td>\n",
       "      <td>15400 N VALLEY CREEK LN</td>\n",
       "      <td>15400.0</td>\n",
       "      <td>N</td>\n",
       "      <td>VALLEY CREEK</td>\n",
       "      <td>LN</td>\n",
       "      <td>NaN</td>\n",
       "      <td>NaN</td>\n",
       "      <td>NaN</td>\n",
       "      <td>...</td>\n",
       "      <td>R3</td>\n",
       "      <td>0.0</td>\n",
       "      <td>1.000000</td>\n",
       "      <td>2672</td>\n",
       "      <td>NaN</td>\n",
       "      <td>23479</td>\n",
       "      <td>1</td>\n",
       "      <td>NaN</td>\n",
       "      <td>40924.623047</td>\n",
       "      <td>1062.800421</td>\n",
       "    </tr>\n",
       "    <tr>\n",
       "      <th>1572</th>\n",
       "      <td>22 455004790788</td>\n",
       "      <td>2011.0</td>\n",
       "      <td>15410 N VALLEY CREEK LN</td>\n",
       "      <td>15410.0</td>\n",
       "      <td>N</td>\n",
       "      <td>VALLEY CREEK</td>\n",
       "      <td>LN</td>\n",
       "      <td>NaN</td>\n",
       "      <td>NaN</td>\n",
       "      <td>NaN</td>\n",
       "      <td>...</td>\n",
       "      <td>R3</td>\n",
       "      <td>0.0</td>\n",
       "      <td>1.173989</td>\n",
       "      <td>2672</td>\n",
       "      <td>NaN</td>\n",
       "      <td>23479</td>\n",
       "      <td>2</td>\n",
       "      <td>NaN</td>\n",
       "      <td>47814.246826</td>\n",
       "      <td>1495.227234</td>\n",
       "    </tr>\n",
       "    <tr>\n",
       "      <th>1573</th>\n",
       "      <td>22 455004790796</td>\n",
       "      <td>2011.0</td>\n",
       "      <td>15420 N VALLEY CREEK LN</td>\n",
       "      <td>15420.0</td>\n",
       "      <td>N</td>\n",
       "      <td>VALLEY CREEK</td>\n",
       "      <td>LN</td>\n",
       "      <td>NaN</td>\n",
       "      <td>NaN</td>\n",
       "      <td>NaN</td>\n",
       "      <td>...</td>\n",
       "      <td>R3</td>\n",
       "      <td>0.0</td>\n",
       "      <td>1.021992</td>\n",
       "      <td>2672</td>\n",
       "      <td>NaN</td>\n",
       "      <td>23479</td>\n",
       "      <td>3</td>\n",
       "      <td>NaN</td>\n",
       "      <td>41510.640137</td>\n",
       "      <td>1341.906312</td>\n",
       "    </tr>\n",
       "    <tr>\n",
       "      <th>1574</th>\n",
       "      <td>22 455004790804</td>\n",
       "      <td>2011.0</td>\n",
       "      <td>15430 N VALLEY CREEK LN</td>\n",
       "      <td>15430.0</td>\n",
       "      <td>N</td>\n",
       "      <td>VALLEY CREEK</td>\n",
       "      <td>LN</td>\n",
       "      <td>NaN</td>\n",
       "      <td>NaN</td>\n",
       "      <td>NaN</td>\n",
       "      <td>...</td>\n",
       "      <td>R3</td>\n",
       "      <td>0.0</td>\n",
       "      <td>1.314003</td>\n",
       "      <td>2672</td>\n",
       "      <td>NaN</td>\n",
       "      <td>23479</td>\n",
       "      <td>4</td>\n",
       "      <td>NaN</td>\n",
       "      <td>53566.479980</td>\n",
       "      <td>1583.318416</td>\n",
       "    </tr>\n",
       "    <tr>\n",
       "      <th>1575</th>\n",
       "      <td>22 455004790812</td>\n",
       "      <td>2011.0</td>\n",
       "      <td>15440 N VALLEY CREEK LN</td>\n",
       "      <td>15440.0</td>\n",
       "      <td>N</td>\n",
       "      <td>VALLEY CREEK</td>\n",
       "      <td>LN</td>\n",
       "      <td>NaN</td>\n",
       "      <td>NaN</td>\n",
       "      <td>NaN</td>\n",
       "      <td>...</td>\n",
       "      <td>R3</td>\n",
       "      <td>0.0</td>\n",
       "      <td>1.623989</td>\n",
       "      <td>2672</td>\n",
       "      <td>NaN</td>\n",
       "      <td>23479</td>\n",
       "      <td>5</td>\n",
       "      <td>NaN</td>\n",
       "      <td>65911.443359</td>\n",
       "      <td>1109.742594</td>\n",
       "    </tr>\n",
       "  </tbody>\n",
       "</table>\n",
       "<p>5 rows × 31 columns</p>\n",
       "</div>"
      ],
      "text/plain": [
       "                 ParcelID  TaxYear                  Address  AddrNumber  \\\n",
       "OBJECTID                                                                  \n",
       "1571      22 455004790770   2011.0  15400 N VALLEY CREEK LN     15400.0   \n",
       "1572      22 455004790788   2011.0  15410 N VALLEY CREEK LN     15410.0   \n",
       "1573      22 455004790796   2011.0  15420 N VALLEY CREEK LN     15420.0   \n",
       "1574      22 455004790804   2011.0  15430 N VALLEY CREEK LN     15430.0   \n",
       "1575      22 455004790812   2011.0  15440 N VALLEY CREEK LN     15440.0   \n",
       "\n",
       "         AddrPreDir    AddrStreet AddrSuffix AddrPosDir AddrUntTyp AddrUnit  \\\n",
       "OBJECTID                                                                      \n",
       "1571              N  VALLEY CREEK         LN        NaN        NaN      NaN   \n",
       "1572              N  VALLEY CREEK         LN        NaN        NaN      NaN   \n",
       "1573              N  VALLEY CREEK         LN        NaN        NaN      NaN   \n",
       "1574              N  VALLEY CREEK         LN        NaN        NaN      NaN   \n",
       "1575              N  VALLEY CREEK         LN        NaN        NaN      NaN   \n",
       "\n",
       "          ... ClassCode LivUnits LandAcres NbrHood  Subdiv  SubdivNum  \\\n",
       "OBJECTID  ...                                                           \n",
       "1571      ...        R3      0.0  1.000000    2672     NaN      23479   \n",
       "1572      ...        R3      0.0  1.173989    2672     NaN      23479   \n",
       "1573      ...        R3      0.0  1.021992    2672     NaN      23479   \n",
       "1574      ...        R3      0.0  1.314003    2672     NaN      23479   \n",
       "1575      ...        R3      0.0  1.623989    2672     NaN      23479   \n",
       "\n",
       "          SubdivLot  SubdivBlck   Shape__Area  Shape__Length  \n",
       "OBJECTID                                                      \n",
       "1571              1         NaN  40924.623047    1062.800421  \n",
       "1572              2         NaN  47814.246826    1495.227234  \n",
       "1573              3         NaN  41510.640137    1341.906312  \n",
       "1574              4         NaN  53566.479980    1583.318416  \n",
       "1575              5         NaN  65911.443359    1109.742594  \n",
       "\n",
       "[5 rows x 31 columns]"
      ]
     },
     "execution_count": 8,
     "metadata": {},
     "output_type": "execute_result"
    }
   ],
   "source": [
    "Parcels_11[Parcels_11['AddrPreDir'].notnull()].head()"
   ]
  },
  {
   "cell_type": "markdown",
   "id": "4e69761c-eead-4373-ab82-d4ee43369cc0",
   "metadata": {
    "tags": []
   },
   "source": []
  },
  {
   "cell_type": "markdown",
   "id": "42961ea8-b458-4751-b20f-cc08cc074df5",
   "metadata": {},
   "source": []
  },
  {
   "cell_type": "code",
   "execution_count": null,
   "id": "07988568-fc90-4e37-b1bf-a0a1c9de6de9",
   "metadata": {},
   "outputs": [],
   "source": []
  }
 ],
 "metadata": {
  "kernelspec": {
   "display_name": "Python 3",
   "language": "python",
   "name": "python3"
  },
  "language_info": {
   "codemirror_mode": {
    "name": "ipython",
    "version": 3
   },
   "file_extension": ".py",
   "mimetype": "text/x-python",
   "name": "python",
   "nbconvert_exporter": "python",
   "pygments_lexer": "ipython3",
   "version": "3.9.1"
  }
 },
 "nbformat": 4,
 "nbformat_minor": 5
}
