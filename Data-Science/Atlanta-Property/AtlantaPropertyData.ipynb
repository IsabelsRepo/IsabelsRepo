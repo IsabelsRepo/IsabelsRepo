{
 "cells": [
  {
   "cell_type": "code",
   "execution_count": 2,
   "id": "57977db9-338b-48ac-ad8d-89996a214353",
   "metadata": {},
   "outputs": [],
   "source": [
    "import pandas as pd              # v1.4.3\n",
    "import numpy as np               # v1.20.1\n",
    "import matplotlib.pyplot as plt  # v3.5.2\n",
    "import folium                    # v0.12.1.post1"
   ]
  },
  {
   "cell_type": "code",
   "execution_count": 3,
   "id": "36b06116-a36c-4a11-bc53-56f61766c7f6",
   "metadata": {
    "tags": []
   },
   "outputs": [],
   "source": [
    "# Should really use glob to read this all in.\n",
    "col_types09 = {'DIGEST': 'int16'} # Why did I need this?\n",
    "Parcels_09 = pd.read_csv(r'F:/GISdata/Atlanta/Tax_Parcels_2009.csv', sep=',',dtype=col_types09 , index_col='OBJECTID', low_memory=False)\n",
    "Parcels_10 = pd.read_csv(r'F:/GISdata/Atlanta/Tax_Parcels_2010.csv', sep=',',dtype=col_types09 , index_col='OBJECTID', low_memory=False)\n",
    "col_types = {'TaxYear': 'int16'}\n",
    "Parcels_11 = pd.read_csv(r'F:/GISdata/Atlanta/Tax_Parcels_2011.csv', sep=',', index_col='OBJECTID', low_memory=False)"
   ]
  },
  {
   "cell_type": "code",
   "execution_count": null,
   "id": "e508632b-5c3f-4d5d-b383-45976ee6df53",
   "metadata": {
    "jupyter": {
     "source_hidden": true
    },
    "tags": []
   },
   "outputs": [],
   "source": [
    "Parcels_12 = pd.read_csv(r'F:/GISdata/Atlanta/Tax_Parcels_2012.csv', sep=',', index_col='OBJECTID', low_memory=False)\n",
    "Parcels_13 = pd.read_csv(r'F:/GISdata/Atlanta/Tax_Parcels_2013.csv', sep=',', index_col='OBJECTID', low_memory=False)\n",
    "Parcels_14 = pd.read_csv(r'F:/GISdata/Atlanta/Tax_Parcels_2014.csv', sep=',', index_col='OBJECTID', low_memory=False)\n",
    "Parcels_15 = pd.read_csv(r'F:/GISdata/Atlanta/Tax_Parcels_2015.csv', sep=',', index_col='OBJECTID', low_memory=False)\n",
    "Parcels_16 = pd.read_csv(r'F:/GISdata/Atlanta/Tax_Parcels_2016.csv', sep=',', index_col='OBJECTID', dtype=col_types, low_memory=False)\n",
    "Parcels_17 = pd.read_csv(r'F:/GISdata/Atlanta/Tax_Parcels_2017.csv', sep=',', index_col='OBJECTID', dtype=col_types, low_memory=False)\n",
    "Parcels_18 = pd.read_csv(r'F:/GISdata/Atlanta/Tax_Parcels_2018.csv', sep=',', index_col='OBJECTID', dtype=col_types, low_memory=False)\n",
    "Parcels_19 = pd.read_csv(r'F:/GISdata/Atlanta/Tax_Parcels_2019.csv', sep=',', index_col='OBJECTID', dtype=col_types, low_memory=False)\n",
    "Parcels_20 = pd.read_csv(r'F:/GISdata/Atlanta/Tax_Parcels_2020.csv', sep=',', index_col='OBJECTID', dtype=col_types, low_memory=False)\n",
    "Parcels_21 = pd.read_csv(r'F:/GISdata/Atlanta/Tax_Parcels_2021.csv', sep=',', index_col='OBJECTID', dtype=col_types, low_memory=False)\n",
    "Parcels_22 = pd.read_csv(r'F:/GISdata/Atlanta/Tax_Parcels_2022.csv', sep=',', index_col='OBJECTID', dtype=col_types, low_memory=False)"
   ]
  },
  {
   "cell_type": "code",
   "execution_count": 4,
   "id": "92206f42-5425-472a-89bc-e13fc2e0178b",
   "metadata": {
    "collapsed": true,
    "jupyter": {
     "outputs_hidden": true
    },
    "tags": []
   },
   "outputs": [
    {
     "name": "stdout",
     "output_type": "stream",
     "text": [
      "<class 'pandas.core.frame.DataFrame'>\n",
      "Int64Index: 343897 entries, 1 to 343897\n",
      "Data columns (total 33 columns):\n",
      " #   Column         Non-Null Count   Dtype  \n",
      "---  ------         --------------   -----  \n",
      " 0   DIGEST         343897 non-null  int16  \n",
      " 1   SITUS          343897 non-null  object \n",
      " 2   TAXPIN         343897 non-null  object \n",
      " 3   PARID          343897 non-null  object \n",
      " 4   ATRPIN         343897 non-null  object \n",
      " 5   TAX_DISTR      343897 non-null  object \n",
      " 6   OWNER1         343897 non-null  object \n",
      " 7   OWNER2         343897 non-null  object \n",
      " 8   ADD2           343897 non-null  object \n",
      " 9   ADD3           343897 non-null  object \n",
      " 10  ADD4           343897 non-null  object \n",
      " 11  ADD5           343897 non-null  object \n",
      " 12  LUC            343897 non-null  object \n",
      " 13  NBHD           343897 non-null  object \n",
      " 14  PROP_CLASS     343897 non-null  object \n",
      " 15  CLASS          343897 non-null  object \n",
      " 16  TOT_APPR       343897 non-null  int64  \n",
      " 17  TOT_ASSESS     343897 non-null  int64  \n",
      " 18  IMPR_APPR      343897 non-null  int64  \n",
      " 19  LAND_APPR      343897 non-null  int64  \n",
      " 20  FUL_EX_COD     343897 non-null  object \n",
      " 21  VAL_ACRES      343897 non-null  int64  \n",
      " 22  STRUCT_FLR     343897 non-null  float64\n",
      " 23  STRUCT_YR      343897 non-null  int64  \n",
      " 24  TIEBACK        343897 non-null  object \n",
      " 25  TAXYEAR        343897 non-null  int64  \n",
      " 26  STATUS_COD     343897 non-null  object \n",
      " 27  LIV_UNITS      343897 non-null  int64  \n",
      " 28  PCODE          343897 non-null  object \n",
      " 29  UNIT_NUM       343897 non-null  int64  \n",
      " 30  EXTVER         343897 non-null  int64  \n",
      " 31  Shape__Area    343897 non-null  float64\n",
      " 32  Shape__Length  343897 non-null  float64\n",
      "dtypes: float64(3), int16(1), int64(10), object(19)\n",
      "memory usage: 87.2+ MB\n"
     ]
    }
   ],
   "source": [
    "Parcels_09.info(3)"
   ]
  },
  {
   "cell_type": "code",
   "execution_count": 12,
   "id": "1113e27f-57a6-4862-8557-4650c823ceab",
   "metadata": {
    "collapsed": true,
    "jupyter": {
     "outputs_hidden": true
    },
    "tags": []
   },
   "outputs": [
    {
     "data": {
      "text/plain": [
       "OBJECTID\n",
       "1    2009\n",
       "2    2009\n",
       "3    2009\n",
       "4    2009\n",
       "5    2009\n",
       "Name: TAXYEAR, dtype: int64"
      ]
     },
     "execution_count": 12,
     "metadata": {},
     "output_type": "execute_result"
    }
   ],
   "source": [
    "# check ['TAXYEAR'] data\n",
    "Parcels_09.TAXYEAR.head()"
   ]
  },
  {
   "cell_type": "markdown",
   "id": "719ff775-9497-4f2e-bd25-24890921b3a8",
   "metadata": {
    "tags": []
   },
   "source": [
    "# The Plan  \n",
    "- [x] Get property records  \n",
    "- [ ] Clean data  \n",
    "    - [x] Fix ['Columns']   \n",
    "    - [ ] Concat years into single dataframe  \n",
    "    - [ ] Drop ['Columns'] with lots of NaNs  \n",
    "    - [ ] Drop rows with lots of NaNs   \n",
    "    - [ ] Export *.csv\n",
    "    - [ ] Drop non-ATL properties  \n",
    "        - [ ] Export ATL-PropertyRecords.csv  \n",
    "\n",
    "## Parcel data information  \n",
    "The CAMA information included with the published dataset is selected based on its value to the typical consumer of the data and includes the parcel identification number, the property address, property owner, owner's mailing address, tax district, assessed and appraised value for land and improvements, the number of livable units, acreage, property class and land use class.\n",
    "\n",
    "Fulton County GIS Collaboration Group [Centerline Address Landmark Data Model](http://share.myfultoncountyga.us/datashare/fultoncounty/Documents/CenterlineAddressLandmarkDataModelDocument.pdf)"
   ]
  },
  {
   "cell_type": "code",
   "execution_count": 27,
   "id": "60184f10-79fb-484f-af1e-7e31e6fecf14",
   "metadata": {},
   "outputs": [],
   "source": [
    "# a list of parcel tax IDs in the City of Atlanta.\n",
    "atlanta_tax_IDs = ['05', '05A', '05B', '05C', '05D', '05E', '05F', '05G', '05H', '05I', '05J',\n",
    "                    '05K', '05L', '05P', '05Q', '05R', '05S', '05T', '05U', '05V', '05W', '05X',\n",
    "                  '05Y', '05Z']  \n",
    "\n",
    "# column names changed in 2011, renaming to make analysis easier\n",
    "new_cols = {'PARID': 'ParcelID', 'TAX_DISTR': 'TaxDist', 'Digest': 'TaxYear','LIV_UNITS': 'LivUnits', 'OWNER1': 'Owner',\n",
    "            'TOT_ASSESS': 'TotAssess','TOT_APPR': 'TotAppr', 'TAXYEAR': 'TaxYear'}\n",
    "Parcels_10.rename(columns=new_cols, inplace=True)\n",
    "Parcels_09.rename(columns=new_cols, inplace=True)  \n",
    "\n",
    "# a subset of columns to analyze.\n",
    "simplified_cols = ['ParcelID', 'TaxDist', 'Owner', 'TotAppr', 'TotAssess', 'LIV_UNITS']"
   ]
  },
  {
   "cell_type": "code",
   "execution_count": 19,
   "id": "f9af69ac-6836-4fdf-9d17-be6bf77f723f",
   "metadata": {
    "tags": []
   },
   "outputs": [
    {
     "data": {
      "text/html": [
       "<div>\n",
       "<style scoped>\n",
       "    .dataframe tbody tr th:only-of-type {\n",
       "        vertical-align: middle;\n",
       "    }\n",
       "\n",
       "    .dataframe tbody tr th {\n",
       "        vertical-align: top;\n",
       "    }\n",
       "\n",
       "    .dataframe thead th {\n",
       "        text-align: right;\n",
       "    }\n",
       "</style>\n",
       "<table border=\"1\" class=\"dataframe\">\n",
       "  <thead>\n",
       "    <tr style=\"text-align: right;\">\n",
       "      <th></th>\n",
       "      <th>DIGEST</th>\n",
       "      <th>SITUS</th>\n",
       "      <th>TAXPIN</th>\n",
       "      <th>ParcelID</th>\n",
       "      <th>ATRPIN</th>\n",
       "      <th>TaxDist</th>\n",
       "      <th>Owner</th>\n",
       "      <th>OWNER2</th>\n",
       "      <th>ADD2</th>\n",
       "      <th>ADD3</th>\n",
       "      <th>...</th>\n",
       "      <th>STRUCT_YR</th>\n",
       "      <th>TIEBACK</th>\n",
       "      <th>TaxYear</th>\n",
       "      <th>STATUS_COD</th>\n",
       "      <th>LivUnits</th>\n",
       "      <th>PCODE</th>\n",
       "      <th>UNIT_NUM</th>\n",
       "      <th>EXTVER</th>\n",
       "      <th>Shape__Area</th>\n",
       "      <th>Shape__Length</th>\n",
       "    </tr>\n",
       "    <tr>\n",
       "      <th>OBJECTID</th>\n",
       "      <th></th>\n",
       "      <th></th>\n",
       "      <th></th>\n",
       "      <th></th>\n",
       "      <th></th>\n",
       "      <th></th>\n",
       "      <th></th>\n",
       "      <th></th>\n",
       "      <th></th>\n",
       "      <th></th>\n",
       "      <th></th>\n",
       "      <th></th>\n",
       "      <th></th>\n",
       "      <th></th>\n",
       "      <th></th>\n",
       "      <th></th>\n",
       "      <th></th>\n",
       "      <th></th>\n",
       "      <th></th>\n",
       "      <th></th>\n",
       "      <th></th>\n",
       "    </tr>\n",
       "  </thead>\n",
       "  <tbody>\n",
       "  </tbody>\n",
       "</table>\n",
       "<p>0 rows × 33 columns</p>\n",
       "</div>"
      ],
      "text/plain": [
       "Empty DataFrame\n",
       "Columns: [DIGEST, SITUS, TAXPIN, ParcelID, ATRPIN, TaxDist, Owner, OWNER2, ADD2, ADD3, ADD4, ADD5, LUC, NBHD, PROP_CLASS, CLASS, TotAppr, TotAssess, IMPR_APPR, LAND_APPR, FUL_EX_COD, VAL_ACRES, STRUCT_FLR, STRUCT_YR, TIEBACK, TaxYear, STATUS_COD, LivUnits, PCODE, UNIT_NUM, EXTVER, Shape__Area, Shape__Length]\n",
       "Index: []\n",
       "\n",
       "[0 rows x 33 columns]"
      ]
     },
     "execution_count": 19,
     "metadata": {},
     "output_type": "execute_result"
    }
   ],
   "source": [
    "# drop rows with no ['TaxYear'] data\n",
    "dfs = [Parcels_09, Parcels_10, Parcels_11]#, Parcels_12, Parcels_13, Parcels_14, Parcels_15]\n",
    "            # , Parcels_16, Parcels_17, Parcels_18, Parcels_19, Parcels_20, Parcels_21, Parcels_22]\n",
    "for df in dfs:\n",
    "        df.dropna(subset='TaxYear', inplace=True)\n",
    "# check that it worked\n",
    "Parcels_09[pd.isna(Parcels_09['TaxYear'])==True]"
   ]
  },
  {
   "cell_type": "markdown",
   "id": "d9751a11-558f-4bc8-8e78-efd86b87bef6",
   "metadata": {
    "jupyter": {
     "source_hidden": true
    },
    "tags": []
   },
   "source": [
    "## [Fulton County Tax Districts](https://fultonassessor.org/wp-content/uploads/sites/16/2018/05/Fulton-County-Tax-Districts-2018.pdf)\n",
    "05 City of Atlanta  \n",
    "05A City of Atlanta – Downtown CID  \n",
    "05B City of Atlanta – Buckhead CID  \n",
    "05C City of Atlanta – Midtown CID  \n",
    "05D City of Atlanta – Downtown CID/Midtown CID  \n",
    "05E City of Atlanta – Downtown CID/Midtown CID/Eastside TAD  \n",
    "05F City of Atlanta – Downtown CID/Eastside TAD  \n",
    "05G City of Atlanta – Beltline TAD/Midtown CID  \n",
    "05H City of Atlanta – Airport West CID  \n",
    "05I City of Atlanta – Airport West CID/Princeton Lakes TAD  \n",
    "05J City of Atlanta – Little Five Points CID  \n",
    "05K City of Atlanta - Westside CID  \n",
    "05L City of Atlanta – Westside CID/Beltline TAD  \n",
    "05P City of Atlanta – Stadium TAD  \n",
    "05Q City of Atlanta – Campbellton TAD  \n",
    "05R City of Atlanta – Metropolitan TAD  \n",
    "05S City of Atlanta – Hollowell TAD  \n",
    "05T City of Atlanta – Beltline TAD  \n",
    "05U City of Atlanta – Princeton Lakes TAD  \n",
    "05V City of Atlanta – Perry Bolton TAD  \n",
    "05W City of Atlanta – Eastside TAD  \n",
    "05X City of Atlanta – Atlantic Station TAD  \n",
    "05Y City of Atlanta – Downtown CID/Westside TAD  \n",
    "05Z City of Atlanta – Westside TAD  \n",
    "10 City of Alpharetta  \n",
    "10A City of Alpharetta – North Fulton CID    \n",
    "15 City of College Park  \n",
    "15H City of College Park –Airport West CID  \n",
    "15Z City of College Park – College Park TAD  \n",
    "20 City of East Point  \n",
    "20H City of East Point – Airport West CID  \n",
    "20I City of East Point- East Point TAD #2/Airport West CID  \n",
    "20J City of East Point – East Point TAD/Airport West CID  \n",
    "20Y City of East Point – East Point TAD #2  \n",
    "20Z City of East Point – East Point TAD  \n",
    "25 City of Fairburn  \n",
    "25C City of Fairburn – South Fulton CID  \n",
    "30 City of Hapeville  \n",
    "30A City of Hapeville – Airport West CID  \n",
    "30B City of Hapeville – Hapeville TAD/Airport West CID  \n",
    "30Z City of Hapeville – Hapeville TAD  \n",
    "35 City of Mountain Park  \n",
    "40 City of Palmetto  \n",
    "40C City of Palmetto – South Fulton CID  \n",
    "45 City of Roswell  \n",
    "45A City of Roswell – North Fulton CID  \n",
    "50 City of Union City  \n",
    "50C City of Union City – South Fulton CID   \n",
    "50Z City of Union City – Union City TAD  \n",
    "55 City of South Fulton  \n",
    "55C City of South Fulton – South Fulton CID  \n",
    "55D City of South Fulton – Fulton Industrial Boulevard CID  \n",
    "55H City of South Fulton – Airport West CID  \n",
    "56 City of Milton  \n",
    "56A City of Milton – North Fulton CID  \n",
    "57 City of Johns Creek  \n",
    "59 City of Sandy Springs  \n",
    "59B City of Sandy Springs – Fulton Perimeter CID  \n",
    "65 City of Chattahoochee Hills  \n",
    "70 Fulton Industrial District  \n",
    "70D Fulton Industrial District – Fulton Industrial Boulevard CID  \n",
    "Revised June 9, 2016  "
   ]
  },
  {
   "cell_type": "code",
   "execution_count": 20,
   "id": "ebac7273-cd4e-470f-9996-816461ce78f9",
   "metadata": {
    "tags": []
   },
   "outputs": [
    {
     "data": {
      "text/plain": [
       "Index(['ParcelID', 'TaxYear', 'Address', 'AddrNumber', 'AddrPreDir',\n",
       "       'AddrStreet', 'AddrSuffix', 'AddrPosDir', 'AddrUntTyp', 'AddrUnit',\n",
       "       'Owner', 'OwnerAddr1', 'OwnerAddr2', 'TaxDist', 'TotAssess',\n",
       "       'LandAssess', 'ImprAssess', 'TotAppr', 'LandAppr', 'ImprAppr', 'LUCode',\n",
       "       'ClassCode', 'LivUnits', 'LandAcres', 'NbrHood', 'Subdiv', 'SubdivNum',\n",
       "       'SubdivLot', 'SubdivBlck', 'Shape__Area', 'Shape__Length'],\n",
       "      dtype='object')"
      ]
     },
     "execution_count": 20,
     "metadata": {},
     "output_type": "execute_result"
    }
   ],
   "source": [
    "Parcels_11.columns"
   ]
  },
  {
   "cell_type": "code",
   "execution_count": 21,
   "id": "509caf1a-9959-4141-a566-9eb7af75558a",
   "metadata": {},
   "outputs": [
    {
     "data": {
      "text/plain": [
       "TaxYear          342983\n",
       "AddrNumber       342921\n",
       "TotAssess        342978\n",
       "LandAssess       342970\n",
       "ImprAssess       342970\n",
       "TotAppr          342978\n",
       "LandAppr         342978\n",
       "ImprAppr         342970\n",
       "LivUnits         336732\n",
       "LandAcres        339442\n",
       "Shape__Area      342981\n",
       "Shape__Length    342981\n",
       "dtype: int64"
      ]
     },
     "execution_count": 21,
     "metadata": {},
     "output_type": "execute_result"
    }
   ],
   "source": [
    "Parcels_11.count(numeric_only=True)"
   ]
  },
  {
   "cell_type": "code",
   "execution_count": 22,
   "id": "68f1bf9e-8943-4215-bf77-4ad9d5bc8cf5",
   "metadata": {},
   "outputs": [
    {
     "data": {
      "text/plain": [
       "(342983, 31)"
      ]
     },
     "execution_count": 22,
     "metadata": {},
     "output_type": "execute_result"
    }
   ],
   "source": [
    "Parcels_11.shape"
   ]
  },
  {
   "cell_type": "code",
   "execution_count": 25,
   "id": "2bbf185e-25ae-4f33-b61c-5d8c924a03e9",
   "metadata": {},
   "outputs": [
    {
     "data": {
      "text/plain": [
       "12"
      ]
     },
     "execution_count": 25,
     "metadata": {},
     "output_type": "execute_result"
    }
   ],
   "source": [
    "len(Parcels_11.count(numeric_only=True))"
   ]
  },
  {
   "cell_type": "markdown",
   "id": "b0bd464c-e2ab-4aaa-92e8-0abfdc685d99",
   "metadata": {},
   "source": [
    "## Cleaning Functions"
   ]
  },
  {
   "cell_type": "code",
   "execution_count": null,
   "id": "f9bfa6e6-f8c0-4ab8-80d5-35be343829e4",
   "metadata": {},
   "outputs": [],
   "source": [
    "def check_na(df_list, threshold):\n",
    "    ''' finds columns with missing data above a threshold value eg; missing more than 100 rows\n",
    "        and drops them '''\n",
    "    for df in df_list:\n",
    "        cols = df.loc[:,df.isna()sum() > threshold].keys()\n",
    "        df.drop(columns=cols, inplace='True')"
   ]
  },
  {
   "cell_type": "markdown",
   "id": "be91a1fd-d6c2-45a8-9246-cbd4d0286487",
   "metadata": {
    "tags": []
   },
   "source": [
    "### Cleaning the data\n",
    "Our dats has 31 columns in it  and only 12 have numeric data. Since I plan on concatenating 13 years of data together I'd like to remove as much unnecesary data as possible. I have a list of simplified columns already, which pares it down to just the columns I'm immediately interested in but I'd like to leave my options open in case I uncover an interesting connection that may have links to other columns. I think the right move here is to remove columns that are mostly null values. In the code below we can see that 'AddrPreDir', 'AddrUntTyp', 'AddrUnit', 'Subdiv', 'SubdivNum', 'SubdivLot', and 'SubdivBlck' have drastically less data than the rest of the columns. "
   ]
  },
  {
   "cell_type": "code",
   "execution_count": 35,
   "id": "fec695f6-e36d-468c-b91a-5600d227c402",
   "metadata": {
    "tags": []
   },
   "outputs": [
    {
     "data": {
      "text/plain": [
       "ParcelID              0\n",
       "TaxYear               0\n",
       "Address               0\n",
       "AddrNumber           62\n",
       "AddrPreDir       342775\n",
       "AddrStreet            3\n",
       "AddrSuffix        22171\n",
       "AddrPosDir       207883\n",
       "AddrUntTyp       317827\n",
       "AddrUnit         295379\n",
       "Owner                96\n",
       "OwnerAddr1          123\n",
       "OwnerAddr2         1568\n",
       "TaxDist               0\n",
       "TotAssess             5\n",
       "LandAssess           13\n",
       "ImprAssess           13\n",
       "TotAppr               5\n",
       "LandAppr              5\n",
       "ImprAppr             13\n",
       "LUCode                5\n",
       "ClassCode             0\n",
       "LivUnits           6251\n",
       "LandAcres          3541\n",
       "NbrHood               0\n",
       "Subdiv           341068\n",
       "SubdivNum        292703\n",
       "SubdivLot        318682\n",
       "SubdivBlck       338803\n",
       "Shape__Area           2\n",
       "Shape__Length         2\n",
       "dtype: int64"
      ]
     },
     "execution_count": 35,
     "metadata": {},
     "output_type": "execute_result"
    }
   ],
   "source": [
    "Parcels_11.isna().sum()"
   ]
  },
  {
   "cell_type": "code",
   "execution_count": 23,
   "id": "075714e4-12c4-4b3a-8fef-79d6f155ef08",
   "metadata": {
    "tags": []
   },
   "outputs": [
    {
     "data": {
      "text/plain": [
       "AddrPreDir    342775\n",
       "AddrPosDir    207883\n",
       "AddrUntTyp    317827\n",
       "AddrUnit      295379\n",
       "Subdiv        341068\n",
       "SubdivNum     292703\n",
       "SubdivLot     318682\n",
       "SubdivBlck    338803\n",
       "dtype: int64"
      ]
     },
     "execution_count": 23,
     "metadata": {},
     "output_type": "execute_result"
    }
   ],
   "source": [
    "# find columns with no data or 'na'\n",
    "parcel_na = Parcels_11.isna().sum()\n",
    "parcel_na[parcel_na > 50_000]"
   ]
  },
  {
   "cell_type": "code",
   "execution_count": 24,
   "id": "6d58a48e-12ef-44bd-85e1-b4d1c64ac7ca",
   "metadata": {},
   "outputs": [
    {
     "data": {
      "text/plain": [
       "Index(['AddrPreDir', 'AddrPosDir', 'AddrUntTyp', 'AddrUnit', 'Subdiv',\n",
       "       'SubdivNum', 'SubdivLot', 'SubdivBlck'],\n",
       "      dtype='object')"
      ]
     },
     "execution_count": 24,
     "metadata": {},
     "output_type": "execute_result"
    }
   ],
   "source": [
    "parcel_na[parcel_na > 50_000].keys()"
   ]
  },
  {
   "cell_type": "code",
   "execution_count": 47,
   "id": "6cad3f60-8779-4f60-bbee-f2be8f44573f",
   "metadata": {},
   "outputs": [
    {
     "data": {
      "text/plain": [
       "Index(['AddrPreDir', 'AddrPosDir', 'AddrUntTyp', 'AddrUnit', 'Subdiv',\n",
       "       'SubdivNum', 'SubdivLot', 'SubdivBlck'],\n",
       "      dtype='object')"
      ]
     },
     "execution_count": 47,
     "metadata": {},
     "output_type": "execute_result"
    }
   ],
   "source": [
    "Parcels_11.loc[:, Parcels_11.isna().sum() > 50_000].columns"
   ]
  },
  {
   "cell_type": "code",
   "execution_count": 53,
   "id": "f1f699cf-af6d-4465-8638-b6c056ae8f78",
   "metadata": {},
   "outputs": [
    {
     "data": {
      "text/plain": [
       "Index(['AddrPreDir', 'AddrSuffix', 'AddrPosDir', 'AddrUntTyp', 'AddrUnit',\n",
       "       'Subdiv', 'SubdivNum', 'SubdivLot', 'SubdivBlck'],\n",
       "      dtype='object')"
      ]
     },
     "execution_count": 53,
     "metadata": {},
     "output_type": "execute_result"
    }
   ],
   "source": [
    "Parcels_11.loc[:,Parcels_11.isna().sum() > 10_000].keys()"
   ]
  },
  {
   "cell_type": "code",
   "execution_count": 26,
   "id": "d8650871-d668-491a-86bc-612e1cd43f0d",
   "metadata": {},
   "outputs": [
    {
     "data": {
      "text/plain": [
       "OBJECTID\n",
       "1650      999\n",
       "2562      242\n",
       "7471      269\n",
       "11034     280\n",
       "11131     101\n",
       "         ... \n",
       "343087    200\n",
       "343088    200\n",
       "343089    200\n",
       "343090    200\n",
       "343091    200\n",
       "Name: LivUnits, Length: 603, dtype: int64"
      ]
     },
     "execution_count": 26,
     "metadata": {},
     "output_type": "execute_result"
    }
   ],
   "source": [
    "Parcels_09.LivUnits[Parcels_09['LivUnits'] > 100]"
   ]
  },
  {
   "cell_type": "code",
   "execution_count": 37,
   "id": "0ea620d9-4531-40e7-a09f-ac74b8da8051",
   "metadata": {
    "collapsed": true,
    "jupyter": {
     "outputs_hidden": true
    },
    "tags": []
   },
   "outputs": [
    {
     "data": {
      "text/plain": [
       "Index(['DIGEST', 'SITUS', 'TAXPIN', 'ParcelID', 'ATRPIN', 'TaxDist', 'Owner',\n",
       "       'OWNER2', 'ADD2', 'ADD3', 'ADD4', 'ADD5', 'LUC', 'NBHD', 'PROP_CLASS',\n",
       "       'CLASS', 'TotAppr', 'TotAssess', 'IMPR_APPR', 'LAND_APPR', 'FUL_EX_COD',\n",
       "       'VAL_ACRES', 'STRUCT_FLR', 'STRUCT_YR', 'TIEBACK', 'TaxYear',\n",
       "       'STATUS_COD', 'LivUnits', 'PCODE', 'UNIT_NUM', 'EXTVER', 'Shape__Area',\n",
       "       'Shape__Length'],\n",
       "      dtype='object')"
      ]
     },
     "execution_count": 37,
     "metadata": {},
     "output_type": "execute_result"
    }
   ],
   "source": [
    "Parcels_09.columns"
   ]
  },
  {
   "cell_type": "code",
   "execution_count": 21,
   "id": "a36f2127-9fc7-4f0d-bd82-467efbe136b8",
   "metadata": {
    "tags": []
   },
   "outputs": [],
   "source": [
    "# Parcels_10.columns"
   ]
  },
  {
   "cell_type": "code",
   "execution_count": 22,
   "id": "9957050c-070f-462d-8f08-5f1fa8b123d7",
   "metadata": {
    "tags": []
   },
   "outputs": [],
   "source": [
    "# Parcels_11.columns"
   ]
  },
  {
   "cell_type": "code",
   "execution_count": 23,
   "id": "08cd9fd1-c6e3-4dab-9d90-417aa2476a3f",
   "metadata": {
    "tags": []
   },
   "outputs": [],
   "source": [
    "# Parcels_12.columns"
   ]
  },
  {
   "cell_type": "code",
   "execution_count": 24,
   "id": "179fcf21-c16e-4fa2-89af-d2d8ba15e5a6",
   "metadata": {
    "tags": []
   },
   "outputs": [],
   "source": [
    "# Parcels_13.columns"
   ]
  },
  {
   "cell_type": "code",
   "execution_count": 25,
   "id": "0417728d-1af5-472e-b968-9e0189d4dbab",
   "metadata": {
    "tags": []
   },
   "outputs": [],
   "source": [
    "# Parcels_14.columns"
   ]
  },
  {
   "cell_type": "code",
   "execution_count": 26,
   "id": "681e6fa8-8234-4733-beb1-d1e7a25b1285",
   "metadata": {
    "tags": []
   },
   "outputs": [],
   "source": [
    "# Parcels_15.columns"
   ]
  },
  {
   "cell_type": "code",
   "execution_count": 29,
   "id": "e735ea46-7f99-4f6a-af52-fe0a8721d654",
   "metadata": {},
   "outputs": [],
   "source": [
    "# Parcels_10.columns"
   ]
  },
  {
   "cell_type": "code",
   "execution_count": 53,
   "id": "409c871c-c5eb-4b48-ba64-e89469b24960",
   "metadata": {},
   "outputs": [],
   "source": [
    "# view of parcels that have an Atlanta Tax ID\n",
    "''' Still not sure if I want to keep these separate or concat before I analyze. I think I want to concat but then I have to\n",
    "    do more logic to fine annual data. Here it's already split. I suppose I could just create views onto each year from the \n",
    "    main df... hmm.\n",
    "'''\n",
    "atlanta_09DF = Parcels_09[Parcels_09['TaxDist'].isin(atlanta_tax_IDs) == True]\n",
    "atlanta_10DF = Parcels_10[Parcels_10['TaxDist'].isin(atlanta_tax_IDs) == True]\n",
    "atlanta_11DF = Parcels_11[Parcels_11['TaxDist'].isin(atlanta_tax_IDs) == True]\n",
    "atlanta_12DF = Parcels_12[Parcels_12['TaxDist'].isin(atlanta_tax_IDs) == True]\n",
    "atlanta_13DF = Parcels_13[Parcels_13['TaxDist'].isin(atlanta_tax_IDs) == True]\n",
    "atlanta_14DF = Parcels_14[Parcels_14['TaxDist'].isin(atlanta_tax_IDs) == True]\n",
    "atlanta_15DF = Parcels_15[Parcels_15['TaxDist'].isin(atlanta_tax_IDs) == True]"
   ]
  },
  {
   "cell_type": "markdown",
   "id": "4e69761c-eead-4373-ab82-d4ee43369cc0",
   "metadata": {
    "tags": []
   },
   "source": [
    "## This is markdown ya goof!\n",
    "year_list = [int(pd.unique(df['TaxYear'])) for df in dfs]  \n",
    "parcel_data = pd.concat(dfs, keys=[year_list])\n",
    "parcel_data"
   ]
  },
  {
   "cell_type": "code",
   "execution_count": null,
   "id": "07988568-fc90-4e37-b1bf-a0a1c9de6de9",
   "metadata": {},
   "outputs": [],
   "source": []
  }
 ],
 "metadata": {
  "kernelspec": {
   "display_name": "Python 3",
   "language": "python",
   "name": "python3"
  },
  "language_info": {
   "codemirror_mode": {
    "name": "ipython",
    "version": 3
   },
   "file_extension": ".py",
   "mimetype": "text/x-python",
   "name": "python",
   "nbconvert_exporter": "python",
   "pygments_lexer": "ipython3",
   "version": "3.9.1"
  }
 },
 "nbformat": 4,
 "nbformat_minor": 5
}
