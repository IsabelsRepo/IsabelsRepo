{
 "cells": [
  {
   "cell_type": "code",
   "execution_count": 1,
   "id": "57977db9-338b-48ac-ad8d-89996a214353",
   "metadata": {},
   "outputs": [],
   "source": [
    "import pandas as pd              # v1.4.3\n",
    "import numpy as np               # v1.20.1\n",
    "import matplotlib.pyplot as plt  # v3.5.2\n",
    "import folium                    # v0.12.1.post1"
   ]
  },
  {
   "cell_type": "code",
   "execution_count": 2,
   "id": "36b06116-a36c-4a11-bc53-56f61766c7f6",
   "metadata": {
    "tags": []
   },
   "outputs": [],
   "source": [
    "# Should really use glob to read this all in. Next time.....\n",
    "# Can't set dtypes cause things I want to be 'int16' have NaNs. Prefer finer grained dropna later than on read\n",
    "Parcels_09 = pd.read_csv(r'F:/GISdata/Atlanta/Tax_Parcels_2009.csv', sep=',', index_col='OBJECTID', low_memory=False)\n",
    "Parcels_10 = pd.read_csv(r'F:/GISdata/Atlanta/Tax_Parcels_2010.csv', sep=',', index_col='OBJECTID', low_memory=False)\n",
    "Parcels_11 = pd.read_csv(r'F:/GISdata/Atlanta/Tax_Parcels_2011.csv', sep=',', index_col='OBJECTID', low_memory=False)"
   ]
  },
  {
   "cell_type": "code",
   "execution_count": 11,
   "id": "e508632b-5c3f-4d5d-b383-45976ee6df53",
   "metadata": {
    "tags": []
   },
   "outputs": [],
   "source": [
    "Parcels_12 = pd.read_csv(r'F:/GISdata/Atlanta/Tax_Parcels_2012.csv', sep=',', index_col='OBJECTID', low_memory=False)\n",
    "Parcels_13 = pd.read_csv(r'F:/GISdata/Atlanta/Tax_Parcels_2013.csv', sep=',', index_col='OBJECTID', low_memory=False)\n",
    "Parcels_14 = pd.read_csv(r'F:/GISdata/Atlanta/Tax_Parcels_2014.csv', sep=',', index_col='OBJECTID', low_memory=False)\n",
    "Parcels_15 = pd.read_csv(r'F:/GISdata/Atlanta/Tax_Parcels_2015.csv', sep=',', index_col='OBJECTID', low_memory=False)\n",
    "Parcels_16 = pd.read_csv(r'F:/GISdata/Atlanta/Tax_Parcels_2016.csv', sep=',', index_col='OBJECTID', low_memory=False)\n",
    "Parcels_17 = pd.read_csv(r'F:/GISdata/Atlanta/Tax_Parcels_2017.csv', sep=',', index_col='OBJECTID', low_memory=False)\n",
    "Parcels_18 = pd.read_csv(r'F:/GISdata/Atlanta/Tax_Parcels_2018.csv', sep=',', index_col='OBJECTID', low_memory=False)\n",
    "Parcels_19 = pd.read_csv(r'F:/GISdata/Atlanta/Tax_Parcels_2019.csv', sep=',', index_col='OBJECTID', low_memory=False)\n",
    "Parcels_20 = pd.read_csv(r'F:/GISdata/Atlanta/Tax_Parcels_2020.csv', sep=',', index_col='OBJECTID', low_memory=False)\n",
    "Parcels_21 = pd.read_csv(r'F:/GISdata/Atlanta/Tax_Parcels_2021.csv', sep=',', index_col='OBJECTID', low_memory=False)\n",
    "Parcels_22 = pd.read_csv(r'F:/GISdata/Atlanta/Tax_Parcels_2022.csv', sep=',', index_col='OBJECTID', low_memory=False)"
   ]
  },
  {
   "cell_type": "code",
   "execution_count": 4,
   "id": "92206f42-5425-472a-89bc-e13fc2e0178b",
   "metadata": {
    "tags": []
   },
   "outputs": [
    {
     "name": "stdout",
     "output_type": "stream",
     "text": [
      "<class 'pandas.core.frame.DataFrame'>\n",
      "Int64Index: 343897 entries, 1 to 343897\n",
      "Data columns (total 33 columns):\n",
      " #   Column         Non-Null Count   Dtype  \n",
      "---  ------         --------------   -----  \n",
      " 0   DIGEST         343897 non-null  int16  \n",
      " 1   SITUS          343897 non-null  object \n",
      " 2   TAXPIN         343897 non-null  object \n",
      " 3   PARID          343897 non-null  object \n",
      " 4   ATRPIN         343897 non-null  object \n",
      " 5   TAX_DISTR      343897 non-null  object \n",
      " 6   OWNER1         343897 non-null  object \n",
      " 7   OWNER2         343897 non-null  object \n",
      " 8   ADD2           343897 non-null  object \n",
      " 9   ADD3           343897 non-null  object \n",
      " 10  ADD4           343897 non-null  object \n",
      " 11  ADD5           343897 non-null  object \n",
      " 12  LUC            343897 non-null  object \n",
      " 13  NBHD           343897 non-null  object \n",
      " 14  PROP_CLASS     343897 non-null  object \n",
      " 15  CLASS          343897 non-null  object \n",
      " 16  TOT_APPR       343897 non-null  int64  \n",
      " 17  TOT_ASSESS     343897 non-null  int64  \n",
      " 18  IMPR_APPR      343897 non-null  int64  \n",
      " 19  LAND_APPR      343897 non-null  int64  \n",
      " 20  FUL_EX_COD     343897 non-null  object \n",
      " 21  VAL_ACRES      343897 non-null  int64  \n",
      " 22  STRUCT_FLR     343897 non-null  float64\n",
      " 23  STRUCT_YR      343897 non-null  int64  \n",
      " 24  TIEBACK        343897 non-null  object \n",
      " 25  TAXYEAR        343897 non-null  int64  \n",
      " 26  STATUS_COD     343897 non-null  object \n",
      " 27  LIV_UNITS      343897 non-null  int64  \n",
      " 28  PCODE          343897 non-null  object \n",
      " 29  UNIT_NUM       343897 non-null  int64  \n",
      " 30  EXTVER         343897 non-null  int64  \n",
      " 31  Shape__Area    343897 non-null  float64\n",
      " 32  Shape__Length  343897 non-null  float64\n",
      "dtypes: float64(3), int16(1), int64(10), object(19)\n",
      "memory usage: 87.2+ MB\n"
     ]
    }
   ],
   "source": [
    "Parcels_09.info(3)"
   ]
  },
  {
   "cell_type": "code",
   "execution_count": 7,
   "id": "1113e27f-57a6-4862-8557-4650c823ceab",
   "metadata": {
    "tags": []
   },
   "outputs": [
    {
     "data": {
      "text/plain": [
       "OBJECTID\n",
       "1    2009\n",
       "2    2009\n",
       "3    2009\n",
       "4    2009\n",
       "5    2009\n",
       "Name: TAXYEAR, dtype: int64"
      ]
     },
     "execution_count": 7,
     "metadata": {},
     "output_type": "execute_result"
    }
   ],
   "source": [
    "# check ['TAXYEAR'] data\n",
    "Parcels_09.TAXYEAR.head()"
   ]
  },
  {
   "cell_type": "markdown",
   "id": "719ff775-9497-4f2e-bd25-24890921b3a8",
   "metadata": {
    "tags": []
   },
   "source": [
    "# The Plan  \n",
    "- [x] Get property records  \n",
    "- [x] Clean data  \n",
    "    - [x] Fix ['Columns']   \n",
    "        - [x] Unify column names  \n",
    "    - [x] Concat years into single dataframe  \n",
    "    - [x] Drop ['Columns'] with lots of NaNs  \n",
    "        - NaN > 25k seems to be enough to get rid of empty columns but also keep semi-useful data (street suffixes)\n",
    "            - Ended up using 710k since the entire data set has +4M rows. The important data has missing data < 1000.\n",
    "    - [x] df.dropna(subset=['columns']) rows with lots of NaNs   \n",
    "        - ['ParcelID', 'TaxDist', 'TotAppr', 'TotAssess', 'LivUnits']   \n",
    "    - [x] Export AllYears.csv (don't use that name >< )\n",
    "    - [x] Drop non-ATL properties  \n",
    "        - [x] Export ATL-PropertyRecords.csv  \n",
    "\n",
    "## Parcel data information  \n",
    "The CAMA information included with the published dataset is selected based on its value to the typical consumer of the data and includes the parcel identification number, the property address, property owner, owner's mailing address, tax district, assessed and appraised value for land and improvements, the number of livable units, acreage, property class and land use class.\n",
    "\n",
    "Fulton County GIS Collaboration Group [Centerline Address Landmark Data Model](http://share.myfultoncountyga.us/datashare/fultoncounty/Documents/CenterlineAddressLandmarkDataModelDocument.pdf)"
   ]
  },
  {
   "cell_type": "code",
   "execution_count": 12,
   "id": "60184f10-79fb-484f-af1e-7e31e6fecf14",
   "metadata": {},
   "outputs": [],
   "source": [
    "# a list of parcel tax IDs in the City of Atlanta.\n",
    "atlanta_tax_IDs = ['05', '05A', '05B', '05C', '05D', '05E', '05F', '05G', '05H', '05I', '05J',\n",
    "                    '05K', '05L', '05P', '05Q', '05R', '05S', '05T', '05U', '05V', '05W', '05X',\n",
    "                  '05Y', '05Z']  \n",
    "\n",
    "# column names changed in 2011, renaming to make analysis easier. I wish I could just use pd.str functions :/\n",
    "new_cols = {'PARID': 'ParcelID', 'TAX_DISTR': 'TaxDist','LIV_UNITS': 'LivUnits', 'OWNER1': 'Owner', 'STRUCT_YR': 'StructYr',\n",
    "            'TOT_ASSESS': 'TotAssess','TOT_APPR': 'TotAppr', 'TAXYEAR': 'TaxYear','NBHD' : 'NbrHood', 'LUC':'LUCode',\n",
    "           'LAND_APPR' : 'LandAppr', 'PROP_CLASS': 'PropClass', 'STRUCT_FLR': 'StructFlr', 'SITUS':'Address' }\n",
    "Parcels_10.rename(columns=new_cols, inplace=True)\n",
    "Parcels_09.rename(columns=new_cols, inplace=True)  \n",
    "\n",
    "# a subset of columns to analyze.\n",
    "simplified_cols = ['ParcelID', 'TaxDist', 'Owner', 'TotAppr', 'TotAssess', 'LivUnits']"
   ]
  },
  {
   "cell_type": "code",
   "execution_count": 163,
   "id": "0ea620d9-4531-40e7-a09f-ac74b8da8051",
   "metadata": {
    "tags": []
   },
   "outputs": [
    {
     "data": {
      "text/plain": [
       "Index(['Address', 'TAXPIN', 'ParcelID', 'ATRPIN', 'TaxDist', 'Owner', 'OWNER2',\n",
       "       'ADD2', 'ADD3', 'ADD4', 'ADD5', 'LUCode', 'NbrHood', 'PropClass',\n",
       "       'CLASS', 'TotAppr', 'TotAssess', 'IMPR_APPR', 'LandAppr', 'FUL_EX_COD',\n",
       "       'StructFlr', 'StructYr', 'TIEBACK', 'TaxYear', 'STATUS_COD', 'LivUnits',\n",
       "       'PCODE', 'UNIT_NUM', 'EXTVER', 'Shape__Area', 'Shape__Length'],\n",
       "      dtype='object')"
      ]
     },
     "execution_count": 163,
     "metadata": {},
     "output_type": "execute_result"
    }
   ],
   "source": [
    "Parcels_09.columns"
   ]
  },
  {
   "cell_type": "code",
   "execution_count": 122,
   "id": "ebac7273-cd4e-470f-9996-816461ce78f9",
   "metadata": {
    "tags": []
   },
   "outputs": [
    {
     "data": {
      "text/plain": [
       "Index(['ParcelID', 'TaxYear', 'Address', 'AddrNumber', 'AddrPreDir',\n",
       "       'AddrStreet', 'AddrSuffix', 'AddrPosDir', 'AddrUntTyp', 'AddrUnit',\n",
       "       'Owner', 'OwnerAddr1', 'OwnerAddr2', 'TaxDist', 'TotAssess',\n",
       "       'LandAssess', 'ImprAssess', 'TotAppr', 'LandAppr', 'ImprAppr', 'LUCode',\n",
       "       'ClassCode', 'LivUnits', 'LandAcres', 'NbrHood', 'Subdiv', 'SubdivNum',\n",
       "       'SubdivLot', 'SubdivBlck', 'Shape__Area', 'Shape__Length'],\n",
       "      dtype='object')"
      ]
     },
     "execution_count": 122,
     "metadata": {},
     "output_type": "execute_result"
    }
   ],
   "source": [
    "Parcels_11.columns"
   ]
  },
  {
   "cell_type": "code",
   "execution_count": null,
   "id": "dacff423-684e-4299-838b-6c145395c6d9",
   "metadata": {},
   "outputs": [],
   "source": []
  },
  {
   "cell_type": "code",
   "execution_count": 13,
   "id": "f9af69ac-6836-4fdf-9d17-be6bf77f723f",
   "metadata": {
    "tags": []
   },
   "outputs": [
    {
     "data": {
      "text/plain": [
       "\"\\nfor df in dfs:\\n        df.dropna(subset=['TaxYear', 'ParcelID', 'TaxDist', 'TotAppr', 'TotAssess', 'LivUnits'], inplace=True)\\n        df.astype({'TaxYear': 'int16'})\\n# check that it worked\\nParcels_09[pd.isna(Parcels_09['TaxYear'])==True]\\n\""
      ]
     },
     "execution_count": 13,
     "metadata": {},
     "output_type": "execute_result"
    }
   ],
   "source": [
    "# drop useless columns or duplicate data\n",
    "dup_col = ['DIGEST', 'VAL_ACRES', 'TAXPIN', 'ATRPIN']\n",
    "Parcels_09.drop(dup_col, axis='columns', inplace=True)\n",
    "Parcels_10.drop(dup_col, axis='columns', inplace=True)\n",
    "# drop rows with no ['TaxYear'] data\n",
    "dfs = [Parcels_09, Parcels_10, Parcels_11, Parcels_12, Parcels_13, Parcels_14, Parcels_15\n",
    "        , Parcels_16, Parcels_17, Parcels_18, Parcels_19, Parcels_20, Parcels_21, Parcels_22]\n",
    "# Check columns of interest for NaN values, and drop that row\n",
    "for df in dfs:\n",
    "        df.dropna(subset=['TaxYear', 'ParcelID', 'TaxDist', 'TotAppr', 'TotAssess', 'LivUnits'], inplace=True)\n",
    "        df.astype({'TaxYear': 'int16'})\n",
    "# check that it worked\n",
    "Parcels_09[pd.isna(Parcels_09['TaxYear'])==True]"
   ]
  },
  {
   "cell_type": "markdown",
   "id": "d9751a11-558f-4bc8-8e78-efd86b87bef6",
   "metadata": {
    "tags": []
   },
   "source": [
    "## [Fulton County Tax Districts](https://fultonassessor.org/wp-content/uploads/sites/16/2018/05/Fulton-County-Tax-Districts-2018.pdf)\n",
    "05 City of Atlanta  \n",
    "05A City of Atlanta – Downtown CID  \n",
    "05B City of Atlanta – Buckhead CID  \n",
    "05C City of Atlanta – Midtown CID  \n",
    "05D City of Atlanta – Downtown CID/Midtown CID  \n",
    "05E City of Atlanta – Downtown CID/Midtown CID/Eastside TAD  \n",
    "05F City of Atlanta – Downtown CID/Eastside TAD  \n",
    "05G City of Atlanta – Beltline TAD/Midtown CID  \n",
    "05H City of Atlanta – Airport West CID  \n",
    "05I City of Atlanta – Airport West CID/Princeton Lakes TAD  \n",
    "05J City of Atlanta – Little Five Points CID  \n",
    "05K City of Atlanta - Westside CID  \n",
    "05L City of Atlanta – Westside CID/Beltline TAD  \n",
    "05P City of Atlanta – Stadium TAD  \n",
    "05Q City of Atlanta – Campbellton TAD  \n",
    "05R City of Atlanta – Metropolitan TAD  \n",
    "05S City of Atlanta – Hollowell TAD  \n",
    "05T City of Atlanta – Beltline TAD  \n",
    "05U City of Atlanta – Princeton Lakes TAD  \n",
    "05V City of Atlanta – Perry Bolton TAD  \n",
    "05W City of Atlanta – Eastside TAD  \n",
    "05X City of Atlanta – Atlantic Station TAD  \n",
    "05Y City of Atlanta – Downtown CID/Westside TAD  \n",
    "05Z City of Atlanta – Westside TAD  \n",
    "10 City of Alpharetta  \n",
    "10A City of Alpharetta – North Fulton CID    \n",
    "15 City of College Park  \n",
    "15H City of College Park –Airport West CID  \n",
    "15Z City of College Park – College Park TAD  \n",
    "20 City of East Point  \n",
    "20H City of East Point – Airport West CID  \n",
    "20I City of East Point- East Point TAD #2/Airport West CID  \n",
    "20J City of East Point – East Point TAD/Airport West CID  \n",
    "20Y City of East Point – East Point TAD #2  \n",
    "20Z City of East Point – East Point TAD  \n",
    "25 City of Fairburn  \n",
    "25C City of Fairburn – South Fulton CID  \n",
    "30 City of Hapeville  \n",
    "30A City of Hapeville – Airport West CID  \n",
    "30B City of Hapeville – Hapeville TAD/Airport West CID  \n",
    "30Z City of Hapeville – Hapeville TAD  \n",
    "35 City of Mountain Park  \n",
    "40 City of Palmetto  \n",
    "40C City of Palmetto – South Fulton CID  \n",
    "45 City of Roswell  \n",
    "45A City of Roswell – North Fulton CID  \n",
    "50 City of Union City  \n",
    "50C City of Union City – South Fulton CID   \n",
    "50Z City of Union City – Union City TAD  \n",
    "55 City of South Fulton  \n",
    "55C City of South Fulton – South Fulton CID  \n",
    "55D City of South Fulton – Fulton Industrial Boulevard CID  \n",
    "55H City of South Fulton – Airport West CID  \n",
    "56 City of Milton  \n",
    "56A City of Milton – North Fulton CID  \n",
    "57 City of Johns Creek  \n",
    "59 City of Sandy Springs  \n",
    "59B City of Sandy Springs – Fulton Perimeter CID  \n",
    "65 City of Chattahoochee Hills  \n",
    "70 Fulton Industrial District  \n",
    "70D Fulton Industrial District – Fulton Industrial Boulevard CID  \n",
    "Revised June 9, 2016  "
   ]
  },
  {
   "cell_type": "code",
   "execution_count": 21,
   "id": "509caf1a-9959-4141-a566-9eb7af75558a",
   "metadata": {
    "tags": []
   },
   "outputs": [
    {
     "data": {
      "text/plain": [
       "TaxYear          342983\n",
       "AddrNumber       342921\n",
       "TotAssess        342978\n",
       "LandAssess       342970\n",
       "ImprAssess       342970\n",
       "TotAppr          342978\n",
       "LandAppr         342978\n",
       "ImprAppr         342970\n",
       "LivUnits         336732\n",
       "LandAcres        339442\n",
       "Shape__Area      342981\n",
       "Shape__Length    342981\n",
       "dtype: int64"
      ]
     },
     "execution_count": 21,
     "metadata": {},
     "output_type": "execute_result"
    }
   ],
   "source": [
    "Parcels_11.count(numeric_only=True)"
   ]
  },
  {
   "cell_type": "code",
   "execution_count": 93,
   "id": "68f1bf9e-8943-4215-bf77-4ad9d5bc8cf5",
   "metadata": {},
   "outputs": [
    {
     "data": {
      "text/plain": [
       "96"
      ]
     },
     "execution_count": 93,
     "metadata": {},
     "output_type": "execute_result"
    }
   ],
   "source": [
    "Parcels_11['Owner'].isna().sum()"
   ]
  },
  {
   "cell_type": "code",
   "execution_count": 25,
   "id": "2bbf185e-25ae-4f33-b61c-5d8c924a03e9",
   "metadata": {},
   "outputs": [
    {
     "data": {
      "text/plain": [
       "12"
      ]
     },
     "execution_count": 25,
     "metadata": {},
     "output_type": "execute_result"
    }
   ],
   "source": [
    "len(Parcels_11.count(numeric_only=True))"
   ]
  },
  {
   "cell_type": "markdown",
   "id": "b0bd464c-e2ab-4aaa-92e8-0abfdc685d99",
   "metadata": {},
   "source": [
    "## Cleaning Functions"
   ]
  },
  {
   "cell_type": "code",
   "execution_count": 53,
   "id": "d735ad7b-3699-4d17-89e5-4ed6aadde5a7",
   "metadata": {},
   "outputs": [],
   "source": [
    "# probably won't use this. \n",
    "def city_select(df_list, tax_ID_list):\n",
    "    '''Selects city from annual data based on tax ID codes for that city.\n",
    "        Drops rows that do not contain the tax ID. Overwrites original dataframe'''\n",
    "    for df in df_list:\n",
    "        df = df[df['TaxDist'].isin(tax_ID_list)]"
   ]
  },
  {
   "cell_type": "markdown",
   "id": "be91a1fd-d6c2-45a8-9246-cbd4d0286487",
   "metadata": {
    "tags": []
   },
   "source": [
    "### Cleaning the data\n",
    "Our dats has 31 columns in it  and only 12 have numeric data. Since I plan on concatenating 13 years of data together I'd like to remove as much unnecesary data as possible. I have a list of simplified columns already, which pares it down to just the columns I'm immediately interested in but I'd like to leave my options open in case I uncover an interesting connection that may have links to other columns. I think the right move here is to remove columns that are mostly null values. In the code below we can see that 'AddrPreDir', 'AddrUntTyp', 'AddrUnit', 'Subdiv', 'SubdivNum', 'SubdivLot', and 'SubdivBlck' have drastically less data than the rest of the columns. "
   ]
  },
  {
   "cell_type": "markdown",
   "id": "34f51ee6-c901-4e51-ba6b-1aa7f90fa4aa",
   "metadata": {},
   "source": [
    "## Working with all data in one dataframe"
   ]
  },
  {
   "cell_type": "code",
   "execution_count": 168,
   "id": "edc2a67a-3a9d-4f47-a793-12c04daec305",
   "metadata": {},
   "outputs": [],
   "source": [
    "# All property data from 2009 - 2022\n",
    "all_property_data = pd.concat(dfs)"
   ]
  },
  {
   "cell_type": "code",
   "execution_count": 169,
   "id": "620c9738-3934-4bbe-8be7-86fe4a5ef94d",
   "metadata": {},
   "outputs": [],
   "source": [
    "# Hold on to your butts\n",
    "all_property_data.to_csv('PropertyData2009-2022.csv', sep=',')"
   ]
  },
  {
   "cell_type": "code",
   "execution_count": 170,
   "id": "18cfd810-7bb7-49ab-ac79-5fcc1426703b",
   "metadata": {},
   "outputs": [
    {
     "data": {
      "text/plain": [
       "Index(['Address', 'ParcelID', 'TaxDist', 'Owner', 'OWNER2', 'ADD2', 'ADD3',\n",
       "       'ADD4', 'ADD5', 'LUCode', 'NbrHood', 'PropClass', 'CLASS', 'TotAppr',\n",
       "       'TotAssess', 'IMPR_APPR', 'LandAppr', 'FUL_EX_COD', 'StructFlr',\n",
       "       'StructYr', 'TIEBACK', 'TaxYear', 'STATUS_COD', 'LivUnits', 'PCODE',\n",
       "       'UNIT_NUM', 'EXTVER', 'Shape__Area', 'Shape__Length', 'GID',\n",
       "       'AddrNumber', 'AddrPreDir', 'AddrStreet', 'AddrSuffix', 'AddrPosDir',\n",
       "       'AddrUntTyp', 'AddrUnit', 'OwnerAddr1', 'OwnerAddr2', 'LandAssess',\n",
       "       'ImprAssess', 'ImprAppr', 'ClassCode', 'LandAcres', 'Subdiv',\n",
       "       'SubdivNum', 'SubdivLot', 'SubdivBlck', 'FeatureID', 'ExCode'],\n",
       "      dtype='object')"
      ]
     },
     "execution_count": 170,
     "metadata": {},
     "output_type": "execute_result"
    }
   ],
   "source": [
    "all_property_data.columns"
   ]
  },
  {
   "cell_type": "code",
   "execution_count": 145,
   "id": "b4fb63e9-dfff-4551-9b82-b1e90b6fdd6a",
   "metadata": {
    "tags": []
   },
   "outputs": [
    {
     "data": {
      "text/plain": [
       "SITUS            4149855\n",
       "TAXPIN           4149855\n",
       "ParcelID               0\n",
       "ATRPIN           4149855\n",
       "TaxDist                0\n",
       "Owner                208\n",
       "OWNER2           4149855\n",
       "ADD2             4149855\n",
       "ADD3             4149855\n",
       "ADD4             4149855\n",
       "ADD5             4149855\n",
       "LUCode                 0\n",
       "NbrHood                0\n",
       "PropClass        4149855\n",
       "CLASS            4149855\n",
       "TotAppr                0\n",
       "TotAssess              0\n",
       "IMPR_APPR        4149855\n",
       "LandAppr               0\n",
       "FUL_EX_COD       4149855\n",
       "StructFlr        4149855\n",
       "StructYr         4149855\n",
       "TIEBACK          4149855\n",
       "TaxYear                0\n",
       "STATUS_COD       4149855\n",
       "LivUnits               0\n",
       "PCODE            4149855\n",
       "UNIT_NUM         4149855\n",
       "EXTVER           4149855\n",
       "Shape__Area            3\n",
       "Shape__Length          3\n",
       "GID              4493752\n",
       "Address           688497\n",
       "AddrNumber        689069\n",
       "AddrPreDir       4835180\n",
       "AddrStreet        688558\n",
       "AddrSuffix        954623\n",
       "AddrPosDir       3240690\n",
       "AddrUntTyp       4461177\n",
       "AddrUnit         4262183\n",
       "OwnerAddr1        689340\n",
       "OwnerAddr2        689400\n",
       "LandAssess        688510\n",
       "ImprAssess        688510\n",
       "ImprAppr          688510\n",
       "ClassCode         688498\n",
       "LandAcres         706467\n",
       "Subdiv           4831767\n",
       "SubdivNum        4149424\n",
       "SubdivLot        4447466\n",
       "SubdivBlck       4774975\n",
       "FeatureID        1360338\n",
       "ExCode           3624473\n",
       "dtype: int64"
      ]
     },
     "execution_count": 145,
     "metadata": {},
     "output_type": "execute_result"
    }
   ],
   "source": [
    "all_property_data.isna().sum()"
   ]
  },
  {
   "cell_type": "code",
   "execution_count": 151,
   "id": "802fca5e-e2bf-4b34-8672-89359ae96d9d",
   "metadata": {
    "collapsed": true,
    "jupyter": {
     "outputs_hidden": true
    },
    "tags": []
   },
   "outputs": [
    {
     "data": {
      "text/html": [
       "<div>\n",
       "<style scoped>\n",
       "    .dataframe tbody tr th:only-of-type {\n",
       "        vertical-align: middle;\n",
       "    }\n",
       "\n",
       "    .dataframe tbody tr th {\n",
       "        vertical-align: top;\n",
       "    }\n",
       "\n",
       "    .dataframe thead th {\n",
       "        text-align: right;\n",
       "    }\n",
       "</style>\n",
       "<table border=\"1\" class=\"dataframe\">\n",
       "  <thead>\n",
       "    <tr style=\"text-align: right;\">\n",
       "      <th></th>\n",
       "      <th>SITUS</th>\n",
       "      <th>TAXPIN</th>\n",
       "      <th>ParcelID</th>\n",
       "      <th>ATRPIN</th>\n",
       "      <th>TaxDist</th>\n",
       "      <th>Owner</th>\n",
       "      <th>OWNER2</th>\n",
       "      <th>ADD2</th>\n",
       "      <th>ADD3</th>\n",
       "      <th>ADD4</th>\n",
       "      <th>...</th>\n",
       "      <th>ImprAssess</th>\n",
       "      <th>ImprAppr</th>\n",
       "      <th>ClassCode</th>\n",
       "      <th>LandAcres</th>\n",
       "      <th>Subdiv</th>\n",
       "      <th>SubdivNum</th>\n",
       "      <th>SubdivLot</th>\n",
       "      <th>SubdivBlck</th>\n",
       "      <th>FeatureID</th>\n",
       "      <th>ExCode</th>\n",
       "    </tr>\n",
       "    <tr>\n",
       "      <th>OBJECTID</th>\n",
       "      <th></th>\n",
       "      <th></th>\n",
       "      <th></th>\n",
       "      <th></th>\n",
       "      <th></th>\n",
       "      <th></th>\n",
       "      <th></th>\n",
       "      <th></th>\n",
       "      <th></th>\n",
       "      <th></th>\n",
       "      <th></th>\n",
       "      <th></th>\n",
       "      <th></th>\n",
       "      <th></th>\n",
       "      <th></th>\n",
       "      <th></th>\n",
       "      <th></th>\n",
       "      <th></th>\n",
       "      <th></th>\n",
       "      <th></th>\n",
       "      <th></th>\n",
       "    </tr>\n",
       "  </thead>\n",
       "  <tbody>\n",
       "    <tr>\n",
       "      <th>1</th>\n",
       "      <td>665 FALLS LAKE DR</td>\n",
       "      <td>11 01910100086</td>\n",
       "      <td>11 019101000864</td>\n",
       "      <td>11 -0191-0100-086-4</td>\n",
       "      <td>57</td>\n",
       "      <td>JOEL KENNETH H &amp;</td>\n",
       "      <td></td>\n",
       "      <td>665 FALLS LAKE DR</td>\n",
       "      <td>ALPHARETTA GA 30022</td>\n",
       "      <td></td>\n",
       "      <td>...</td>\n",
       "      <td>NaN</td>\n",
       "      <td>NaN</td>\n",
       "      <td>NaN</td>\n",
       "      <td>NaN</td>\n",
       "      <td>NaN</td>\n",
       "      <td>NaN</td>\n",
       "      <td>NaN</td>\n",
       "      <td>NaN</td>\n",
       "      <td>NaN</td>\n",
       "      <td>NaN</td>\n",
       "    </tr>\n",
       "    <tr>\n",
       "      <th>2</th>\n",
       "      <td>809 PISTACE CT</td>\n",
       "      <td>11 00700014087</td>\n",
       "      <td>11 007000140873</td>\n",
       "      <td>11 -0070-0014-087-3</td>\n",
       "      <td>57</td>\n",
       "      <td>MADISON PARK LLC</td>\n",
       "      <td></td>\n",
       "      <td>1805 OLD ALABAMA RD SUITE 230</td>\n",
       "      <td>ROSWELL GA 30076</td>\n",
       "      <td></td>\n",
       "      <td>...</td>\n",
       "      <td>NaN</td>\n",
       "      <td>NaN</td>\n",
       "      <td>NaN</td>\n",
       "      <td>NaN</td>\n",
       "      <td>NaN</td>\n",
       "      <td>NaN</td>\n",
       "      <td>NaN</td>\n",
       "      <td>NaN</td>\n",
       "      <td>NaN</td>\n",
       "      <td>NaN</td>\n",
       "    </tr>\n",
       "    <tr>\n",
       "      <th>3</th>\n",
       "      <td>2021 WESTBOURNE WAY</td>\n",
       "      <td>11 02000071116</td>\n",
       "      <td>11 020000711163</td>\n",
       "      <td>11 -0200-0071-116-3</td>\n",
       "      <td>57</td>\n",
       "      <td>BALL HOWARD</td>\n",
       "      <td></td>\n",
       "      <td>2021 WESTBOURNE WAY</td>\n",
       "      <td>ALPHARETTA GA 30022</td>\n",
       "      <td></td>\n",
       "      <td>...</td>\n",
       "      <td>NaN</td>\n",
       "      <td>NaN</td>\n",
       "      <td>NaN</td>\n",
       "      <td>NaN</td>\n",
       "      <td>NaN</td>\n",
       "      <td>NaN</td>\n",
       "      <td>NaN</td>\n",
       "      <td>NaN</td>\n",
       "      <td>NaN</td>\n",
       "      <td>NaN</td>\n",
       "    </tr>\n",
       "    <tr>\n",
       "      <th>4</th>\n",
       "      <td>10083 TRUMPET PARK</td>\n",
       "      <td>11 00700033109</td>\n",
       "      <td>11 007000331092</td>\n",
       "      <td>11 -0070-0033-109-2</td>\n",
       "      <td>57</td>\n",
       "      <td>MADISON PARK LLC</td>\n",
       "      <td></td>\n",
       "      <td>1805 OLD ALABAMA RD SUITE 230</td>\n",
       "      <td>ROSWELL GA 30076</td>\n",
       "      <td></td>\n",
       "      <td>...</td>\n",
       "      <td>NaN</td>\n",
       "      <td>NaN</td>\n",
       "      <td>NaN</td>\n",
       "      <td>NaN</td>\n",
       "      <td>NaN</td>\n",
       "      <td>NaN</td>\n",
       "      <td>NaN</td>\n",
       "      <td>NaN</td>\n",
       "      <td>NaN</td>\n",
       "      <td>NaN</td>\n",
       "    </tr>\n",
       "    <tr>\n",
       "      <th>5</th>\n",
       "      <td>10914 ESTATES CIR</td>\n",
       "      <td>11 01600080191</td>\n",
       "      <td>11 016000801913</td>\n",
       "      <td>11 -0160-0080-191-3</td>\n",
       "      <td>10</td>\n",
       "      <td>TB SIX LLC</td>\n",
       "      <td></td>\n",
       "      <td>1210 NORTHCLIFF TRC</td>\n",
       "      <td>ROSWELL GA 30072</td>\n",
       "      <td></td>\n",
       "      <td>...</td>\n",
       "      <td>NaN</td>\n",
       "      <td>NaN</td>\n",
       "      <td>NaN</td>\n",
       "      <td>NaN</td>\n",
       "      <td>NaN</td>\n",
       "      <td>NaN</td>\n",
       "      <td>NaN</td>\n",
       "      <td>NaN</td>\n",
       "      <td>NaN</td>\n",
       "      <td>NaN</td>\n",
       "    </tr>\n",
       "    <tr>\n",
       "      <th>...</th>\n",
       "      <td>...</td>\n",
       "      <td>...</td>\n",
       "      <td>...</td>\n",
       "      <td>...</td>\n",
       "      <td>...</td>\n",
       "      <td>...</td>\n",
       "      <td>...</td>\n",
       "      <td>...</td>\n",
       "      <td>...</td>\n",
       "      <td>...</td>\n",
       "      <td>...</td>\n",
       "      <td>...</td>\n",
       "      <td>...</td>\n",
       "      <td>...</td>\n",
       "      <td>...</td>\n",
       "      <td>...</td>\n",
       "      <td>...</td>\n",
       "      <td>...</td>\n",
       "      <td>...</td>\n",
       "      <td>...</td>\n",
       "      <td>...</td>\n",
       "    </tr>\n",
       "    <tr>\n",
       "      <th>7409417</th>\n",
       "      <td>NaN</td>\n",
       "      <td>NaN</td>\n",
       "      <td>17 010800011812</td>\n",
       "      <td>NaN</td>\n",
       "      <td>05X</td>\n",
       "      <td>STEVERSON SUMMER</td>\n",
       "      <td>NaN</td>\n",
       "      <td>NaN</td>\n",
       "      <td>NaN</td>\n",
       "      <td>NaN</td>\n",
       "      <td>...</td>\n",
       "      <td>85680.0</td>\n",
       "      <td>214200.0</td>\n",
       "      <td>R3</td>\n",
       "      <td>0.0191</td>\n",
       "      <td>NaN</td>\n",
       "      <td>R</td>\n",
       "      <td>NaN</td>\n",
       "      <td>NaN</td>\n",
       "      <td>17 010800011812</td>\n",
       "      <td>NaN</td>\n",
       "    </tr>\n",
       "    <tr>\n",
       "      <th>7409418</th>\n",
       "      <td>NaN</td>\n",
       "      <td>NaN</td>\n",
       "      <td>17 010800011820</td>\n",
       "      <td>NaN</td>\n",
       "      <td>05X</td>\n",
       "      <td>SHEHU SHEHU SULE</td>\n",
       "      <td>NaN</td>\n",
       "      <td>NaN</td>\n",
       "      <td>NaN</td>\n",
       "      <td>NaN</td>\n",
       "      <td>...</td>\n",
       "      <td>76720.0</td>\n",
       "      <td>191800.0</td>\n",
       "      <td>R3</td>\n",
       "      <td>0.0158</td>\n",
       "      <td>NaN</td>\n",
       "      <td>R</td>\n",
       "      <td>NaN</td>\n",
       "      <td>NaN</td>\n",
       "      <td>17 010800011820</td>\n",
       "      <td>NaN</td>\n",
       "    </tr>\n",
       "    <tr>\n",
       "      <th>7409419</th>\n",
       "      <td>NaN</td>\n",
       "      <td>NaN</td>\n",
       "      <td>17 010800011838</td>\n",
       "      <td>NaN</td>\n",
       "      <td>05X</td>\n",
       "      <td>PERRIE DAVID</td>\n",
       "      <td>NaN</td>\n",
       "      <td>NaN</td>\n",
       "      <td>NaN</td>\n",
       "      <td>NaN</td>\n",
       "      <td>...</td>\n",
       "      <td>78800.0</td>\n",
       "      <td>197000.0</td>\n",
       "      <td>R3</td>\n",
       "      <td>0.0166</td>\n",
       "      <td>NaN</td>\n",
       "      <td>R</td>\n",
       "      <td>NaN</td>\n",
       "      <td>NaN</td>\n",
       "      <td>17 010800011838</td>\n",
       "      <td>NaN</td>\n",
       "    </tr>\n",
       "    <tr>\n",
       "      <th>7409420</th>\n",
       "      <td>NaN</td>\n",
       "      <td>NaN</td>\n",
       "      <td>17 010800011846</td>\n",
       "      <td>NaN</td>\n",
       "      <td>05X</td>\n",
       "      <td>ABRAHAMS AUBREY F &amp; ANJOLI R</td>\n",
       "      <td>NaN</td>\n",
       "      <td>NaN</td>\n",
       "      <td>NaN</td>\n",
       "      <td>NaN</td>\n",
       "      <td>...</td>\n",
       "      <td>78040.0</td>\n",
       "      <td>195100.0</td>\n",
       "      <td>R3</td>\n",
       "      <td>0.0187</td>\n",
       "      <td>NaN</td>\n",
       "      <td>R</td>\n",
       "      <td>NaN</td>\n",
       "      <td>NaN</td>\n",
       "      <td>17 010800011846</td>\n",
       "      <td>NaN</td>\n",
       "    </tr>\n",
       "    <tr>\n",
       "      <th>7409421</th>\n",
       "      <td>NaN</td>\n",
       "      <td>NaN</td>\n",
       "      <td>17 010800011853</td>\n",
       "      <td>NaN</td>\n",
       "      <td>05X</td>\n",
       "      <td>SAXTON RUSS CYNTHIA</td>\n",
       "      <td>NaN</td>\n",
       "      <td>NaN</td>\n",
       "      <td>NaN</td>\n",
       "      <td>NaN</td>\n",
       "      <td>...</td>\n",
       "      <td>85800.0</td>\n",
       "      <td>214500.0</td>\n",
       "      <td>R3</td>\n",
       "      <td>0.0191</td>\n",
       "      <td>NaN</td>\n",
       "      <td>R</td>\n",
       "      <td>NaN</td>\n",
       "      <td>NaN</td>\n",
       "      <td>17 010800011853</td>\n",
       "      <td>NaN</td>\n",
       "    </tr>\n",
       "  </tbody>\n",
       "</table>\n",
       "<p>4838352 rows × 53 columns</p>\n",
       "</div>"
      ],
      "text/plain": [
       "                        SITUS          TAXPIN         ParcelID  \\\n",
       "OBJECTID                                                         \n",
       "1           665 FALLS LAKE DR  11 01910100086  11 019101000864   \n",
       "2              809 PISTACE CT  11 00700014087  11 007000140873   \n",
       "3         2021 WESTBOURNE WAY  11 02000071116  11 020000711163   \n",
       "4          10083 TRUMPET PARK  11 00700033109  11 007000331092   \n",
       "5           10914 ESTATES CIR  11 01600080191  11 016000801913   \n",
       "...                       ...             ...              ...   \n",
       "7409417                   NaN             NaN  17 010800011812   \n",
       "7409418                   NaN             NaN  17 010800011820   \n",
       "7409419                   NaN             NaN  17 010800011838   \n",
       "7409420                   NaN             NaN  17 010800011846   \n",
       "7409421                   NaN             NaN  17 010800011853   \n",
       "\n",
       "                       ATRPIN TaxDist                          Owner OWNER2  \\\n",
       "OBJECTID                                                                      \n",
       "1         11 -0191-0100-086-4      57               JOEL KENNETH H &          \n",
       "2         11 -0070-0014-087-3      57               MADISON PARK LLC          \n",
       "3         11 -0200-0071-116-3      57                    BALL HOWARD          \n",
       "4         11 -0070-0033-109-2      57               MADISON PARK LLC          \n",
       "5         11 -0160-0080-191-3      10                     TB SIX LLC          \n",
       "...                       ...     ...                            ...    ...   \n",
       "7409417                   NaN     05X              STEVERSON SUMMER     NaN   \n",
       "7409418                   NaN     05X              SHEHU SHEHU SULE     NaN   \n",
       "7409419                   NaN     05X                  PERRIE DAVID     NaN   \n",
       "7409420                   NaN     05X  ABRAHAMS AUBREY F & ANJOLI R     NaN   \n",
       "7409421                   NaN     05X           SAXTON RUSS CYNTHIA     NaN   \n",
       "\n",
       "                                   ADD2                 ADD3 ADD4  ...  \\\n",
       "OBJECTID                                                           ...   \n",
       "1                     665 FALLS LAKE DR  ALPHARETTA GA 30022       ...   \n",
       "2         1805 OLD ALABAMA RD SUITE 230     ROSWELL GA 30076       ...   \n",
       "3                   2021 WESTBOURNE WAY  ALPHARETTA GA 30022       ...   \n",
       "4         1805 OLD ALABAMA RD SUITE 230     ROSWELL GA 30076       ...   \n",
       "5                   1210 NORTHCLIFF TRC     ROSWELL GA 30072       ...   \n",
       "...                                 ...                  ...  ...  ...   \n",
       "7409417                             NaN                  NaN  NaN  ...   \n",
       "7409418                             NaN                  NaN  NaN  ...   \n",
       "7409419                             NaN                  NaN  NaN  ...   \n",
       "7409420                             NaN                  NaN  NaN  ...   \n",
       "7409421                             NaN                  NaN  NaN  ...   \n",
       "\n",
       "         ImprAssess  ImprAppr ClassCode LandAcres Subdiv  SubdivNum  \\\n",
       "OBJECTID                                                              \n",
       "1               NaN       NaN       NaN       NaN    NaN        NaN   \n",
       "2               NaN       NaN       NaN       NaN    NaN        NaN   \n",
       "3               NaN       NaN       NaN       NaN    NaN        NaN   \n",
       "4               NaN       NaN       NaN       NaN    NaN        NaN   \n",
       "5               NaN       NaN       NaN       NaN    NaN        NaN   \n",
       "...             ...       ...       ...       ...    ...        ...   \n",
       "7409417     85680.0  214200.0        R3    0.0191    NaN          R   \n",
       "7409418     76720.0  191800.0        R3    0.0158    NaN          R   \n",
       "7409419     78800.0  197000.0        R3    0.0166    NaN          R   \n",
       "7409420     78040.0  195100.0        R3    0.0187    NaN          R   \n",
       "7409421     85800.0  214500.0        R3    0.0191    NaN          R   \n",
       "\n",
       "          SubdivLot  SubdivBlck        FeatureID ExCode  \n",
       "OBJECTID                                                 \n",
       "1               NaN         NaN              NaN    NaN  \n",
       "2               NaN         NaN              NaN    NaN  \n",
       "3               NaN         NaN              NaN    NaN  \n",
       "4               NaN         NaN              NaN    NaN  \n",
       "5               NaN         NaN              NaN    NaN  \n",
       "...             ...         ...              ...    ...  \n",
       "7409417         NaN         NaN  17 010800011812    NaN  \n",
       "7409418         NaN         NaN  17 010800011820    NaN  \n",
       "7409419         NaN         NaN  17 010800011838    NaN  \n",
       "7409420         NaN         NaN  17 010800011846    NaN  \n",
       "7409421         NaN         NaN  17 010800011853    NaN  \n",
       "\n",
       "[4838352 rows x 53 columns]"
      ]
     },
     "execution_count": 151,
     "metadata": {},
     "output_type": "execute_result"
    }
   ],
   "source": [
    "# DON'T RUN 4.8M rows, 53 columns, 2GB dataframe bricks 16 GB of ram for 3-4 min. Oof.wav\n",
    "# not really useful anyway\n",
    "# all_property_data[~all_property_data.isna()]"
   ]
  },
  {
   "cell_type": "code",
   "execution_count": 149,
   "id": "197ed2ed-cbed-4bb5-8048-38172c2ef39c",
   "metadata": {
    "collapsed": true,
    "jupyter": {
     "outputs_hidden": true
    },
    "tags": []
   },
   "outputs": [
    {
     "name": "stdout",
     "output_type": "stream",
     "text": [
      "<class 'pandas.core.frame.DataFrame'>\n",
      "Int64Index: 4838352 entries, 1 to 7409421\n",
      "Data columns (total 53 columns):\n",
      " #   Column         Dtype  \n",
      "---  ------         -----  \n",
      " 0   SITUS          object \n",
      " 1   TAXPIN         object \n",
      " 2   ParcelID       object \n",
      " 3   ATRPIN         object \n",
      " 4   TaxDist        object \n",
      " 5   Owner          object \n",
      " 6   OWNER2         object \n",
      " 7   ADD2           object \n",
      " 8   ADD3           object \n",
      " 9   ADD4           object \n",
      " 10  ADD5           object \n",
      " 11  LUCode         object \n",
      " 12  NbrHood        object \n",
      " 13  PropClass      object \n",
      " 14  CLASS          object \n",
      " 15  TotAppr        float64\n",
      " 16  TotAssess      float64\n",
      " 17  IMPR_APPR      float64\n",
      " 18  LandAppr       float64\n",
      " 19  FUL_EX_COD     object \n",
      " 20  StructFlr      float64\n",
      " 21  StructYr       float64\n",
      " 22  TIEBACK        object \n",
      " 23  TaxYear        float64\n",
      " 24  STATUS_COD     object \n",
      " 25  LivUnits       float64\n",
      " 26  PCODE          object \n",
      " 27  UNIT_NUM       float64\n",
      " 28  EXTVER         float64\n",
      " 29  Shape__Area    float64\n",
      " 30  Shape__Length  float64\n",
      " 31  GID            float64\n",
      " 32  Address        object \n",
      " 33  AddrNumber     float64\n",
      " 34  AddrPreDir     object \n",
      " 35  AddrStreet     object \n",
      " 36  AddrSuffix     object \n",
      " 37  AddrPosDir     object \n",
      " 38  AddrUntTyp     object \n",
      " 39  AddrUnit       object \n",
      " 40  OwnerAddr1     object \n",
      " 41  OwnerAddr2     object \n",
      " 42  LandAssess     float64\n",
      " 43  ImprAssess     float64\n",
      " 44  ImprAppr       float64\n",
      " 45  ClassCode      object \n",
      " 46  LandAcres      float64\n",
      " 47  Subdiv         object \n",
      " 48  SubdivNum      object \n",
      " 49  SubdivLot      object \n",
      " 50  SubdivBlck     object \n",
      " 51  FeatureID      object \n",
      " 52  ExCode         object \n",
      "dtypes: float64(18), object(35)\n",
      "memory usage: 1.9+ GB\n"
     ]
    }
   ],
   "source": [
    "all_property_data.info()"
   ]
  },
  {
   "cell_type": "code",
   "execution_count": 171,
   "id": "67b54ff0-b5bf-4138-935d-6a96a69ef902",
   "metadata": {},
   "outputs": [],
   "source": [
    "# pulls out just columns with useful amounts of or potentially interesting data\n",
    "useful_df = all_property_data[['TaxYear', 'Owner', 'ParcelID', 'Address', 'AddrStreet','TaxDist', 'LUCode', 'NbrHood',\n",
    "                                'TotAppr', 'TotAssess', 'LandAppr', 'LandAssess', 'LivUnits', 'LandAcres']] "
   ]
  },
  {
   "cell_type": "code",
   "execution_count": 204,
   "id": "71cd42ae-ad65-4761-9e4a-e3c3ba4a892d",
   "metadata": {
    "tags": []
   },
   "outputs": [],
   "source": [
    "# fixes data types to pare down memory usage\n",
    "useful_df = useful_df.astype({'TaxYear' : 'int16', 'TotAppr' : 'int32', 'TotAssess' : 'int32', 'LandAppr' : 'int32'}) "
   ]
  },
  {
   "cell_type": "code",
   "execution_count": 205,
   "id": "604e780e-e4e7-4ac4-b339-6626da5c4e76",
   "metadata": {
    "tags": []
   },
   "outputs": [
    {
     "name": "stdout",
     "output_type": "stream",
     "text": [
      "<class 'pandas.core.frame.DataFrame'>\n",
      "Int64Index: 4838352 entries, 1 to 7409421\n",
      "Data columns (total 14 columns):\n",
      " #   Column      Dtype  \n",
      "---  ------      -----  \n",
      " 0   TaxYear     int16  \n",
      " 1   Owner       object \n",
      " 2   ParcelID    object \n",
      " 3   Address     object \n",
      " 4   AddrStreet  object \n",
      " 5   TaxDist     object \n",
      " 6   LUCode      object \n",
      " 7   NbrHood     object \n",
      " 8   TotAppr     int32  \n",
      " 9   TotAssess   int32  \n",
      " 10  LandAppr    int32  \n",
      " 11  LandAssess  float64\n",
      " 12  LivUnits    float64\n",
      " 13  LandAcres   float64\n",
      "dtypes: float64(3), int16(1), int32(3), object(7)\n",
      "memory usage: 502.9+ MB\n"
     ]
    }
   ],
   "source": [
    "useful_df.info()"
   ]
  },
  {
   "cell_type": "code",
   "execution_count": 207,
   "id": "c9b170fc-8778-477d-902a-8008180ed07b",
   "metadata": {},
   "outputs": [
    {
     "name": "stdout",
     "output_type": "stream",
     "text": [
      "<class 'pandas.core.frame.DataFrame'>\n",
      "Int64Index: 2068625 entries, 10 to 7409421\n",
      "Data columns (total 14 columns):\n",
      " #   Column      Dtype  \n",
      "---  ------      -----  \n",
      " 0   TaxYear     int16  \n",
      " 1   Owner       object \n",
      " 2   ParcelID    object \n",
      " 3   Address     object \n",
      " 4   AddrStreet  object \n",
      " 5   TaxDist     object \n",
      " 6   LUCode      object \n",
      " 7   NbrHood     object \n",
      " 8   TotAppr     int32  \n",
      " 9   TotAssess   int32  \n",
      " 10  LandAppr    int32  \n",
      " 11  LandAssess  float64\n",
      " 12  LivUnits    float64\n",
      " 13  LandAcres   float64\n",
      "dtypes: float64(3), int16(1), int32(3), object(7)\n",
      "memory usage: 201.2+ MB\n"
     ]
    }
   ],
   "source": [
    "# Selects just data that has Atlanta tax IDs\n",
    "atlanta_df = useful_df[useful_df['TaxDist'].isin(atlanta_tax_IDs)]\n",
    "atlanta_df.info()"
   ]
  },
  {
   "cell_type": "code",
   "execution_count": 208,
   "id": "d8adcd13-98b8-45dd-b530-1cc34ec28927",
   "metadata": {},
   "outputs": [],
   "source": [
    "atlanta_df.to_csv('CleanedAtlantaPropertyData_2009-2022.csv', sep=',')"
   ]
  },
  {
   "cell_type": "markdown",
   "id": "47260a24-3bea-4e3f-b970-f2a5b5f5bedf",
   "metadata": {},
   "source": [
    "## Exploring the Data  \n",
    "This section is a bit haphazard. These cells were just things I ran to explore the data. Once I got a feel for how things were organized and found the years in which their style was changed I was able to actually clean the data. Which is reflected in the cells above."
   ]
  },
  {
   "cell_type": "code",
   "execution_count": 23,
   "id": "08cd9fd1-c6e3-4dab-9d90-417aa2476a3f",
   "metadata": {
    "tags": []
   },
   "outputs": [],
   "source": [
    "# Parcels_12.columns"
   ]
  },
  {
   "cell_type": "code",
   "execution_count": 24,
   "id": "179fcf21-c16e-4fa2-89af-d2d8ba15e5a6",
   "metadata": {
    "tags": []
   },
   "outputs": [],
   "source": [
    "# Parcels_13.columns"
   ]
  },
  {
   "cell_type": "code",
   "execution_count": 25,
   "id": "0417728d-1af5-472e-b968-9e0189d4dbab",
   "metadata": {
    "tags": []
   },
   "outputs": [],
   "source": [
    "# Parcels_14.columns"
   ]
  },
  {
   "cell_type": "code",
   "execution_count": 26,
   "id": "681e6fa8-8234-4733-beb1-d1e7a25b1285",
   "metadata": {
    "tags": []
   },
   "outputs": [],
   "source": [
    "# Parcels_15.columns"
   ]
  },
  {
   "cell_type": "code",
   "execution_count": 29,
   "id": "e735ea46-7f99-4f6a-af52-fe0a8721d654",
   "metadata": {},
   "outputs": [],
   "source": [
    "# Parcels_10.columns"
   ]
  },
  {
   "cell_type": "code",
   "execution_count": 201,
   "id": "f6ee8b42-eaa5-47a0-8d2a-02380754a165",
   "metadata": {},
   "outputs": [
    {
     "data": {
      "text/html": [
       "<div>\n",
       "<style scoped>\n",
       "    .dataframe tbody tr th:only-of-type {\n",
       "        vertical-align: middle;\n",
       "    }\n",
       "\n",
       "    .dataframe tbody tr th {\n",
       "        vertical-align: top;\n",
       "    }\n",
       "\n",
       "    .dataframe thead th {\n",
       "        text-align: right;\n",
       "    }\n",
       "</style>\n",
       "<table border=\"1\" class=\"dataframe\">\n",
       "  <thead>\n",
       "    <tr style=\"text-align: right;\">\n",
       "      <th></th>\n",
       "      <th>TaxYear</th>\n",
       "      <th>Owner</th>\n",
       "      <th>ParcelID</th>\n",
       "      <th>Address</th>\n",
       "      <th>AddrStreet</th>\n",
       "      <th>TaxDist</th>\n",
       "      <th>LUCode</th>\n",
       "      <th>NbrHood</th>\n",
       "      <th>TotAppr</th>\n",
       "      <th>TotAssess</th>\n",
       "      <th>LandAppr</th>\n",
       "      <th>LandAssess</th>\n",
       "      <th>LivUnits</th>\n",
       "      <th>LandAcres</th>\n",
       "    </tr>\n",
       "    <tr>\n",
       "      <th>OBJECTID</th>\n",
       "      <th></th>\n",
       "      <th></th>\n",
       "      <th></th>\n",
       "      <th></th>\n",
       "      <th></th>\n",
       "      <th></th>\n",
       "      <th></th>\n",
       "      <th></th>\n",
       "      <th></th>\n",
       "      <th></th>\n",
       "      <th></th>\n",
       "      <th></th>\n",
       "      <th></th>\n",
       "      <th></th>\n",
       "    </tr>\n",
       "  </thead>\n",
       "  <tbody>\n",
       "    <tr>\n",
       "      <th>296406</th>\n",
       "      <td>2013</td>\n",
       "      <td>ANTIOCH BAPTIST CHURCH OF ATL</td>\n",
       "      <td>14 004100080632</td>\n",
       "      <td>0 MC DONOUGH BLVD SE</td>\n",
       "      <td>MC DONOUGH</td>\n",
       "      <td>05T</td>\n",
       "      <td>601</td>\n",
       "      <td>14281</td>\n",
       "      <td>1.261313e+09</td>\n",
       "      <td>0.0</td>\n",
       "      <td>1.261313e+09</td>\n",
       "      <td>504525280.0</td>\n",
       "      <td>0.0</td>\n",
       "      <td>1.13999</td>\n",
       "    </tr>\n",
       "    <tr>\n",
       "      <th>320506</th>\n",
       "      <td>2013</td>\n",
       "      <td>ANTIOCH BAPTIST CHURCH OF ATL</td>\n",
       "      <td>14 004100080632</td>\n",
       "      <td>0 MC DONOUGH BLVD SE</td>\n",
       "      <td>MC DONOUGH</td>\n",
       "      <td>05T</td>\n",
       "      <td>601</td>\n",
       "      <td>14281</td>\n",
       "      <td>1.261313e+09</td>\n",
       "      <td>0.0</td>\n",
       "      <td>1.261313e+09</td>\n",
       "      <td>504525280.0</td>\n",
       "      <td>0.0</td>\n",
       "      <td>1.13999</td>\n",
       "    </tr>\n",
       "    <tr>\n",
       "      <th>103810</th>\n",
       "      <td>2014</td>\n",
       "      <td>ANTIOCH BAPTIST CHURCH OF ATL</td>\n",
       "      <td>14 004100080632</td>\n",
       "      <td>0 MC DONOUGH BLVD SE</td>\n",
       "      <td>MC DONOUGH</td>\n",
       "      <td>05T</td>\n",
       "      <td>601</td>\n",
       "      <td>14281</td>\n",
       "      <td>1.261313e+09</td>\n",
       "      <td>0.0</td>\n",
       "      <td>1.261313e+09</td>\n",
       "      <td>504525280.0</td>\n",
       "      <td>0.0</td>\n",
       "      <td>1.13999</td>\n",
       "    </tr>\n",
       "    <tr>\n",
       "      <th>317882</th>\n",
       "      <td>2014</td>\n",
       "      <td>ANTIOCH BAPTIST CHURCH OF ATL</td>\n",
       "      <td>14 004100080632</td>\n",
       "      <td>0 MC DONOUGH BLVD SE</td>\n",
       "      <td>MC DONOUGH</td>\n",
       "      <td>05T</td>\n",
       "      <td>601</td>\n",
       "      <td>14281</td>\n",
       "      <td>1.261313e+09</td>\n",
       "      <td>0.0</td>\n",
       "      <td>1.261313e+09</td>\n",
       "      <td>504525280.0</td>\n",
       "      <td>0.0</td>\n",
       "      <td>1.13999</td>\n",
       "    </tr>\n",
       "  </tbody>\n",
       "</table>\n",
       "</div>"
      ],
      "text/plain": [
       "          TaxYear                           Owner         ParcelID  \\\n",
       "OBJECTID                                                             \n",
       "296406       2013  ANTIOCH BAPTIST CHURCH OF ATL   14 004100080632   \n",
       "320506       2013  ANTIOCH BAPTIST CHURCH OF ATL   14 004100080632   \n",
       "103810       2014  ANTIOCH BAPTIST CHURCH OF ATL   14 004100080632   \n",
       "317882       2014  ANTIOCH BAPTIST CHURCH OF ATL   14 004100080632   \n",
       "\n",
       "                       Address  AddrStreet TaxDist LUCode NbrHood  \\\n",
       "OBJECTID                                                            \n",
       "296406    0 MC DONOUGH BLVD SE  MC DONOUGH     05T    601   14281   \n",
       "320506    0 MC DONOUGH BLVD SE  MC DONOUGH     05T    601   14281   \n",
       "103810    0 MC DONOUGH BLVD SE  MC DONOUGH     05T    601   14281   \n",
       "317882    0 MC DONOUGH BLVD SE  MC DONOUGH     05T    601   14281   \n",
       "\n",
       "               TotAppr  TotAssess      LandAppr   LandAssess  LivUnits  \\\n",
       "OBJECTID                                                                 \n",
       "296406    1.261313e+09        0.0  1.261313e+09  504525280.0       0.0   \n",
       "320506    1.261313e+09        0.0  1.261313e+09  504525280.0       0.0   \n",
       "103810    1.261313e+09        0.0  1.261313e+09  504525280.0       0.0   \n",
       "317882    1.261313e+09        0.0  1.261313e+09  504525280.0       0.0   \n",
       "\n",
       "          LandAcres  \n",
       "OBJECTID             \n",
       "296406      1.13999  \n",
       "320506      1.13999  \n",
       "103810      1.13999  \n",
       "317882      1.13999  "
      ]
     },
     "execution_count": 201,
     "metadata": {},
     "output_type": "execute_result"
    }
   ],
   "source": [
    "useful_df[useful_df['TotAppr'] == useful_df['TotAppr'].max()]\n",
    "# 1.3 billion dollar cemetary. Lol, wut?"
   ]
  },
  {
   "cell_type": "code",
   "execution_count": 35,
   "id": "fec695f6-e36d-468c-b91a-5600d227c402",
   "metadata": {
    "collapsed": true,
    "jupyter": {
     "outputs_hidden": true
    },
    "tags": []
   },
   "outputs": [
    {
     "data": {
      "text/plain": [
       "ParcelID              0\n",
       "TaxYear               0\n",
       "Address               0\n",
       "AddrNumber           62\n",
       "AddrPreDir       342775\n",
       "AddrStreet            3\n",
       "AddrSuffix        22171\n",
       "AddrPosDir       207883\n",
       "AddrUntTyp       317827\n",
       "AddrUnit         295379\n",
       "Owner                96\n",
       "OwnerAddr1          123\n",
       "OwnerAddr2         1568\n",
       "TaxDist               0\n",
       "TotAssess             5\n",
       "LandAssess           13\n",
       "ImprAssess           13\n",
       "TotAppr               5\n",
       "LandAppr              5\n",
       "ImprAppr             13\n",
       "LUCode                5\n",
       "ClassCode             0\n",
       "LivUnits           6251\n",
       "LandAcres          3541\n",
       "NbrHood               0\n",
       "Subdiv           341068\n",
       "SubdivNum        292703\n",
       "SubdivLot        318682\n",
       "SubdivBlck       338803\n",
       "Shape__Area           2\n",
       "Shape__Length         2\n",
       "dtype: int64"
      ]
     },
     "execution_count": 35,
     "metadata": {},
     "output_type": "execute_result"
    }
   ],
   "source": [
    "Parcels_11.isna().sum()"
   ]
  },
  {
   "cell_type": "code",
   "execution_count": 23,
   "id": "075714e4-12c4-4b3a-8fef-79d6f155ef08",
   "metadata": {
    "collapsed": true,
    "jupyter": {
     "outputs_hidden": true
    },
    "tags": []
   },
   "outputs": [
    {
     "data": {
      "text/plain": [
       "AddrPreDir    342775\n",
       "AddrPosDir    207883\n",
       "AddrUntTyp    317827\n",
       "AddrUnit      295379\n",
       "Subdiv        341068\n",
       "SubdivNum     292703\n",
       "SubdivLot     318682\n",
       "SubdivBlck    338803\n",
       "dtype: int64"
      ]
     },
     "execution_count": 23,
     "metadata": {},
     "output_type": "execute_result"
    }
   ],
   "source": [
    "# find columns with no data or 'na'. Creates pd.series with number of NaN values per df['column']\n",
    "parcel_na = Parcels_11.isna().sum()\n",
    "parcel_na[parcel_na > 50_000]"
   ]
  },
  {
   "cell_type": "code",
   "execution_count": 73,
   "id": "6d58a48e-12ef-44bd-85e1-b4d1c64ac7ca",
   "metadata": {},
   "outputs": [
    {
     "data": {
      "text/plain": [
       "Index(['AddrPreDir', 'AddrPosDir', 'AddrUntTyp', 'AddrUnit', 'Subdiv',\n",
       "       'SubdivNum', 'SubdivLot', 'SubdivBlck'],\n",
       "      dtype='object')"
      ]
     },
     "execution_count": 73,
     "metadata": {},
     "output_type": "execute_result"
    }
   ],
   "source": [
    "parcel_na[parcel_na > 50_000].keys()"
   ]
  },
  {
   "cell_type": "code",
   "execution_count": 71,
   "id": "27498517-b1d2-4621-88c9-1977f6339b16",
   "metadata": {
    "collapsed": true,
    "jupyter": {
     "outputs_hidden": true
    },
    "tags": []
   },
   "outputs": [
    {
     "data": {
      "text/plain": [
       "ParcelID              0\n",
       "TaxYear               0\n",
       "Address               0\n",
       "AddrNumber           62\n",
       "AddrPreDir       342775\n",
       "AddrStreet            3\n",
       "AddrSuffix        22171\n",
       "AddrPosDir       207883\n",
       "AddrUntTyp       317827\n",
       "AddrUnit         295379\n",
       "Owner                96\n",
       "OwnerAddr1          123\n",
       "OwnerAddr2         1568\n",
       "TaxDist               0\n",
       "TotAssess             5\n",
       "LandAssess           13\n",
       "ImprAssess           13\n",
       "TotAppr               5\n",
       "LandAppr              5\n",
       "ImprAppr             13\n",
       "LUCode                5\n",
       "ClassCode             0\n",
       "LivUnits           6251\n",
       "LandAcres          3541\n",
       "NbrHood               0\n",
       "Subdiv           341068\n",
       "SubdivNum        292703\n",
       "SubdivLot        318682\n",
       "SubdivBlck       338803\n",
       "Shape__Area           2\n",
       "Shape__Length         2\n",
       "dtype: int64"
      ]
     },
     "execution_count": 71,
     "metadata": {},
     "output_type": "execute_result"
    }
   ],
   "source": [
    "parcel_na"
   ]
  },
  {
   "cell_type": "code",
   "execution_count": 47,
   "id": "6cad3f60-8779-4f60-bbee-f2be8f44573f",
   "metadata": {},
   "outputs": [
    {
     "data": {
      "text/plain": [
       "Index(['AddrPreDir', 'AddrPosDir', 'AddrUntTyp', 'AddrUnit', 'Subdiv',\n",
       "       'SubdivNum', 'SubdivLot', 'SubdivBlck'],\n",
       "      dtype='object')"
      ]
     },
     "execution_count": 47,
     "metadata": {},
     "output_type": "execute_result"
    }
   ],
   "source": [
    "# searches all columns and returns those with more than 50,000 NaN values\n",
    "Parcels_11.loc[:, Parcels_11.isna().sum() > 50_000].columns"
   ]
  },
  {
   "cell_type": "code",
   "execution_count": 53,
   "id": "f1f699cf-af6d-4465-8638-b6c056ae8f78",
   "metadata": {},
   "outputs": [
    {
     "data": {
      "text/plain": [
       "Index(['AddrPreDir', 'AddrSuffix', 'AddrPosDir', 'AddrUntTyp', 'AddrUnit',\n",
       "       'Subdiv', 'SubdivNum', 'SubdivLot', 'SubdivBlck'],\n",
       "      dtype='object')"
      ]
     },
     "execution_count": 53,
     "metadata": {},
     "output_type": "execute_result"
    }
   ],
   "source": [
    "Parcels_11.loc[:,Parcels_11.isna().sum() > 10_000].keys()"
   ]
  },
  {
   "cell_type": "code",
   "execution_count": 67,
   "id": "d2a8f0fc-04b2-4eab-a37b-da4cddaefd57",
   "metadata": {
    "collapsed": true,
    "jupyter": {
     "outputs_hidden": true
    },
    "tags": []
   },
   "outputs": [
    {
     "data": {
      "text/html": [
       "<div>\n",
       "<style scoped>\n",
       "    .dataframe tbody tr th:only-of-type {\n",
       "        vertical-align: middle;\n",
       "    }\n",
       "\n",
       "    .dataframe tbody tr th {\n",
       "        vertical-align: top;\n",
       "    }\n",
       "\n",
       "    .dataframe thead th {\n",
       "        text-align: right;\n",
       "    }\n",
       "</style>\n",
       "<table border=\"1\" class=\"dataframe\">\n",
       "  <thead>\n",
       "    <tr style=\"text-align: right;\">\n",
       "      <th></th>\n",
       "      <th>AddrPreDir</th>\n",
       "      <th>AddrPosDir</th>\n",
       "      <th>AddrUntTyp</th>\n",
       "      <th>AddrUnit</th>\n",
       "      <th>Subdiv</th>\n",
       "      <th>SubdivNum</th>\n",
       "      <th>SubdivLot</th>\n",
       "      <th>SubdivBlck</th>\n",
       "    </tr>\n",
       "    <tr>\n",
       "      <th>OBJECTID</th>\n",
       "      <th></th>\n",
       "      <th></th>\n",
       "      <th></th>\n",
       "      <th></th>\n",
       "      <th></th>\n",
       "      <th></th>\n",
       "      <th></th>\n",
       "      <th></th>\n",
       "    </tr>\n",
       "  </thead>\n",
       "  <tbody>\n",
       "    <tr>\n",
       "      <th>1</th>\n",
       "      <td>NaN</td>\n",
       "      <td>NaN</td>\n",
       "      <td>NaN</td>\n",
       "      <td>NaN</td>\n",
       "      <td>NaN</td>\n",
       "      <td>NaN</td>\n",
       "      <td>NaN</td>\n",
       "      <td>NaN</td>\n",
       "    </tr>\n",
       "    <tr>\n",
       "      <th>2</th>\n",
       "      <td>NaN</td>\n",
       "      <td>NaN</td>\n",
       "      <td>NaN</td>\n",
       "      <td>NaN</td>\n",
       "      <td>NaN</td>\n",
       "      <td>NaN</td>\n",
       "      <td>NaN</td>\n",
       "      <td>NaN</td>\n",
       "    </tr>\n",
       "    <tr>\n",
       "      <th>3</th>\n",
       "      <td>NaN</td>\n",
       "      <td>NaN</td>\n",
       "      <td>NaN</td>\n",
       "      <td>NaN</td>\n",
       "      <td>NaN</td>\n",
       "      <td>NaN</td>\n",
       "      <td>NaN</td>\n",
       "      <td>NaN</td>\n",
       "    </tr>\n",
       "    <tr>\n",
       "      <th>4</th>\n",
       "      <td>NaN</td>\n",
       "      <td>NaN</td>\n",
       "      <td>NaN</td>\n",
       "      <td>NaN</td>\n",
       "      <td>NaN</td>\n",
       "      <td>24400</td>\n",
       "      <td>1</td>\n",
       "      <td>NaN</td>\n",
       "    </tr>\n",
       "    <tr>\n",
       "      <th>5</th>\n",
       "      <td>NaN</td>\n",
       "      <td>NaN</td>\n",
       "      <td>NaN</td>\n",
       "      <td>NaN</td>\n",
       "      <td>NaN</td>\n",
       "      <td>24400</td>\n",
       "      <td>1</td>\n",
       "      <td>NaN</td>\n",
       "    </tr>\n",
       "    <tr>\n",
       "      <th>...</th>\n",
       "      <td>...</td>\n",
       "      <td>...</td>\n",
       "      <td>...</td>\n",
       "      <td>...</td>\n",
       "      <td>...</td>\n",
       "      <td>...</td>\n",
       "      <td>...</td>\n",
       "      <td>...</td>\n",
       "    </tr>\n",
       "    <tr>\n",
       "      <th>343085</th>\n",
       "      <td>NaN</td>\n",
       "      <td>NaN</td>\n",
       "      <td>NaN</td>\n",
       "      <td>NaN</td>\n",
       "      <td>NaN</td>\n",
       "      <td>24209</td>\n",
       "      <td>130</td>\n",
       "      <td>NaN</td>\n",
       "    </tr>\n",
       "    <tr>\n",
       "      <th>343086</th>\n",
       "      <td>NaN</td>\n",
       "      <td>NaN</td>\n",
       "      <td>NaN</td>\n",
       "      <td>NaN</td>\n",
       "      <td>NaN</td>\n",
       "      <td>NaN</td>\n",
       "      <td>NaN</td>\n",
       "      <td>NaN</td>\n",
       "    </tr>\n",
       "    <tr>\n",
       "      <th>343087</th>\n",
       "      <td>NaN</td>\n",
       "      <td>NaN</td>\n",
       "      <td>NaN</td>\n",
       "      <td>NaN</td>\n",
       "      <td>NaN</td>\n",
       "      <td>NaN</td>\n",
       "      <td>NaN</td>\n",
       "      <td>NaN</td>\n",
       "    </tr>\n",
       "    <tr>\n",
       "      <th>343088</th>\n",
       "      <td>NaN</td>\n",
       "      <td>NaN</td>\n",
       "      <td>NaN</td>\n",
       "      <td>NaN</td>\n",
       "      <td>NaN</td>\n",
       "      <td>T</td>\n",
       "      <td>NaN</td>\n",
       "      <td>NaN</td>\n",
       "    </tr>\n",
       "    <tr>\n",
       "      <th>343089</th>\n",
       "      <td>NaN</td>\n",
       "      <td>NaN</td>\n",
       "      <td>NaN</td>\n",
       "      <td>NaN</td>\n",
       "      <td>NaN</td>\n",
       "      <td>T</td>\n",
       "      <td>NaN</td>\n",
       "      <td>NaN</td>\n",
       "    </tr>\n",
       "  </tbody>\n",
       "</table>\n",
       "<p>342983 rows × 8 columns</p>\n",
       "</div>"
      ],
      "text/plain": [
       "         AddrPreDir AddrPosDir AddrUntTyp AddrUnit Subdiv SubdivNum SubdivLot  \\\n",
       "OBJECTID                                                                        \n",
       "1               NaN        NaN        NaN      NaN    NaN       NaN       NaN   \n",
       "2               NaN        NaN        NaN      NaN    NaN       NaN       NaN   \n",
       "3               NaN        NaN        NaN      NaN    NaN       NaN       NaN   \n",
       "4               NaN        NaN        NaN      NaN    NaN     24400         1   \n",
       "5               NaN        NaN        NaN      NaN    NaN     24400         1   \n",
       "...             ...        ...        ...      ...    ...       ...       ...   \n",
       "343085          NaN        NaN        NaN      NaN    NaN     24209       130   \n",
       "343086          NaN        NaN        NaN      NaN    NaN       NaN       NaN   \n",
       "343087          NaN        NaN        NaN      NaN    NaN       NaN       NaN   \n",
       "343088          NaN        NaN        NaN      NaN    NaN         T       NaN   \n",
       "343089          NaN        NaN        NaN      NaN    NaN         T       NaN   \n",
       "\n",
       "         SubdivBlck  \n",
       "OBJECTID             \n",
       "1               NaN  \n",
       "2               NaN  \n",
       "3               NaN  \n",
       "4               NaN  \n",
       "5               NaN  \n",
       "...             ...  \n",
       "343085          NaN  \n",
       "343086          NaN  \n",
       "343087          NaN  \n",
       "343088          NaN  \n",
       "343089          NaN  \n",
       "\n",
       "[342983 rows x 8 columns]"
      ]
     },
     "execution_count": 67,
     "metadata": {},
     "output_type": "execute_result"
    }
   ],
   "source": [
    "# 25k seems to be useful here. Below this and I lose AddrSuffix, which I would like to keep despite the NaNs\n",
    "Parcels_11.loc[:, Parcels_11.isna().sum() > 25_000]"
   ]
  },
  {
   "cell_type": "code",
   "execution_count": 26,
   "id": "d8650871-d668-491a-86bc-612e1cd43f0d",
   "metadata": {
    "collapsed": true,
    "jupyter": {
     "outputs_hidden": true
    },
    "tags": []
   },
   "outputs": [
    {
     "data": {
      "text/plain": [
       "OBJECTID\n",
       "1650      999\n",
       "2562      242\n",
       "7471      269\n",
       "11034     280\n",
       "11131     101\n",
       "         ... \n",
       "343087    200\n",
       "343088    200\n",
       "343089    200\n",
       "343090    200\n",
       "343091    200\n",
       "Name: LivUnits, Length: 603, dtype: int64"
      ]
     },
     "execution_count": 26,
     "metadata": {},
     "output_type": "execute_result"
    }
   ],
   "source": [
    "# are these Apts or is this nonsense?\n",
    "Parcels_09.LivUnits[Parcels_09['LivUnits'] > 100]"
   ]
  },
  {
   "cell_type": "code",
   "execution_count": 50,
   "id": "409c871c-c5eb-4b48-ba64-e89469b24960",
   "metadata": {
    "collapsed": true,
    "jupyter": {
     "outputs_hidden": true
    },
    "tags": []
   },
   "outputs": [
    {
     "data": {
      "text/plain": [
       "\"\\natlanta_10DF = Parcels_10[Parcels_10['TaxDist'].isin(atlanta_tax_IDs) == True]\\natlanta_11DF = Parcels_11[Parcels_11['TaxDist'].isin(atlanta_tax_IDs) == True]\\natlanta_12DF = Parcels_12[Parcels_12['TaxDist'].isin(atlanta_tax_IDs) == True]\\natlanta_13DF = Parcels_13[Parcels_13['TaxDist'].isin(atlanta_tax_IDs) == True]\\natlanta_14DF = Parcels_14[Parcels_14['TaxDist'].isin(atlanta_tax_IDs) == True]\\natlanta_15DF = Parcels_15[Parcels_15['TaxDist'].isin(atlanta_tax_IDs) == True]\\n\""
      ]
     },
     "execution_count": 50,
     "metadata": {},
     "output_type": "execute_result"
    }
   ],
   "source": [
    "# view of parcels that have an Atlanta Tax ID\n",
    "''' Still not sure if I want to keep these separate or concat before I analyze. I think I want to concat but then I have to\n",
    "    do more logic to fine annual data. Here it's already split. I suppose I could just create views onto each year from the \n",
    "    main df... hmm.\n",
    "'''\n",
    "# replaced cell with city_select function\n",
    "# replaced again by using on large dataframe\n",
    "atlanta_09DF = Parcels_09[Parcels_09['TaxDist'].isin(atlanta_tax_IDs)]\n",
    "'''\n",
    "atlanta_10DF = Parcels_10[Parcels_10['TaxDist'].isin(atlanta_tax_IDs)]\n",
    "atlanta_11DF = Parcels_11[Parcels_11['TaxDist'].isin(atlanta_tax_IDs)]\n",
    "atlanta_12DF = Parcels_12[Parcels_12['TaxDist'].isin(atlanta_tax_IDs)]\n",
    "atlanta_13DF = Parcels_13[Parcels_13['TaxDist'].isin(atlanta_tax_IDs)]\n",
    "atlanta_14DF = Parcels_14[Parcels_14['TaxDist'].isin(atlanta_tax_IDs)]\n",
    "atlanta_15DF = Parcels_15[Parcels_15['TaxDist'].isin(atlanta_tax_IDs)]\n",
    "'''"
   ]
  }
 ],
 "metadata": {
  "kernelspec": {
   "display_name": "Python 3 (ipykernel)",
   "language": "python",
   "name": "python3"
  },
  "language_info": {
   "codemirror_mode": {
    "name": "ipython",
    "version": 3
   },
   "file_extension": ".py",
   "mimetype": "text/x-python",
   "name": "python",
   "nbconvert_exporter": "python",
   "pygments_lexer": "ipython3",
   "version": "3.8.2rc2"
  }
 },
 "nbformat": 4,
 "nbformat_minor": 5
}
