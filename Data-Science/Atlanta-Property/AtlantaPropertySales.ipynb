{
 "cells": [
  {
   "cell_type": "code",
   "execution_count": null,
   "id": "07537feb-f718-43ac-881f-52143f0f8f01",
   "metadata": {},
   "outputs": [],
   "source": [
    "import pandas as pd              # v1.4.3\n",
    "import numpy as np               # v1.20.1\n",
    "import matplotlib.pyplot as plt  # v3.5.2\n",
    "import folium                    # v0.12.1.post1"
   ]
  },
  {
   "cell_type": "code",
   "execution_count": null,
   "id": "5819f0b9-e449-44ec-8691-0704ac1e6408",
   "metadata": {
    "tags": []
   },
   "outputs": [],
   "source": [
    "# Only finds sales where the owner left atlanta the next tax year\n",
    "def parcel_sale(df_list):\n",
    "    ''' returns parcels sold in a given year'''\n",
    "    # feels like a kludgey way to select the next element\n",
    "    i = 0\n",
    "    leave_df = pd.DataFrame( {'ParcelID': [], 'TaxYear': []})\n",
    "    for owner in df_list:\n",
    "        n = i+1\n",
    "        if i == len(df_list)-1:\n",
    "            return sales_df\n",
    "        else:\n",
    "            sales = owner[owner['Owner'].isin(df_list[n]['Owner']) == False]\n",
    "            leave_df = pd.concat([leave_df, sales[['ParcelID', 'TaxYear', 'TaxDist', 'TotAssess',\n",
    "                                                   'TotAppr', 'LivUnits']]])\n",
    "            i += 1     "
   ]
  },
  {
   "cell_type": "code",
   "execution_count": null,
   "id": "57e826f2-d0d8-4758-8801-0da70d2e6484",
   "metadata": {},
   "outputs": [],
   "source": [
    "def year_sales(year_list, sales_df):\n",
    "    '''Takes a list of years and a dataframe of sales records and returns a dict of sales per year'''\n",
    "    sales_per_year = {}\n",
    "    for x in year_list:\n",
    "        sales_per_year[x] = len(sales_df[sales_df['TaxYear']==x])\n",
    "    return sales_per_year"
   ]
  },
  {
   "cell_type": "markdown",
   "id": "b25bf613-2ac7-4d26-988d-a79f8489feec",
   "metadata": {},
   "source": [
    "## Analysis\n",
    "- [ ] Bar Chart sales v time\n",
    "- [ ] Line graph property value\n",
    "- [ ] Changes in livable units\n",
    "- [ ] Local coverage of gentrification v tax records?  \n",
    "| ParcelID | Owner | TaxDist | Subdiv | TotAssess | TotAppr | LivUnits |  \n",
    "|----------|-------|---------|--------|-----------|---------|----------|  \n",
    "- [ ] Whisker plot of value by tax district  \n",
    "    - [ ] x value, y tax dist  \n",
    "    - [ ] color code data  \n",
    "        - Absolute value?  \n",
    "        - Change per year?  \n",
    "### Parcel Sales\n",
    "- [ ] Track parcel sales by year  \n",
    "        - ['PARID'] Record year of sale  \n",
    "        - Record if sale to LLC / INC / CO\n",
    "- [ ] Most sold parcel  \n",
    "- [ ] ['UNIT_NUM'] v sale frequency  \n",
    "- [ ] Single family unit sales by year  \n",
    "### Data changes\n",
    "- 2011 onward ['OWNER1'] --> ['Owner'] "
   ]
  },
  {
   "cell_type": "markdown",
   "id": "e93774f1-a79b-4b5a-a729-7d02101a6424",
   "metadata": {},
   "source": [
    "### parcel_sale algorithm\n",
    "- [ ] Iterate over each ['ParcelID']\n",
    "    - [ ] Check if ['Owner'] is the same  in each dataframe\n",
    "#### This doesn't work how I wanted it to\n",
    "- [x] Compare 2 data frames to see if the ['Owner'] stayed the same\n",
    "    - [x] create a dataframe of [['ParcelID', 'AssessDifference']] \n",
    "    - [x] pd.concat(join='outer') sales + original dataframe\n",
    "    - [x] move on to the next set of dataframes\n",
    "    - [x] return appended dataframes"
   ]
  },
  {
   "cell_type": "markdown",
   "id": "aa62a651-9c9c-4974-81b8-5cea59c4c8bf",
   "metadata": {},
   "source": [
    "### Sales Analysis\n",
    "- [x] Total number of parcels\n",
    "    - [x] Change in parcel count over time\n",
    "- [ ] Frequently sold parcels\n",
    "- [ ] Most active TaxDist\n",
    "- [ ] Highest TotAppr\n",
    "- [ ] Sales per year"
   ]
  },
  {
   "cell_type": "code",
   "execution_count": null,
   "id": "89877a6d-d5f6-44b6-be3b-441d2e3c3786",
   "metadata": {},
   "outputs": [],
   "source": []
  },
  {
   "cell_type": "code",
   "execution_count": null,
   "id": "351c11b8-f224-40c9-88d5-039ebacd9963",
   "metadata": {},
   "outputs": [],
   "source": []
  },
  {
   "cell_type": "code",
   "execution_count": null,
   "id": "6be80a22-fbdb-4367-a967-25cf5d755f3c",
   "metadata": {},
   "outputs": [],
   "source": []
  },
  {
   "cell_type": "code",
   "execution_count": null,
   "id": "7042aa35-e9f8-4985-9184-5fc8066b2781",
   "metadata": {},
   "outputs": [],
   "source": []
  },
  {
   "cell_type": "code",
   "execution_count": null,
   "id": "c0b69e21-2380-4112-b925-f828958f4b3d",
   "metadata": {},
   "outputs": [],
   "source": []
  }
 ],
 "metadata": {
  "kernelspec": {
   "display_name": "Python 3",
   "language": "python",
   "name": "python3"
  },
  "language_info": {
   "codemirror_mode": {
    "name": "ipython",
    "version": 3
   },
   "file_extension": ".py",
   "mimetype": "text/x-python",
   "name": "python",
   "nbconvert_exporter": "python",
   "pygments_lexer": "ipython3",
   "version": "3.9.1"
  }
 },
 "nbformat": 4,
 "nbformat_minor": 5
}
