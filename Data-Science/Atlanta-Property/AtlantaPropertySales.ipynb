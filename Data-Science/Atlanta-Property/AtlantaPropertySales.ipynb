{
 "cells": [
  {
   "cell_type": "code",
   "execution_count": 1,
   "id": "07537feb-f718-43ac-881f-52143f0f8f01",
   "metadata": {
    "tags": []
   },
   "outputs": [],
   "source": [
    "import pandas as pd              # v2.0.1\n",
    "import numpy as np               # v1.24.3\n",
    "#import matplotlib.pyplot as plt  # v3.7.1\n",
    "#import folium                    # v0.14.0\n",
    "# adding a comment to test git integration"
   ]
  },
  {
   "cell_type": "code",
   "execution_count": 2,
   "id": "0eb980bd-c813-49ef-be7c-eb6fa2062918",
   "metadata": {
    "tags": []
   },
   "outputs": [
    {
     "name": "stderr",
     "output_type": "stream",
     "text": [
      "C:\\Users\\Owner\\AppData\\Local\\Temp\\ipykernel_14836\\3640935704.py:2: DtypeWarning: Columns (5) have mixed types. Specify dtype option on import or set low_memory=False.\n",
      "  atlanta_df = pd.read_csv(r'CleanedAtlantaPropertyData_2009-2022.csv', sep=',', dtype=col_type)\n"
     ]
    },
    {
     "data": {
      "text/html": [
       "<div>\n",
       "<style scoped>\n",
       "    .dataframe tbody tr th:only-of-type {\n",
       "        vertical-align: middle;\n",
       "    }\n",
       "\n",
       "    .dataframe tbody tr th {\n",
       "        vertical-align: top;\n",
       "    }\n",
       "\n",
       "    .dataframe thead th {\n",
       "        text-align: right;\n",
       "    }\n",
       "</style>\n",
       "<table border=\"1\" class=\"dataframe\">\n",
       "  <thead>\n",
       "    <tr style=\"text-align: right;\">\n",
       "      <th></th>\n",
       "      <th>OBJECTID</th>\n",
       "      <th>TaxYear</th>\n",
       "      <th>Owner</th>\n",
       "      <th>ParcelID</th>\n",
       "      <th>Address</th>\n",
       "      <th>AddrStreet</th>\n",
       "      <th>TaxDist</th>\n",
       "      <th>LUCode</th>\n",
       "      <th>NbrHood</th>\n",
       "      <th>TotAppr</th>\n",
       "      <th>TotAssess</th>\n",
       "      <th>LandAppr</th>\n",
       "      <th>LandAssess</th>\n",
       "      <th>LivUnits</th>\n",
       "      <th>LandAcres</th>\n",
       "    </tr>\n",
       "  </thead>\n",
       "  <tbody>\n",
       "    <tr>\n",
       "      <th>0</th>\n",
       "      <td>10</td>\n",
       "      <td>2009</td>\n",
       "      <td>MALLORY TAMIKA</td>\n",
       "      <td>14 0245  LL2979</td>\n",
       "      <td>904 SOCIETY CIR</td>\n",
       "      <td>NaN</td>\n",
       "      <td>05</td>\n",
       "      <td>107</td>\n",
       "      <td>14593</td>\n",
       "      <td>0</td>\n",
       "      <td>0</td>\n",
       "      <td>0</td>\n",
       "      <td>NaN</td>\n",
       "      <td>1.0</td>\n",
       "      <td>NaN</td>\n",
       "    </tr>\n",
       "    <tr>\n",
       "      <th>1</th>\n",
       "      <td>11</td>\n",
       "      <td>2009</td>\n",
       "      <td>BELL EDWINA S</td>\n",
       "      <td>14 0245  LL2987</td>\n",
       "      <td>906 SOCIETY CIR</td>\n",
       "      <td>NaN</td>\n",
       "      <td>05</td>\n",
       "      <td>107</td>\n",
       "      <td>14593</td>\n",
       "      <td>0</td>\n",
       "      <td>0</td>\n",
       "      <td>0</td>\n",
       "      <td>NaN</td>\n",
       "      <td>1.0</td>\n",
       "      <td>NaN</td>\n",
       "    </tr>\n",
       "    <tr>\n",
       "      <th>2</th>\n",
       "      <td>16</td>\n",
       "      <td>2009</td>\n",
       "      <td>CB HABERSHAM III LLC</td>\n",
       "      <td>17 009800110426</td>\n",
       "      <td>3564 ROSWELL RD UNIT 55</td>\n",
       "      <td>NaN</td>\n",
       "      <td>05</td>\n",
       "      <td>107</td>\n",
       "      <td>1177</td>\n",
       "      <td>0</td>\n",
       "      <td>0</td>\n",
       "      <td>0</td>\n",
       "      <td>NaN</td>\n",
       "      <td>1.0</td>\n",
       "      <td>NaN</td>\n",
       "    </tr>\n",
       "    <tr>\n",
       "      <th>3</th>\n",
       "      <td>19</td>\n",
       "      <td>2009</td>\n",
       "      <td>HOUSING AUTH OF THE CITY OF ATLANTA THE</td>\n",
       "      <td>17 0225  LL0566</td>\n",
       "      <td>1565 HABERSHAL RD</td>\n",
       "      <td>NaN</td>\n",
       "      <td>05V</td>\n",
       "      <td>600</td>\n",
       "      <td>14091</td>\n",
       "      <td>0</td>\n",
       "      <td>0</td>\n",
       "      <td>0</td>\n",
       "      <td>NaN</td>\n",
       "      <td>0.0</td>\n",
       "      <td>NaN</td>\n",
       "    </tr>\n",
       "    <tr>\n",
       "      <th>4</th>\n",
       "      <td>7627</td>\n",
       "      <td>2009</td>\n",
       "      <td>CHAMPAGNE DEIDRA</td>\n",
       "      <td>17 015200071001</td>\n",
       "      <td>684 ANTONE ST NW UNIT 105</td>\n",
       "      <td>NaN</td>\n",
       "      <td>05</td>\n",
       "      <td>398</td>\n",
       "      <td>C405</td>\n",
       "      <td>0</td>\n",
       "      <td>0</td>\n",
       "      <td>0</td>\n",
       "      <td>NaN</td>\n",
       "      <td>0.0</td>\n",
       "      <td>NaN</td>\n",
       "    </tr>\n",
       "  </tbody>\n",
       "</table>\n",
       "</div>"
      ],
      "text/plain": [
       "   OBJECTID  TaxYear                                    Owner  \\\n",
       "0        10     2009                           MALLORY TAMIKA   \n",
       "1        11     2009                            BELL EDWINA S   \n",
       "2        16     2009                     CB HABERSHAM III LLC   \n",
       "3        19     2009  HOUSING AUTH OF THE CITY OF ATLANTA THE   \n",
       "4      7627     2009                         CHAMPAGNE DEIDRA   \n",
       "\n",
       "          ParcelID                    Address AddrStreet TaxDist LUCode  \\\n",
       "0  14 0245  LL2979            904 SOCIETY CIR        NaN      05    107   \n",
       "1  14 0245  LL2987            906 SOCIETY CIR        NaN      05    107   \n",
       "2  17 009800110426    3564 ROSWELL RD UNIT 55        NaN      05    107   \n",
       "3  17 0225  LL0566          1565 HABERSHAL RD        NaN     05V    600   \n",
       "4  17 015200071001  684 ANTONE ST NW UNIT 105        NaN      05    398   \n",
       "\n",
       "  NbrHood  TotAppr  TotAssess  LandAppr  LandAssess  LivUnits  LandAcres  \n",
       "0   14593        0          0         0         NaN       1.0        NaN  \n",
       "1   14593        0          0         0         NaN       1.0        NaN  \n",
       "2    1177        0          0         0         NaN       1.0        NaN  \n",
       "3   14091        0          0         0         NaN       0.0        NaN  \n",
       "4    C405        0          0         0         NaN       0.0        NaN  "
      ]
     },
     "execution_count": 2,
     "metadata": {},
     "output_type": "execute_result"
    }
   ],
   "source": [
    "col_type = {'TaxYear' : 'int16', 'TotAppr' : 'int32', 'TotAssess' : 'int32', 'LandAppr' : 'int32'}\n",
    "atlanta_df = pd.read_csv(r'CleanedAtlantaPropertyData_2009-2022.csv', sep=',', dtype=col_type)\n",
    "atlanta_df.head(3)"
   ]
  },
  {
   "cell_type": "code",
   "execution_count": 3,
   "id": "18935e91-9df8-4aaf-8634-2f3553333d12",
   "metadata": {
    "tags": []
   },
   "outputs": [
    {
     "data": {
      "text/plain": [
       "array([2009, 2010, 2011, 2012, 2013, 2014, 2015, 2016, 2017, 2018, 2019,\n",
       "       2020, 2021, 2023], dtype=int16)"
      ]
     },
     "execution_count": 3,
     "metadata": {},
     "output_type": "execute_result"
    }
   ],
   "source": [
    "atlanta_df['TaxYear'].unique()\n",
    "# There is no 2022 data. I don't know if they mislabeled the db or got 2023 done early."
   ]
  },
  {
   "cell_type": "code",
   "execution_count": 53,
   "id": "e5eca1a1-941e-4a4a-83ad-361e3b2cdd46",
   "metadata": {
    "tags": []
   },
   "outputs": [
    {
     "data": {
      "text/html": [
       "<div>\n",
       "<style scoped>\n",
       "    .dataframe tbody tr th:only-of-type {\n",
       "        vertical-align: middle;\n",
       "    }\n",
       "\n",
       "    .dataframe tbody tr th {\n",
       "        vertical-align: top;\n",
       "    }\n",
       "\n",
       "    .dataframe thead th {\n",
       "        text-align: right;\n",
       "    }\n",
       "</style>\n",
       "<table border=\"1\" class=\"dataframe\">\n",
       "  <thead>\n",
       "    <tr style=\"text-align: right;\">\n",
       "      <th></th>\n",
       "      <th>TaxYear</th>\n",
       "      <th>Owner</th>\n",
       "      <th>ParcelID</th>\n",
       "    </tr>\n",
       "  </thead>\n",
       "  <tbody>\n",
       "    <tr>\n",
       "      <th>2</th>\n",
       "      <td>2009</td>\n",
       "      <td>CB HABERSHAM III LLC</td>\n",
       "      <td>17 009800110426</td>\n",
       "    </tr>\n",
       "    <tr>\n",
       "      <th>204749</th>\n",
       "      <td>2010</td>\n",
       "      <td>SBN TRUST THE</td>\n",
       "      <td>17 009800110426</td>\n",
       "    </tr>\n",
       "    <tr>\n",
       "      <th>403527</th>\n",
       "      <td>2011</td>\n",
       "      <td>SBN TRUST THE</td>\n",
       "      <td>17 009800110426</td>\n",
       "    </tr>\n",
       "    <tr>\n",
       "      <th>554605</th>\n",
       "      <td>2012</td>\n",
       "      <td>SBN TRUST THE</td>\n",
       "      <td>17 009800110426</td>\n",
       "    </tr>\n",
       "    <tr>\n",
       "      <th>589927</th>\n",
       "      <td>2013</td>\n",
       "      <td>SBN TRUST THE</td>\n",
       "      <td>17 009800110426</td>\n",
       "    </tr>\n",
       "    <tr>\n",
       "      <th>858659</th>\n",
       "      <td>2014</td>\n",
       "      <td>SBN TRUST THE</td>\n",
       "      <td>17 009800110426</td>\n",
       "    </tr>\n",
       "    <tr>\n",
       "      <th>887378</th>\n",
       "      <td>2015</td>\n",
       "      <td>MOSES ELIZABETH LINHART &amp; MOSES MARILYN L</td>\n",
       "      <td>17 009800110426</td>\n",
       "    </tr>\n",
       "    <tr>\n",
       "      <th>1034596</th>\n",
       "      <td>2016</td>\n",
       "      <td>MOSES ELIZABETH LINHART &amp; MOSES MARILYN L</td>\n",
       "      <td>17 009800110426</td>\n",
       "    </tr>\n",
       "    <tr>\n",
       "      <th>1182405</th>\n",
       "      <td>2017</td>\n",
       "      <td>MOSES ELIZABETH LINHART &amp; MOSES MARILYN L</td>\n",
       "      <td>17 009800110426</td>\n",
       "    </tr>\n",
       "    <tr>\n",
       "      <th>1344389</th>\n",
       "      <td>2018</td>\n",
       "      <td>MOSES ELIZABETH LINHART &amp; MOSES MARILYN L</td>\n",
       "      <td>17 009800110426</td>\n",
       "    </tr>\n",
       "    <tr>\n",
       "      <th>1479553</th>\n",
       "      <td>2019</td>\n",
       "      <td>MOSES ELIZABETH LINHART &amp; MOSES MARILYN L</td>\n",
       "      <td>17 009800110426</td>\n",
       "    </tr>\n",
       "    <tr>\n",
       "      <th>1628580</th>\n",
       "      <td>2020</td>\n",
       "      <td>MOSES ELIZABETH LINHART &amp; MOSES MARILYN L</td>\n",
       "      <td>17 009800110426</td>\n",
       "    </tr>\n",
       "    <tr>\n",
       "      <th>1778038</th>\n",
       "      <td>2021</td>\n",
       "      <td>MOSES ELIZABETH LINHART</td>\n",
       "      <td>17 009800110426</td>\n",
       "    </tr>\n",
       "    <tr>\n",
       "      <th>1924725</th>\n",
       "      <td>2023</td>\n",
       "      <td>MOSES ELIZABETH LINHART</td>\n",
       "      <td>17 009800110426</td>\n",
       "    </tr>\n",
       "  </tbody>\n",
       "</table>\n",
       "</div>"
      ],
      "text/plain": [
       "         TaxYear                                      Owner         ParcelID\n",
       "2           2009                       CB HABERSHAM III LLC  17 009800110426\n",
       "204749      2010                              SBN TRUST THE  17 009800110426\n",
       "403527      2011                             SBN TRUST THE   17 009800110426\n",
       "554605      2012                             SBN TRUST THE   17 009800110426\n",
       "589927      2013                             SBN TRUST THE   17 009800110426\n",
       "858659      2014                             SBN TRUST THE   17 009800110426\n",
       "887378      2015  MOSES ELIZABETH LINHART & MOSES MARILYN L  17 009800110426\n",
       "1034596     2016  MOSES ELIZABETH LINHART & MOSES MARILYN L  17 009800110426\n",
       "1182405     2017  MOSES ELIZABETH LINHART & MOSES MARILYN L  17 009800110426\n",
       "1344389     2018  MOSES ELIZABETH LINHART & MOSES MARILYN L  17 009800110426\n",
       "1479553     2019  MOSES ELIZABETH LINHART & MOSES MARILYN L  17 009800110426\n",
       "1628580     2020  MOSES ELIZABETH LINHART & MOSES MARILYN L  17 009800110426\n",
       "1778038     2021                   MOSES ELIZABETH LINHART   17 009800110426\n",
       "1924725     2023                   MOSES ELIZABETH LINHART   17 009800110426"
      ]
     },
     "execution_count": 53,
     "metadata": {},
     "output_type": "execute_result"
    }
   ],
   "source": [
    "test = atlanta_df[['TaxYear', 'Owner', 'ParcelID']]#.set_index('ParcelID', drop=False)\n",
    "id = test.iloc[2]['ParcelID']\n",
    "test[test['ParcelID']==id]\n",
    "#test.loc[id]['Owner']\n"
   ]
  },
  {
   "cell_type": "code",
   "execution_count": null,
   "id": "5819f0b9-e449-44ec-8691-0704ac1e6408",
   "metadata": {
    "jupyter": {
     "source_hidden": true
    },
    "tags": []
   },
   "outputs": [],
   "source": [
    "# Only finds sales where the owner left atlanta the next tax year\n",
    "def parcel_sale(df_list):\n",
    "    ''' returns parcels sold where owner left Atlanta in a given year'''\n",
    "    # feels like a kludgey way to select the next element\n",
    "    i = 0\n",
    "    leave_df = pd.DataFrame( {'ParcelID': [], 'TaxYear': []})\n",
    "    for owner in df_list:\n",
    "        n = i+1\n",
    "        if i == len(df_list)-1:\n",
    "            return sales_df\n",
    "        else:\n",
    "            sales = owner[owner['Owner'].isin(df_list[n]['Owner']) == False]\n",
    "            leave_df = pd.concat([leave_df, sales[['ParcelID', 'TaxYear', 'TaxDist', 'TotAssess',\n",
    "                                                   'TotAppr', 'LivUnits']]])\n",
    "            i += 1     "
   ]
  },
  {
   "cell_type": "code",
   "execution_count": 54,
   "id": "b5e717f8-a77b-41c6-b9b7-9e646dbbe81e",
   "metadata": {
    "tags": []
   },
   "outputs": [
    {
     "data": {
      "text/plain": [
       "'17 009800110426'"
      ]
     },
     "execution_count": 54,
     "metadata": {},
     "output_type": "execute_result"
    }
   ],
   "source": [
    "test.iloc[2]['ParcelID']"
   ]
  },
  {
   "cell_type": "code",
   "execution_count": 55,
   "id": "606d028b-fda9-4fa1-93fb-df9cdeb4883a",
   "metadata": {
    "tags": []
   },
   "outputs": [
    {
     "data": {
      "text/html": [
       "<div>\n",
       "<style scoped>\n",
       "    .dataframe tbody tr th:only-of-type {\n",
       "        vertical-align: middle;\n",
       "    }\n",
       "\n",
       "    .dataframe tbody tr th {\n",
       "        vertical-align: top;\n",
       "    }\n",
       "\n",
       "    .dataframe thead th {\n",
       "        text-align: right;\n",
       "    }\n",
       "</style>\n",
       "<table border=\"1\" class=\"dataframe\">\n",
       "  <thead>\n",
       "    <tr style=\"text-align: right;\">\n",
       "      <th></th>\n",
       "      <th>TaxYear</th>\n",
       "      <th>Owner</th>\n",
       "    </tr>\n",
       "  </thead>\n",
       "  <tbody>\n",
       "    <tr>\n",
       "      <th>2</th>\n",
       "      <td>2009</td>\n",
       "      <td>CB HABERSHAM III LLC</td>\n",
       "    </tr>\n",
       "    <tr>\n",
       "      <th>204749</th>\n",
       "      <td>2010</td>\n",
       "      <td>SBN TRUST THE</td>\n",
       "    </tr>\n",
       "    <tr>\n",
       "      <th>403527</th>\n",
       "      <td>2011</td>\n",
       "      <td>SBN TRUST THE</td>\n",
       "    </tr>\n",
       "    <tr>\n",
       "      <th>554605</th>\n",
       "      <td>2012</td>\n",
       "      <td>SBN TRUST THE</td>\n",
       "    </tr>\n",
       "    <tr>\n",
       "      <th>589927</th>\n",
       "      <td>2013</td>\n",
       "      <td>SBN TRUST THE</td>\n",
       "    </tr>\n",
       "    <tr>\n",
       "      <th>858659</th>\n",
       "      <td>2014</td>\n",
       "      <td>SBN TRUST THE</td>\n",
       "    </tr>\n",
       "    <tr>\n",
       "      <th>887378</th>\n",
       "      <td>2015</td>\n",
       "      <td>MOSES ELIZABETH LINHART &amp; MOSES MARILYN L</td>\n",
       "    </tr>\n",
       "    <tr>\n",
       "      <th>1034596</th>\n",
       "      <td>2016</td>\n",
       "      <td>MOSES ELIZABETH LINHART &amp; MOSES MARILYN L</td>\n",
       "    </tr>\n",
       "    <tr>\n",
       "      <th>1182405</th>\n",
       "      <td>2017</td>\n",
       "      <td>MOSES ELIZABETH LINHART &amp; MOSES MARILYN L</td>\n",
       "    </tr>\n",
       "    <tr>\n",
       "      <th>1344389</th>\n",
       "      <td>2018</td>\n",
       "      <td>MOSES ELIZABETH LINHART &amp; MOSES MARILYN L</td>\n",
       "    </tr>\n",
       "    <tr>\n",
       "      <th>1479553</th>\n",
       "      <td>2019</td>\n",
       "      <td>MOSES ELIZABETH LINHART &amp; MOSES MARILYN L</td>\n",
       "    </tr>\n",
       "    <tr>\n",
       "      <th>1628580</th>\n",
       "      <td>2020</td>\n",
       "      <td>MOSES ELIZABETH LINHART &amp; MOSES MARILYN L</td>\n",
       "    </tr>\n",
       "    <tr>\n",
       "      <th>1778038</th>\n",
       "      <td>2021</td>\n",
       "      <td>MOSES ELIZABETH LINHART</td>\n",
       "    </tr>\n",
       "    <tr>\n",
       "      <th>1924725</th>\n",
       "      <td>2023</td>\n",
       "      <td>MOSES ELIZABETH LINHART</td>\n",
       "    </tr>\n",
       "  </tbody>\n",
       "</table>\n",
       "</div>"
      ],
      "text/plain": [
       "         TaxYear                                      Owner\n",
       "2           2009                       CB HABERSHAM III LLC\n",
       "204749      2010                              SBN TRUST THE\n",
       "403527      2011                             SBN TRUST THE \n",
       "554605      2012                             SBN TRUST THE \n",
       "589927      2013                             SBN TRUST THE \n",
       "858659      2014                             SBN TRUST THE \n",
       "887378      2015  MOSES ELIZABETH LINHART & MOSES MARILYN L\n",
       "1034596     2016  MOSES ELIZABETH LINHART & MOSES MARILYN L\n",
       "1182405     2017  MOSES ELIZABETH LINHART & MOSES MARILYN L\n",
       "1344389     2018  MOSES ELIZABETH LINHART & MOSES MARILYN L\n",
       "1479553     2019  MOSES ELIZABETH LINHART & MOSES MARILYN L\n",
       "1628580     2020  MOSES ELIZABETH LINHART & MOSES MARILYN L\n",
       "1778038     2021                   MOSES ELIZABETH LINHART \n",
       "1924725     2023                   MOSES ELIZABETH LINHART "
      ]
     },
     "execution_count": 55,
     "metadata": {},
     "output_type": "execute_result"
    }
   ],
   "source": [
    "towner = test[test['ParcelID']=='17 009800110426'].filter(items=['TaxYear', 'Owner'])\n",
    "towner"
   ]
  },
  {
   "cell_type": "code",
   "execution_count": 56,
   "id": "4cd4a44d-6668-426c-abaa-83a7809f6eb4",
   "metadata": {
    "tags": []
   },
   "outputs": [
    {
     "data": {
      "text/plain": [
       "'SBN TRUST THE'"
      ]
     },
     "execution_count": 56,
     "metadata": {},
     "output_type": "execute_result"
    }
   ],
   "source": [
    "tl = towner['Owner'].unique()\n",
    "tl[1]"
   ]
  },
  {
   "cell_type": "code",
   "execution_count": 67,
   "id": "437af3d3-7efe-4eff-a4bc-706e8754066e",
   "metadata": {
    "tags": []
   },
   "outputs": [
    {
     "data": {
      "text/plain": [
       "array(['CB HABERSHAM III LLC', 'SBN TRUST THE', 'SBN TRUST THE ',\n",
       "       'MOSES ELIZABETH LINHART & MOSES MARILYN L',\n",
       "       'MOSES ELIZABETH LINHART '], dtype=object)"
      ]
     },
     "execution_count": 67,
     "metadata": {},
     "output_type": "execute_result"
    }
   ],
   "source": [
    "tl"
   ]
  },
  {
   "cell_type": "code",
   "execution_count": 34,
   "id": "912205cd-23a3-461b-8097-59741f16b3df",
   "metadata": {
    "tags": []
   },
   "outputs": [
    {
     "data": {
      "text/plain": [
       "'CB HABERSHAM III LLC'"
      ]
     },
     "execution_count": 34,
     "metadata": {},
     "output_type": "execute_result"
    }
   ],
   "source": [
    "te = towner.iat[0, 1]\n",
    "te"
   ]
  },
  {
   "cell_type": "code",
   "execution_count": 63,
   "id": "49eb0981-60d8-4ad2-a2d5-4c9021c8fd6d",
   "metadata": {
    "tags": []
   },
   "outputs": [
    {
     "data": {
      "text/plain": [
       "1778038"
      ]
     },
     "execution_count": 63,
     "metadata": {},
     "output_type": "execute_result"
    }
   ],
   "source": [
    "towner[towner['Owner']==tl[4]].index[0]"
   ]
  },
  {
   "cell_type": "code",
   "execution_count": null,
   "id": "2831e1f0-5b71-431d-8718-b42ea3ca0eab",
   "metadata": {},
   "outputs": [],
   "source": [
    "def parcel_sales_refactor(df_list):\n",
    "    '''return parcels sold in a given year'''\n",
    "    sold_df = pd.DataFrame({'ParcelID':[], 'TaxYear':[]})\n",
    "    "
   ]
  },
  {
   "cell_type": "code",
   "execution_count": null,
   "id": "57e826f2-d0d8-4758-8801-0da70d2e6484",
   "metadata": {},
   "outputs": [],
   "source": [
    "def year_sales(year_list, sales_df):\n",
    "    '''Takes a list of years and a dataframe of sales records and returns a dict of sales per year'''\n",
    "    sales_per_year = {}\n",
    "    for x in year_list:\n",
    "        sales_per_year[x] = len(sales_df[sales_df['TaxYear']==x])\n",
    "    return sales_per_year"
   ]
  },
  {
   "cell_type": "markdown",
   "id": "b25bf613-2ac7-4d26-988d-a79f8489feec",
   "metadata": {},
   "source": [
    "## Analysis\n",
    "- [ ] which owners changed year to year\n",
    "    - [ ]  How many ['Owner']s have more than one property\n",
    "- [ ] How many parcels changed owners during a given year\n",
    "- [ ] property value year to year.\n",
    "- [ ] Bar Chart sales v time\n",
    "- [ ] Line graph property value\n",
    "- [ ] Changes in livable units\n",
    "- [ ] Local coverage of gentrification v tax records?  \n",
    "| ParcelID | Owner | TaxDist | Subdiv | TotAssess | TotAppr | LivUnits |  \n",
    "|----------|-------|---------|--------|-----------|---------|----------|  \n",
    "- [ ] Whisker plot of value by tax district  \n",
    "    - [ ] x value, y tax dist  \n",
    "    - [ ] color code data  \n",
    "        - Absolute value?  \n",
    "        - Change per year?  \n",
    "### Parcel Sales\n",
    "- [ ] Track parcel sales by year  \n",
    "        - ['PARID'] Record year of sale  \n",
    "        - Record if sale to LLC / INC / CO\n",
    "- [ ] Most sold parcel  \n",
    "- [ ] ['UNIT_NUM'] v sale frequency  \n",
    "- [ ] Single family unit sales by year  \n",
    "### Data changes\n",
    "- 2011 onward ['OWNER1'] --> ['Owner'] "
   ]
  },
  {
   "cell_type": "markdown",
   "id": "e93774f1-a79b-4b5a-a729-7d02101a6424",
   "metadata": {},
   "source": [
    "### parcel_sale algorithm\n",
    "\n",
    "- [ ] Iterate over each ['ParcelID']\n",
    "    - [ ] Check if ['Owner'] is the same  in each dataframe\n",
    "    - [ ] add parcel info to new DF if ['Owner'] changes\n",
    "#### This doesn't work how I wanted it to\n",
    "- [x] Compare 2 data frames to see if the ['Owner'] stayed the same\n",
    "    - [x] create a dataframe of [['ParcelID', 'AssessDifference']] \n",
    "    - [x] pd.concat(join='outer') sales + original dataframe\n",
    "    - [x] move on to the next set of dataframes\n",
    "    - [x] return appended dataframes"
   ]
  },
  {
   "cell_type": "markdown",
   "id": "aa62a651-9c9c-4974-81b8-5cea59c4c8bf",
   "metadata": {},
   "source": [
    "### Sales Analysis\n",
    "- [x] Total number of parcels\n",
    "    - [x] Change in parcel count over time\n",
    "- [ ] Frequently sold parcels\n",
    "    - [ ] Unique Owners\n",
    "    - [ ] Year sold\n",
    "- [ ] Most active TaxDist\n",
    "- [ ] Highest TotAppr\n",
    "- [ ] Sales per year"
   ]
  },
  {
   "cell_type": "code",
   "execution_count": null,
   "id": "5e0cf5e1-006c-4359-8c1d-eaf0acbcfea5",
   "metadata": {},
   "outputs": [],
   "source": [
    "# find which years have data\n",
    "years = atlanta_df['TaxYear'].unique()\n",
    "# index on year. Could do drop=False but keeping the old df seems like a good idea currently.....(foreshadowing?)\n",
    "year_df = atlanta_df.set_index('TaxYear')"
   ]
  },
  {
   "cell_type": "code",
   "execution_count": null,
   "id": "177200e5-bbf2-467d-a202-0dc35bcce014",
   "metadata": {},
   "outputs": [],
   "source": [
    "# find properties that have changed owner in the past year.\n",
    "year_df[year_df.loc[2009]['Owner'].isin(year_df.loc[2010]['Owner']) == False]"
   ]
  },
  {
   "cell_type": "code",
   "execution_count": null,
   "id": "89877a6d-d5f6-44b6-be3b-441d2e3c3786",
   "metadata": {},
   "outputs": [],
   "source": [
    "# subset property owned by an LLC. Should expand to any company.\n",
    "# LLC, LP, CORP, \n",
    "Parcels_10[Parcels_10['Owner'].str.contains('LLC')].head()"
   ]
  },
  {
   "cell_type": "code",
   "execution_count": null,
   "id": "351c11b8-f224-40c9-88d5-039ebacd9963",
   "metadata": {},
   "outputs": [],
   "source": [
    "# number of unique companies that own property. Should expand to any company.\n",
    "# LLC, LP, CORP,\n",
    "atlanta_df[atlanta_df['Owner'].str.contains('LLC')]['Owner'].unique().size"
   ]
  },
  {
   "cell_type": "code",
   "execution_count": null,
   "id": "6be80a22-fbdb-4367-a967-25cf5d755f3c",
   "metadata": {},
   "outputs": [],
   "source": [
    "# explore subdivision data\n",
    "Parcels_15['SubdivBlck'].unique()"
   ]
  },
  {
   "cell_type": "markdown",
   "id": "98ee59db-9077-46d7-bd25-fe12736aeb0b",
   "metadata": {},
   "source": [
    "## WTF \n",
    "- Antioch Baptist Church Of Atlanta Cemetary  \n",
    "    - Assessed to be worth $1.3B   \n",
    "    - https://iaspublicaccess.fultoncountyga.gov/Datalets/Datalet.aspx?sIndex=0&idx=1  "
   ]
  },
  {
   "cell_type": "markdown",
   "id": "2887af27-173d-4ab1-bf5e-2214a02f8928",
   "metadata": {},
   "source": [
    "## This is markdown ya goof!\n",
    "year_list = [int(pd.unique(df['TaxYear'])) for df in dfs]  \n",
    "parcel_data = pd.concat(dfs, keys=[year_list])\n",
    "parcel_data"
   ]
  },
  {
   "cell_type": "code",
   "execution_count": 47,
   "id": "d89c7739-9632-4d9e-86da-e4f7a3c4d3ab",
   "metadata": {
    "tags": []
   },
   "outputs": [
    {
     "data": {
      "text/html": [
       "<div>\n",
       "<style scoped>\n",
       "    .dataframe tbody tr th:only-of-type {\n",
       "        vertical-align: middle;\n",
       "    }\n",
       "\n",
       "    .dataframe tbody tr th {\n",
       "        vertical-align: top;\n",
       "    }\n",
       "\n",
       "    .dataframe thead th {\n",
       "        text-align: right;\n",
       "    }\n",
       "</style>\n",
       "<table border=\"1\" class=\"dataframe\">\n",
       "  <thead>\n",
       "    <tr style=\"text-align: right;\">\n",
       "      <th></th>\n",
       "      <th>o</th>\n",
       "      <th>p</th>\n",
       "      <th>g</th>\n",
       "      <th>id</th>\n",
       "    </tr>\n",
       "  </thead>\n",
       "  <tbody>\n",
       "    <tr>\n",
       "      <th>0</th>\n",
       "      <td>1</td>\n",
       "      <td>2</td>\n",
       "      <td>3</td>\n",
       "      <td>22</td>\n",
       "    </tr>\n",
       "    <tr>\n",
       "      <th>1</th>\n",
       "      <td>2</td>\n",
       "      <td>3</td>\n",
       "      <td>5</td>\n",
       "      <td>22</td>\n",
       "    </tr>\n",
       "    <tr>\n",
       "      <th>2</th>\n",
       "      <td>3</td>\n",
       "      <td>4</td>\n",
       "      <td>3</td>\n",
       "      <td>12</td>\n",
       "    </tr>\n",
       "    <tr>\n",
       "      <th>3</th>\n",
       "      <td>4</td>\n",
       "      <td>5</td>\n",
       "      <td>5</td>\n",
       "      <td>18</td>\n",
       "    </tr>\n",
       "    <tr>\n",
       "      <th>4</th>\n",
       "      <td>5</td>\n",
       "      <td>6</td>\n",
       "      <td>2</td>\n",
       "      <td>18</td>\n",
       "    </tr>\n",
       "  </tbody>\n",
       "</table>\n",
       "</div>"
      ],
      "text/plain": [
       "   o  p  g  id\n",
       "0  1  2  3  22\n",
       "1  2  3  5  22\n",
       "2  3  4  3  12\n",
       "3  4  5  5  18\n",
       "4  5  6  2  18"
      ]
     },
     "execution_count": 47,
     "metadata": {},
     "output_type": "execute_result"
    }
   ],
   "source": [
    "test = pd.DataFrame({'o': [1, 2, 3, 4, 5], 'p': [2, 3, 4, 5, 6], 'g': [3, 5, 3, 5, 2], 'id':[22, 22, 12, 18, 18]})\n",
    "test"
   ]
  },
  {
   "cell_type": "code",
   "execution_count": 54,
   "id": "70d2d9bc-2b56-4c50-bb14-18f76a75b687",
   "metadata": {
    "tags": []
   },
   "outputs": [
    {
     "data": {
      "text/plain": [
       "MultiIndex([(22, 3),\n",
       "            (22, 5),\n",
       "            (12, 3),\n",
       "            (18, 5),\n",
       "            (18, 2)],\n",
       "           names=['id', 'g'])"
      ]
     },
     "execution_count": 54,
     "metadata": {},
     "output_type": "execute_result"
    }
   ],
   "source": [
    "index = [test['id'], test['g']]\n",
    "idx = pd.MultiIndex.from_arrays(index)\n",
    "idx"
   ]
  },
  {
   "cell_type": "code",
   "execution_count": 65,
   "id": "dbf3522e-b432-4c83-ba7f-d217011748fa",
   "metadata": {
    "tags": []
   },
   "outputs": [
    {
     "data": {
      "text/html": [
       "<div>\n",
       "<style scoped>\n",
       "    .dataframe tbody tr th:only-of-type {\n",
       "        vertical-align: middle;\n",
       "    }\n",
       "\n",
       "    .dataframe tbody tr th {\n",
       "        vertical-align: top;\n",
       "    }\n",
       "\n",
       "    .dataframe thead th {\n",
       "        text-align: right;\n",
       "    }\n",
       "</style>\n",
       "<table border=\"1\" class=\"dataframe\">\n",
       "  <thead>\n",
       "    <tr style=\"text-align: right;\">\n",
       "      <th></th>\n",
       "      <th></th>\n",
       "      <th>o</th>\n",
       "      <th>p</th>\n",
       "    </tr>\n",
       "    <tr>\n",
       "      <th>id</th>\n",
       "      <th>g</th>\n",
       "      <th></th>\n",
       "      <th></th>\n",
       "    </tr>\n",
       "  </thead>\n",
       "  <tbody>\n",
       "    <tr>\n",
       "      <th rowspan=\"2\" valign=\"top\">22</th>\n",
       "      <th>3</th>\n",
       "      <td>1</td>\n",
       "      <td>2</td>\n",
       "    </tr>\n",
       "    <tr>\n",
       "      <th>5</th>\n",
       "      <td>2</td>\n",
       "      <td>3</td>\n",
       "    </tr>\n",
       "    <tr>\n",
       "      <th>12</th>\n",
       "      <th>3</th>\n",
       "      <td>3</td>\n",
       "      <td>4</td>\n",
       "    </tr>\n",
       "    <tr>\n",
       "      <th rowspan=\"2\" valign=\"top\">18</th>\n",
       "      <th>5</th>\n",
       "      <td>4</td>\n",
       "      <td>5</td>\n",
       "    </tr>\n",
       "    <tr>\n",
       "      <th>2</th>\n",
       "      <td>5</td>\n",
       "      <td>6</td>\n",
       "    </tr>\n",
       "  </tbody>\n",
       "</table>\n",
       "</div>"
      ],
      "text/plain": [
       "      o  p\n",
       "id g      \n",
       "22 3  1  2\n",
       "   5  2  3\n",
       "12 3  3  4\n",
       "18 5  4  5\n",
       "   2  5  6"
      ]
     },
     "execution_count": 65,
     "metadata": {},
     "output_type": "execute_result"
    }
   ],
   "source": [
    "t1 = test.set_index(idx, drop=True)\n",
    "t1.drop(['g','id'],axis=1, inplace=True)\n",
    "t1"
   ]
  },
  {
   "cell_type": "code",
   "execution_count": 83,
   "id": "9fb72423-367f-450b-b804-fb522bc5c069",
   "metadata": {
    "tags": []
   },
   "outputs": [
    {
     "ename": "SyntaxError",
     "evalue": "invalid syntax. Maybe you meant '==' or ':=' instead of '='? (153409513.py, line 1)",
     "output_type": "error",
     "traceback": [
      "\u001b[1;36m  Cell \u001b[1;32mIn[83], line 1\u001b[1;36m\u001b[0m\n\u001b[1;33m    t1.xs[3, axis=0, level=1]\u001b[0m\n\u001b[1;37m             ^\u001b[0m\n\u001b[1;31mSyntaxError\u001b[0m\u001b[1;31m:\u001b[0m invalid syntax. Maybe you meant '==' or ':=' instead of '='?\n"
     ]
    }
   ],
   "source": [
    "t1.xs[3, axis=0, level=1]"
   ]
  },
  {
   "cell_type": "code",
   "execution_count": null,
   "id": "466c3f4e-5926-4dd6-9a1a-55e2272b98d1",
   "metadata": {},
   "outputs": [],
   "source": []
  }
 ],
 "metadata": {
  "kernelspec": {
   "display_name": "Python 3 (ipykernel)",
   "language": "python",
   "name": "python3"
  },
  "language_info": {
   "codemirror_mode": {
    "name": "ipython",
    "version": 3
   },
   "file_extension": ".py",
   "mimetype": "text/x-python",
   "name": "python",
   "nbconvert_exporter": "python",
   "pygments_lexer": "ipython3",
   "version": "3.11.1"
  }
 },
 "nbformat": 4,
 "nbformat_minor": 5
}
