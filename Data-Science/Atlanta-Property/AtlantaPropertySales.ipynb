{
 "cells": [
  {
   "cell_type": "code",
   "execution_count": 3,
   "id": "07537feb-f718-43ac-881f-52143f0f8f01",
   "metadata": {},
   "outputs": [],
   "source": [
    "import pandas as pd              # v1.4.3\n",
    "import numpy as np               # v1.20.1\n",
    "import matplotlib.pyplot as plt  # v3.5.2\n",
    "import folium                    # v0.12.1.post1"
   ]
  },
  {
   "cell_type": "code",
   "execution_count": null,
   "id": "0eb980bd-c813-49ef-be7c-eb6fa2062918",
   "metadata": {},
   "outputs": [],
   "source": [
    "col_type = {'TaxYear' : 'int16', 'TotAppr' : 'int32', 'TotAssess' : 'int32', 'LandAppr' : 'int32'}\n",
    "atlanta_df = pd.read_csv(r'CleanedAtlantaPropertyData_2009-2022.csv', sep=',', dtype=col_type)\n",
    "atlanta_df.info"
   ]
  },
  {
   "cell_type": "code",
   "execution_count": null,
   "id": "5819f0b9-e449-44ec-8691-0704ac1e6408",
   "metadata": {
    "tags": []
   },
   "outputs": [],
   "source": [
    "# Only finds sales where the owner left atlanta the next tax year\n",
    "def parcel_sale(df_list):\n",
    "    ''' returns parcels sold in a given year'''\n",
    "    # feels like a kludgey way to select the next element\n",
    "    i = 0\n",
    "    leave_df = pd.DataFrame( {'ParcelID': [], 'TaxYear': []})\n",
    "    for owner in df_list:\n",
    "        n = i+1\n",
    "        if i == len(df_list)-1:\n",
    "            return sales_df\n",
    "        else:\n",
    "            sales = owner[owner['Owner'].isin(df_list[n]['Owner']) == False]\n",
    "            leave_df = pd.concat([leave_df, sales[['ParcelID', 'TaxYear', 'TaxDist', 'TotAssess',\n",
    "                                                   'TotAppr', 'LivUnits']]])\n",
    "            i += 1     "
   ]
  },
  {
   "cell_type": "code",
   "execution_count": null,
   "id": "57e826f2-d0d8-4758-8801-0da70d2e6484",
   "metadata": {},
   "outputs": [],
   "source": [
    "def year_sales(year_list, sales_df):\n",
    "    '''Takes a list of years and a dataframe of sales records and returns a dict of sales per year'''\n",
    "    sales_per_year = {}\n",
    "    for x in year_list:\n",
    "        sales_per_year[x] = len(sales_df[sales_df['TaxYear']==x])\n",
    "    return sales_per_year"
   ]
  },
  {
   "cell_type": "markdown",
   "id": "b25bf613-2ac7-4d26-988d-a79f8489feec",
   "metadata": {},
   "source": [
    "## Analysis\n",
    "- [ ] Bar Chart sales v time\n",
    "- [ ] Line graph property value\n",
    "- [ ] Changes in livable units\n",
    "- [ ] Local coverage of gentrification v tax records?  \n",
    "| ParcelID | Owner | TaxDist | Subdiv | TotAssess | TotAppr | LivUnits |  \n",
    "|----------|-------|---------|--------|-----------|---------|----------|  \n",
    "- [ ] Whisker plot of value by tax district  \n",
    "    - [ ] x value, y tax dist  \n",
    "    - [ ] color code data  \n",
    "        - Absolute value?  \n",
    "        - Change per year?  \n",
    "### Parcel Sales\n",
    "- [ ] Track parcel sales by year  \n",
    "        - ['PARID'] Record year of sale  \n",
    "        - Record if sale to LLC / INC / CO\n",
    "- [ ] Most sold parcel  \n",
    "- [ ] ['UNIT_NUM'] v sale frequency  \n",
    "- [ ] Single family unit sales by year  \n",
    "### Data changes\n",
    "- 2011 onward ['OWNER1'] --> ['Owner'] "
   ]
  },
  {
   "cell_type": "markdown",
   "id": "e93774f1-a79b-4b5a-a729-7d02101a6424",
   "metadata": {},
   "source": [
    "### parcel_sale algorithm\n",
    "- [ ] Iterate over each ['ParcelID']\n",
    "    - [ ] Check if ['Owner'] is the same  in each dataframe\n",
    "#### This doesn't work how I wanted it to\n",
    "- [x] Compare 2 data frames to see if the ['Owner'] stayed the same\n",
    "    - [x] create a dataframe of [['ParcelID', 'AssessDifference']] \n",
    "    - [x] pd.concat(join='outer') sales + original dataframe\n",
    "    - [x] move on to the next set of dataframes\n",
    "    - [x] return appended dataframes"
   ]
  },
  {
   "cell_type": "markdown",
   "id": "aa62a651-9c9c-4974-81b8-5cea59c4c8bf",
   "metadata": {},
   "source": [
    "### Sales Analysis\n",
    "- [x] Total number of parcels\n",
    "    - [x] Change in parcel count over time\n",
    "- [ ] Frequently sold parcels\n",
    "- [ ] Most active TaxDist\n",
    "- [ ] Highest TotAppr\n",
    "- [ ] Sales per year"
   ]
  },
  {
   "cell_type": "code",
   "execution_count": null,
   "id": "5e0cf5e1-006c-4359-8c1d-eaf0acbcfea5",
   "metadata": {},
   "outputs": [],
   "source": [
    "# find which years have data\n",
    "years = atlanta_df['TaxYear'].unique()\n",
    "# index on year. Could do drop=False but keeping the old df seems like a good idea currently.....(foreshadowing?)\n",
    "year_df = atlanta_df.set_index('TaxYear')"
   ]
  },
  {
   "cell_type": "code",
   "execution_count": null,
   "id": "177200e5-bbf2-467d-a202-0dc35bcce014",
   "metadata": {},
   "outputs": [],
   "source": [
    "# find properties that have changed owner in the past year.\n",
    "year_df[year_df.loc[2009]['Owner'].isin(year_df.loc[2010]['Owner']) == False]"
   ]
  },
  {
   "cell_type": "code",
   "execution_count": null,
   "id": "89877a6d-d5f6-44b6-be3b-441d2e3c3786",
   "metadata": {},
   "outputs": [],
   "source": [
    "# subset property owned by an LLC. Should expand to any company.\n",
    "# LLC, LP, CORP, \n",
    "Parcels_10[Parcels_10['Owner'].str.contains('LLC')].head()"
   ]
  },
  {
   "cell_type": "code",
   "execution_count": null,
   "id": "351c11b8-f224-40c9-88d5-039ebacd9963",
   "metadata": {},
   "outputs": [],
   "source": [
    "# number of unique companies that own property. Should expand to any company.\n",
    "# LLC, LP, CORP,\n",
    "atlanta_df[atlanta_df['Owner'].str.contains('LLC')]['Owner'].unique().size"
   ]
  },
  {
   "cell_type": "code",
   "execution_count": null,
   "id": "6be80a22-fbdb-4367-a967-25cf5d755f3c",
   "metadata": {},
   "outputs": [],
   "source": [
    "# explore subdivision data\n",
    "Parcels_15['SubdivBlck'].unique()"
   ]
  },
  {
   "cell_type": "markdown",
   "id": "98ee59db-9077-46d7-bd25-fe12736aeb0b",
   "metadata": {},
   "source": [
    "## WTF \n",
    "- Antioch Baptist Church Of Atlanta Cemetary  \n",
    "    - Assessed to be worth $1.3B   \n",
    "    - https://iaspublicaccess.fultoncountyga.gov/Datalets/Datalet.aspx?sIndex=0&idx=1  "
   ]
  },
  {
   "cell_type": "markdown",
   "id": "2887af27-173d-4ab1-bf5e-2214a02f8928",
   "metadata": {},
   "source": [
    "## This is markdown ya goof!\n",
    "year_list = [int(pd.unique(df['TaxYear'])) for df in dfs]  \n",
    "parcel_data = pd.concat(dfs, keys=[year_list])\n",
    "parcel_data"
   ]
  },
  {
   "cell_type": "code",
   "execution_count": 25,
   "id": "d89c7739-9632-4d9e-86da-e4f7a3c4d3ab",
   "metadata": {},
   "outputs": [],
   "source": [
    "test = pd.DataFrame({'o': [1, 2, 3, 4, 5], 'p': [2, 3, 4, 5, 6], 'g': [3, 5, 3, 5, 2]})\n",
    "test.set_index('g', inplace=True)"
   ]
  },
  {
   "cell_type": "code",
   "execution_count": 26,
   "id": "70d2d9bc-2b56-4c50-bb14-18f76a75b687",
   "metadata": {},
   "outputs": [
    {
     "data": {
      "text/plain": [
       "g\n",
       "3    2\n",
       "3    4\n",
       "Name: p, dtype: int64"
      ]
     },
     "execution_count": 26,
     "metadata": {},
     "output_type": "execute_result"
    }
   ],
   "source": [
    "test.loc[3]['p']"
   ]
  },
  {
   "cell_type": "code",
   "execution_count": null,
   "id": "dbf3522e-b432-4c83-ba7f-d217011748fa",
   "metadata": {},
   "outputs": [],
   "source": []
  }
 ],
 "metadata": {
  "kernelspec": {
   "display_name": "Python 3",
   "language": "python",
   "name": "python3"
  },
  "language_info": {
   "codemirror_mode": {
    "name": "ipython",
    "version": 3
   },
   "file_extension": ".py",
   "mimetype": "text/x-python",
   "name": "python",
   "nbconvert_exporter": "python",
   "pygments_lexer": "ipython3",
   "version": "3.9.1"
  }
 },
 "nbformat": 4,
 "nbformat_minor": 5
}
